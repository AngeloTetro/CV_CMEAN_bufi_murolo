{
 "cells": [
  {
   "cell_type": "code",
   "execution_count": 1,
   "id": "383bdbf0-786d-47fb-9588-f4b971e99877",
   "metadata": {},
   "outputs": [
    {
     "name": "stdout",
     "output_type": "stream",
     "text": [
      "Using device: cpu\n",
      "✅ CLAP model loaded successfully.\n",
      "\n",
      "Reading data from CSV file: C:\\Users\\edoar\\Downloads\\audio_analysis_full_folder (2).csv\n",
      "\n",
      "Anteprima del DataFrame:\n",
      "    Song Name Description Type  \\\n",
      "0  000002.mp3       Fragment 1   \n",
      "1                   Fragment 2   \n",
      "2                   Fragment 3   \n",
      "3                   Fragment 4   \n",
      "4                        Total   \n",
      "5  000005.mp3       Fragment 1   \n",
      "6                   Fragment 2   \n",
      "7                   Fragment 3   \n",
      "8                   Fragment 4   \n",
      "9                        Total   \n",
      "\n",
      "                                         Description  \n",
      "0  The first quarter of the audio features a hip-...  \n",
      "1  In the second half of the audio snippet, there...  \n",
      "2  The third and final segment features a male vo...  \n",
      "3  The fourth fragment of the audio features a hi...  \n",
      "4  The song is a hip-hop track with a distinctioa...  \n",
      "5  The first quarter of the audio features a hip-...  \n",
      "6  The second fragment features a male voice rapp...  \n",
      "7  The third and fourth segments of the audio fea...  \n",
      "8  The fourth fragment of the audio features a ma...  \n",
      "9  The song features heavy usage of brass instrum...  \n",
      "\n",
      "Colonne disponibili:\n",
      "['Song Name', 'Description Type', 'Description']\n",
      "\n",
      "Inizio la ricerca di nomi file audio e descrizioni allineate...\n"
     ]
    },
    {
     "name": "stderr",
     "output_type": "stream",
     "text": [
      "Analisi righe CSV: 100%|██████████████████████████████████████████████████████████| 500/500 [00:00<00:00, 11837.42it/s]"
     ]
    },
    {
     "name": "stdout",
     "output_type": "stream",
     "text": [
      "\n",
      "✅ Trovati 100 file audio e 100 descrizioni allineate dopo il filtro.\n",
      "\n",
      "Elenco completo dei file audio estratti dal CSV (dopo il filtro 'Fragment' e allineamento 'Total'):\n",
      "1. '000002.mp3'\n",
      "2. '000005.mp3'\n",
      "3. '000010.mp3'\n",
      "4. '000140.mp3'\n",
      "5. '000141.mp3'\n",
      "6. '000148.mp3'\n",
      "7. '000182.mp3'\n",
      "8. '000190.mp3'\n",
      "9. '000193.mp3'\n",
      "10. '000194.mp3'\n",
      "...\n"
     ]
    },
    {
     "name": "stderr",
     "output_type": "stream",
     "text": [
      "\n"
     ]
    },
    {
     "name": "stdout",
     "output_type": "stream",
     "text": [
      "\n",
      "✅ Extracted 100 audio filenames and 100 cleaned total descriptions from CSV.\n",
      "\n",
      "Extracting embeddings and computing similarities:\n"
     ]
    },
    {
     "name": "stderr",
     "output_type": "stream",
     "text": [
      "Processing Pairs:   0%|                                                                        | 0/100 [00:00<?, ?it/s]"
     ]
    },
    {
     "name": "stdout",
     "output_type": "stream",
     "text": [
      "\n",
      "Processing file: '000002.mp3'\n",
      "Processing audio: 'C:\\Users\\edoar\\Desktop\\le musiche\\000\\000002.mp3'\n",
      "Processing text: 'The song is hiphop track with distinctioable nosta...'\n"
     ]
    },
    {
     "name": "stderr",
     "output_type": "stream",
     "text": [
      "Processing Pairs:   1%|▋                                                               | 1/100 [00:01<03:01,  1.83s/it]"
     ]
    },
    {
     "name": "stdout",
     "output_type": "stream",
     "text": [
      "✅ Successfully processed '000002.mp3'\n",
      "\n",
      "Processing file: '000005.mp3'\n",
      "Processing audio: 'C:\\Users\\edoar\\Desktop\\le musiche\\000\\000005.mp3'\n",
      "Processing text: 'The song features heavy usage of brass instruments...'\n"
     ]
    },
    {
     "name": "stderr",
     "output_type": "stream",
     "text": [
      "Processing Pairs:   2%|█▎                                                              | 2/100 [00:03<02:31,  1.55s/it]"
     ]
    },
    {
     "name": "stdout",
     "output_type": "stream",
     "text": [
      "✅ Successfully processed '000005.mp3'\n",
      "\n",
      "Processing file: '000010.mp3'\n",
      "Processing audio: 'C:\\Users\\edoar\\Desktop\\le musiche\\000\\000010.mp3'\n",
      "Processing text: 'The song features lively rhythm section with drums...'\n"
     ]
    },
    {
     "name": "stderr",
     "output_type": "stream",
     "text": [
      "Processing Pairs:   3%|█▉                                                              | 3/100 [00:04<02:21,  1.46s/it]"
     ]
    },
    {
     "name": "stdout",
     "output_type": "stream",
     "text": [
      "✅ Successfully processed '000010.mp3'\n",
      "\n",
      "Processing file: '000140.mp3'\n",
      "Processing audio: 'C:\\Users\\edoar\\Desktop\\le musiche\\000\\000140.mp3'\n",
      "Processing text: 'The song features blend of acoustic and electric g...'\n"
     ]
    },
    {
     "name": "stderr",
     "output_type": "stream",
     "text": [
      "Processing Pairs:   4%|██▌                                                             | 4/100 [00:05<02:17,  1.44s/it]"
     ]
    },
    {
     "name": "stdout",
     "output_type": "stream",
     "text": [
      "✅ Successfully processed '000140.mp3'\n",
      "\n",
      "Processing file: '000141.mp3'\n",
      "Processing audio: 'C:\\Users\\edoar\\Desktop\\le musiche\\000\\000141.mp3'\n",
      "Processing text: 'The song features rich blend of instruments primar...'\n"
     ]
    },
    {
     "name": "stderr",
     "output_type": "stream",
     "text": [
      "Processing Pairs:   5%|███▏                                                            | 5/100 [00:07<02:15,  1.42s/it]"
     ]
    },
    {
     "name": "stdout",
     "output_type": "stream",
     "text": [
      "✅ Successfully processed '000141.mp3'\n",
      "\n",
      "Processing file: '000148.mp3'\n",
      "Processing audio: 'C:\\Users\\edoar\\Desktop\\le musiche\\000\\000148.mp3'\n",
      "Processing text: 'The audio features fastpaced experimental noise tr...'\n"
     ]
    },
    {
     "name": "stderr",
     "output_type": "stream",
     "text": [
      "Processing Pairs:   6%|███▊                                                            | 6/100 [00:08<02:16,  1.45s/it]"
     ]
    },
    {
     "name": "stdout",
     "output_type": "stream",
     "text": [
      "✅ Successfully processed '000148.mp3'\n",
      "\n",
      "Processing file: '000182.mp3'\n",
      "Processing audio: 'C:\\Users\\edoar\\Desktop\\le musiche\\000\\000182.mp3'\n",
      "Processing text: 'The provided song features rock and pop genre with...'\n"
     ]
    },
    {
     "name": "stderr",
     "output_type": "stream",
     "text": [
      "Processing Pairs:   7%|████▍                                                           | 7/100 [00:10<02:10,  1.40s/it]"
     ]
    },
    {
     "name": "stdout",
     "output_type": "stream",
     "text": [
      "✅ Successfully processed '000182.mp3'\n",
      "\n",
      "Processing file: '000190.mp3'\n",
      "Processing audio: 'C:\\Users\\edoar\\Desktop\\le musiche\\000\\000190.mp3'\n",
      "Processing text: 'The song features guitar and piano playing togethe...'\n"
     ]
    },
    {
     "name": "stderr",
     "output_type": "stream",
     "text": [
      "Processing Pairs:   8%|█████                                                           | 8/100 [00:11<02:10,  1.42s/it]"
     ]
    },
    {
     "name": "stdout",
     "output_type": "stream",
     "text": [
      "✅ Successfully processed '000190.mp3'\n",
      "\n",
      "Processing file: '000193.mp3'\n",
      "Processing audio: 'C:\\Users\\edoar\\Desktop\\le musiche\\000\\000193.mp3'\n",
      "Processing text: 'The audio features pop ballad with dominant piano ...'\n"
     ]
    },
    {
     "name": "stderr",
     "output_type": "stream",
     "text": [
      "Processing Pairs:   9%|█████▊                                                          | 9/100 [00:12<02:05,  1.38s/it]"
     ]
    },
    {
     "name": "stdout",
     "output_type": "stream",
     "text": [
      "✅ Successfully processed '000193.mp3'\n",
      "\n",
      "Processing file: '000194.mp3'\n",
      "Processing audio: 'C:\\Users\\edoar\\Desktop\\le musiche\\000\\000194.mp3'\n",
      "Processing text: 'The song features warm acoustic guitar and soothin...'\n"
     ]
    },
    {
     "name": "stderr",
     "output_type": "stream",
     "text": [
      "Processing Pairs:  10%|██████▎                                                        | 10/100 [00:14<02:07,  1.42s/it]"
     ]
    },
    {
     "name": "stdout",
     "output_type": "stream",
     "text": [
      "✅ Successfully processed '000194.mp3'\n",
      "\n",
      "Processing file: '000197.mp3'\n",
      "Processing audio: 'C:\\Users\\edoar\\Desktop\\le musiche\\000\\000197.mp3'\n",
      "Processing text: 'The audio features harpsichord melody with moderat...'\n"
     ]
    },
    {
     "name": "stderr",
     "output_type": "stream",
     "text": [
      "Processing Pairs:  11%|██████▉                                                        | 11/100 [00:15<02:03,  1.39s/it]"
     ]
    },
    {
     "name": "stdout",
     "output_type": "stream",
     "text": [
      "✅ Successfully processed '000197.mp3'\n",
      "\n",
      "Processing file: '000200.mp3'\n",
      "Processing audio: 'C:\\Users\\edoar\\Desktop\\le musiche\\000\\000200.mp3'\n",
      "Processing text: 'The song features guitar playing with warm and ear...'\n"
     ]
    },
    {
     "name": "stderr",
     "output_type": "stream",
     "text": [
      "Processing Pairs:  12%|███████▌                                                       | 12/100 [00:17<02:04,  1.42s/it]"
     ]
    },
    {
     "name": "stdout",
     "output_type": "stream",
     "text": [
      "✅ Successfully processed '000200.mp3'\n",
      "\n",
      "Processing file: '000203.mp3'\n",
      "Processing audio: 'C:\\Users\\edoar\\Desktop\\le musiche\\000\\000203.mp3'\n",
      "Processing text: 'The audio features solo performance of guitarist p...'\n"
     ]
    },
    {
     "name": "stderr",
     "output_type": "stream",
     "text": [
      "Processing Pairs:  13%|████████▏                                                      | 13/100 [00:19<02:13,  1.54s/it]"
     ]
    },
    {
     "name": "stdout",
     "output_type": "stream",
     "text": [
      "✅ Successfully processed '000203.mp3'\n",
      "\n",
      "Processing file: '000204.mp3'\n",
      "Processing audio: 'C:\\Users\\edoar\\Desktop\\le musiche\\000\\000204.mp3'\n",
      "Processing text: 'The song features guitar and strings with laidback...'\n"
     ]
    },
    {
     "name": "stderr",
     "output_type": "stream",
     "text": [
      "Processing Pairs:  14%|████████▊                                                      | 14/100 [00:20<02:11,  1.53s/it]"
     ]
    },
    {
     "name": "stdout",
     "output_type": "stream",
     "text": [
      "✅ Successfully processed '000204.mp3'\n",
      "\n",
      "Processing file: '000207.mp3'\n",
      "Processing audio: 'C:\\Users\\edoar\\Desktop\\le musiche\\000\\000207.mp3'\n",
      "Processing text: 'The song features prominent acoustic guitar that w...'\n"
     ]
    },
    {
     "name": "stderr",
     "output_type": "stream",
     "text": [
      "Processing Pairs:  15%|█████████▍                                                     | 15/100 [00:22<02:13,  1.57s/it]"
     ]
    },
    {
     "name": "stdout",
     "output_type": "stream",
     "text": [
      "✅ Successfully processed '000207.mp3'\n",
      "\n",
      "Processing file: '000210.mp3'\n",
      "Processing audio: 'C:\\Users\\edoar\\Desktop\\le musiche\\000\\000210.mp3'\n",
      "Processing text: 'The song features guitar and strings creating warm...'\n"
     ]
    },
    {
     "name": "stderr",
     "output_type": "stream",
     "text": [
      "Processing Pairs:  16%|██████████                                                     | 16/100 [00:24<02:20,  1.67s/it]"
     ]
    },
    {
     "name": "stdout",
     "output_type": "stream",
     "text": [
      "✅ Successfully processed '000210.mp3'\n",
      "\n",
      "Processing file: '000211.mp3'\n",
      "Processing audio: 'C:\\Users\\edoar\\Desktop\\le musiche\\000\\000211.mp3'\n",
      "Processing text: 'The song features guitar and strings creating folk...'\n"
     ]
    },
    {
     "name": "stderr",
     "output_type": "stream",
     "text": [
      "Processing Pairs:  17%|██████████▋                                                    | 17/100 [00:25<02:16,  1.64s/it]"
     ]
    },
    {
     "name": "stdout",
     "output_type": "stream",
     "text": [
      "✅ Successfully processed '000211.mp3'\n",
      "\n",
      "Processing file: '000212.mp3'\n",
      "Processing audio: 'C:\\Users\\edoar\\Desktop\\le musiche\\000\\000212.mp3'\n",
      "Processing text: 'The song features blend of acoustic and electric g...'\n"
     ]
    },
    {
     "name": "stderr",
     "output_type": "stream",
     "text": [
      "Processing Pairs:  18%|███████████▎                                                   | 18/100 [00:27<02:23,  1.75s/it]"
     ]
    },
    {
     "name": "stdout",
     "output_type": "stream",
     "text": [
      "✅ Successfully processed '000212.mp3'\n",
      "\n",
      "Processing file: '000213.mp3'\n",
      "Processing audio: 'C:\\Users\\edoar\\Desktop\\le musiche\\000\\000213.mp3'\n",
      "Processing text: 'The provided song features haunting melody carried...'\n"
     ]
    },
    {
     "name": "stderr",
     "output_type": "stream",
     "text": [
      "Processing Pairs:  19%|███████████▉                                                   | 19/100 [00:29<02:24,  1.78s/it]"
     ]
    },
    {
     "name": "stdout",
     "output_type": "stream",
     "text": [
      "✅ Successfully processed '000213.mp3'\n",
      "\n",
      "Processing file: '000255.mp3'\n",
      "Processing audio: 'C:\\Users\\edoar\\Desktop\\le musiche\\000\\000255.mp3'\n",
      "Processing text: 'The song features variety of instruments including...'\n"
     ]
    },
    {
     "name": "stderr",
     "output_type": "stream",
     "text": [
      "Processing Pairs:  20%|████████████▌                                                  | 20/100 [00:30<02:05,  1.57s/it]"
     ]
    },
    {
     "name": "stdout",
     "output_type": "stream",
     "text": [
      "✅ Successfully processed '000255.mp3'\n",
      "\n",
      "Processing file: '000256.mp3'\n",
      "Processing audio: 'C:\\Users\\edoar\\Desktop\\le musiche\\000\\000256.mp3'\n",
      "Processing text: 'The song features dynamic chord progression with i...'\n"
     ]
    },
    {
     "name": "stderr",
     "output_type": "stream",
     "text": [
      "Processing Pairs:  21%|█████████████▏                                                 | 21/100 [00:31<01:58,  1.50s/it]"
     ]
    },
    {
     "name": "stdout",
     "output_type": "stream",
     "text": [
      "✅ Successfully processed '000256.mp3'\n",
      "\n",
      "Processing file: '000368.mp3'\n",
      "Processing audio: 'C:\\Users\\edoar\\Desktop\\le musiche\\000\\000368.mp3'\n",
      "Processing text: 'The provided audio features lively rock piece with...'\n"
     ]
    },
    {
     "name": "stderr",
     "output_type": "stream",
     "text": [
      "Processing Pairs:  22%|█████████████▊                                                 | 22/100 [00:33<01:54,  1.46s/it]"
     ]
    },
    {
     "name": "stdout",
     "output_type": "stream",
     "text": [
      "✅ Successfully processed '000368.mp3'\n",
      "\n",
      "Processing file: '000424.mp3'\n",
      "Processing audio: 'C:\\Users\\edoar\\Desktop\\le musiche\\000\\000424.mp3'\n",
      "Processing text: 'The provided audio clip features unique blend of e...'\n"
     ]
    },
    {
     "name": "stderr",
     "output_type": "stream",
     "text": [
      "Processing Pairs:  23%|██████████████▍                                                | 23/100 [00:34<01:53,  1.48s/it]"
     ]
    },
    {
     "name": "stdout",
     "output_type": "stream",
     "text": [
      "✅ Successfully processed '000424.mp3'\n",
      "\n",
      "Processing file: '000459.mp3'\n",
      "Processing audio: 'C:\\Users\\edoar\\Desktop\\le musiche\\000\\000459.mp3'\n",
      "Processing text: 'The song features blend of instruments typical to ...'\n"
     ]
    },
    {
     "name": "stderr",
     "output_type": "stream",
     "text": [
      "Processing Pairs:  24%|███████████████                                                | 24/100 [00:36<01:51,  1.47s/it]"
     ]
    },
    {
     "name": "stdout",
     "output_type": "stream",
     "text": [
      "✅ Successfully processed '000459.mp3'\n",
      "\n",
      "Processing file: '000534.mp3'\n",
      "Processing audio: 'C:\\Users\\edoar\\Desktop\\le musiche\\000\\000534.mp3'\n",
      "Processing text: 'The audio features solo performance of folk musici...'\n"
     ]
    },
    {
     "name": "stderr",
     "output_type": "stream",
     "text": [
      "Processing Pairs:  25%|███████████████▊                                               | 25/100 [00:37<01:54,  1.52s/it]"
     ]
    },
    {
     "name": "stdout",
     "output_type": "stream",
     "text": [
      "✅ Successfully processed '000534.mp3'\n",
      "\n",
      "Processing file: '000540.mp3'\n",
      "Processing audio: 'C:\\Users\\edoar\\Desktop\\le musiche\\000\\000540.mp3'\n",
      "Processing text: 'The audio features solo performance of folkstyle m...'\n"
     ]
    },
    {
     "name": "stderr",
     "output_type": "stream",
     "text": [
      "Processing Pairs:  26%|████████████████▍                                              | 26/100 [00:39<01:50,  1.50s/it]"
     ]
    },
    {
     "name": "stdout",
     "output_type": "stream",
     "text": [
      "✅ Successfully processed '000540.mp3'\n",
      "\n",
      "Processing file: '000546.mp3'\n",
      "Processing audio: 'C:\\Users\\edoar\\Desktop\\le musiche\\000\\000546.mp3'\n",
      "Processing text: 'The audio contains lively folk tune with brisk tem...'\n"
     ]
    },
    {
     "name": "stderr",
     "output_type": "stream",
     "text": [
      "Processing Pairs:  27%|█████████████████                                              | 27/100 [00:40<01:49,  1.50s/it]"
     ]
    },
    {
     "name": "stdout",
     "output_type": "stream",
     "text": [
      "✅ Successfully processed '000546.mp3'\n",
      "\n",
      "Processing file: '000574.mp3'\n",
      "Processing audio: 'C:\\Users\\edoar\\Desktop\\le musiche\\000\\000574.mp3'\n",
      "Processing text: 'The song features prominent guitar and variety of ...'\n"
     ]
    },
    {
     "name": "stderr",
     "output_type": "stream",
     "text": [
      "Processing Pairs:  28%|█████████████████▋                                             | 28/100 [00:42<01:45,  1.47s/it]"
     ]
    },
    {
     "name": "stdout",
     "output_type": "stream",
     "text": [
      "✅ Successfully processed '000574.mp3'\n",
      "\n",
      "Processing file: '000602.mp3'\n",
      "Processing audio: 'C:\\Users\\edoar\\Desktop\\le musiche\\000\\000602.mp3'\n",
      "Processing text: 'The audio features slowpaced solo guitar piece wit...'\n"
     ]
    },
    {
     "name": "stderr",
     "output_type": "stream",
     "text": [
      "Processing Pairs:  29%|██████████████████▎                                            | 29/100 [00:43<01:42,  1.44s/it]"
     ]
    },
    {
     "name": "stdout",
     "output_type": "stream",
     "text": [
      "✅ Successfully processed '000602.mp3'\n",
      "\n",
      "Processing file: '000615.mp3'\n",
      "Processing audio: 'C:\\Users\\edoar\\Desktop\\le musiche\\000\\000615.mp3'\n",
      "Processing text: 'The audio features unique blend of electronic and ...'\n"
     ]
    },
    {
     "name": "stderr",
     "output_type": "stream",
     "text": [
      "Processing Pairs:  30%|██████████████████▉                                            | 30/100 [00:44<01:35,  1.36s/it]"
     ]
    },
    {
     "name": "stdout",
     "output_type": "stream",
     "text": [
      "✅ Successfully processed '000615.mp3'\n",
      "\n",
      "Processing file: '000620.mp3'\n",
      "Processing audio: 'C:\\Users\\edoar\\Desktop\\le musiche\\000\\000620.mp3'\n",
      "Processing text: 'The song features blend of string instruments with...'\n"
     ]
    },
    {
     "name": "stderr",
     "output_type": "stream",
     "text": [
      "Processing Pairs:  31%|███████████████████▌                                           | 31/100 [00:46<01:32,  1.34s/it]"
     ]
    },
    {
     "name": "stdout",
     "output_type": "stream",
     "text": [
      "✅ Successfully processed '000620.mp3'\n",
      "\n",
      "Processing file: '000621.mp3'\n",
      "Processing audio: 'C:\\Users\\edoar\\Desktop\\le musiche\\000\\000621.mp3'\n",
      "Processing text: 'The audio features lively folk tune with prominent...'\n"
     ]
    },
    {
     "name": "stderr",
     "output_type": "stream",
     "text": [
      "Processing Pairs:  32%|████████████████████▏                                          | 32/100 [00:47<01:40,  1.48s/it]"
     ]
    },
    {
     "name": "stdout",
     "output_type": "stream",
     "text": [
      "✅ Successfully processed '000621.mp3'\n",
      "\n",
      "Processing file: '000625.mp3'\n",
      "Processing audio: 'C:\\Users\\edoar\\Desktop\\le musiche\\000\\000625.mp3'\n",
      "Processing text: 'The song features rich blend of instruments primar...'\n"
     ]
    },
    {
     "name": "stderr",
     "output_type": "stream",
     "text": [
      "Processing Pairs:  33%|████████████████████▊                                          | 33/100 [00:49<01:44,  1.56s/it]"
     ]
    },
    {
     "name": "stdout",
     "output_type": "stream",
     "text": [
      "✅ Successfully processed '000625.mp3'\n",
      "\n",
      "Processing file: '000666.mp3'\n",
      "Processing audio: 'C:\\Users\\edoar\\Desktop\\le musiche\\000\\000666.mp3'\n",
      "Processing text: 'The song features lively mix of instruments typica...'\n"
     ]
    },
    {
     "name": "stderr",
     "output_type": "stream",
     "text": [
      "Processing Pairs:  34%|█████████████████████▍                                         | 34/100 [00:51<01:40,  1.52s/it]"
     ]
    },
    {
     "name": "stdout",
     "output_type": "stream",
     "text": [
      "✅ Successfully processed '000666.mp3'\n",
      "\n",
      "Processing file: '000667.mp3'\n",
      "Processing audio: 'C:\\Users\\edoar\\Desktop\\le musiche\\000\\000667.mp3'\n",
      "Processing text: 'The provided audio features fastpaced indie rock t...'\n"
     ]
    },
    {
     "name": "stderr",
     "output_type": "stream",
     "text": [
      "Processing Pairs:  35%|██████████████████████                                         | 35/100 [00:52<01:35,  1.48s/it]"
     ]
    },
    {
     "name": "stdout",
     "output_type": "stream",
     "text": [
      "✅ Successfully processed '000667.mp3'\n",
      "\n",
      "Processing file: '000676.mp3'\n",
      "Processing audio: 'C:\\Users\\edoar\\Desktop\\le musiche\\000\\000676.mp3'\n",
      "Processing text: 'The song features blend of electronic and acoustic...'\n"
     ]
    },
    {
     "name": "stderr",
     "output_type": "stream",
     "text": [
      "Processing Pairs:  36%|██████████████████████▋                                        | 36/100 [00:54<01:38,  1.54s/it]"
     ]
    },
    {
     "name": "stdout",
     "output_type": "stream",
     "text": [
      "✅ Successfully processed '000676.mp3'\n",
      "\n",
      "Processing file: '000690.mp3'\n",
      "Processing audio: 'C:\\Users\\edoar\\Desktop\\le musiche\\000\\000690.mp3'\n",
      "Processing text: 'The song features prominent guitar and drum kit wi...'\n"
     ]
    },
    {
     "name": "stderr",
     "output_type": "stream",
     "text": [
      "Processing Pairs:  37%|███████████████████████▎                                       | 37/100 [00:55<01:35,  1.51s/it]"
     ]
    },
    {
     "name": "stdout",
     "output_type": "stream",
     "text": [
      "✅ Successfully processed '000690.mp3'\n",
      "\n",
      "Processing file: '000694.mp3'\n",
      "Processing audio: 'C:\\Users\\edoar\\Desktop\\le musiche\\000\\000694.mp3'\n",
      "Processing text: 'The provided audio features blend of electronic an...'\n"
     ]
    },
    {
     "name": "stderr",
     "output_type": "stream",
     "text": [
      "Processing Pairs:  38%|███████████████████████▉                                       | 38/100 [00:57<01:47,  1.73s/it]"
     ]
    },
    {
     "name": "stdout",
     "output_type": "stream",
     "text": [
      "✅ Successfully processed '000694.mp3'\n",
      "\n",
      "Processing file: '000695.mp3'\n",
      "Processing audio: 'C:\\Users\\edoar\\Desktop\\le musiche\\000\\000695.mp3'\n",
      "Processing text: 'The song features heavy percussion and drums that ...'\n"
     ]
    },
    {
     "name": "stderr",
     "output_type": "stream",
     "text": [
      "Processing Pairs:  39%|████████████████████████▌                                      | 39/100 [00:59<01:50,  1.81s/it]"
     ]
    },
    {
     "name": "stdout",
     "output_type": "stream",
     "text": [
      "✅ Successfully processed '000695.mp3'\n",
      "\n",
      "Processing file: '000704.mp3'\n",
      "Processing audio: 'C:\\Users\\edoar\\Desktop\\le musiche\\000\\000704.mp3'\n",
      "Processing text: 'The song features lively blend of instruments typi...'\n"
     ]
    },
    {
     "name": "stderr",
     "output_type": "stream",
     "text": [
      "Processing Pairs:  40%|█████████████████████████▏                                     | 40/100 [01:01<01:43,  1.73s/it]"
     ]
    },
    {
     "name": "stdout",
     "output_type": "stream",
     "text": [
      "✅ Successfully processed '000704.mp3'\n",
      "\n",
      "Processing file: '000705.mp3'\n",
      "Processing audio: 'C:\\Users\\edoar\\Desktop\\le musiche\\000\\000705.mp3'\n",
      "Processing text: 'The song features blend of instruments typical to ...'\n"
     ]
    },
    {
     "name": "stderr",
     "output_type": "stream",
     "text": [
      "Processing Pairs:  41%|█████████████████████████▊                                     | 41/100 [01:03<01:43,  1.75s/it]"
     ]
    },
    {
     "name": "stdout",
     "output_type": "stream",
     "text": [
      "✅ Successfully processed '000705.mp3'\n",
      "\n",
      "Processing file: '000706.mp3'\n",
      "Processing audio: 'C:\\Users\\edoar\\Desktop\\le musiche\\000\\000706.mp3'\n",
      "Processing text: 'The audio contains lively latin american rock trac...'\n"
     ]
    },
    {
     "name": "stderr",
     "output_type": "stream",
     "text": [
      "Processing Pairs:  42%|██████████████████████████▍                                    | 42/100 [01:04<01:39,  1.71s/it]"
     ]
    },
    {
     "name": "stdout",
     "output_type": "stream",
     "text": [
      "✅ Successfully processed '000706.mp3'\n",
      "\n",
      "Processing file: '000707.mp3'\n",
      "Processing audio: 'C:\\Users\\edoar\\Desktop\\le musiche\\000\\000707.mp3'\n",
      "Processing text: 'The song features blend of instruments typical to ...'\n"
     ]
    },
    {
     "name": "stderr",
     "output_type": "stream",
     "text": [
      "Processing Pairs:  43%|███████████████████████████                                    | 43/100 [01:06<01:37,  1.70s/it]"
     ]
    },
    {
     "name": "stdout",
     "output_type": "stream",
     "text": [
      "✅ Successfully processed '000707.mp3'\n",
      "\n",
      "Processing file: '000708.mp3'\n",
      "Processing audio: 'C:\\Users\\edoar\\Desktop\\le musiche\\000\\000708.mp3'\n",
      "Processing text: 'The audio features lively latin american music pie...'\n"
     ]
    },
    {
     "name": "stderr",
     "output_type": "stream",
     "text": [
      "Processing Pairs:  44%|███████████████████████████▋                                   | 44/100 [01:08<01:32,  1.65s/it]"
     ]
    },
    {
     "name": "stdout",
     "output_type": "stream",
     "text": [
      "✅ Successfully processed '000708.mp3'\n",
      "\n",
      "Processing file: '000709.mp3'\n",
      "Processing audio: 'C:\\Users\\edoar\\Desktop\\le musiche\\000\\000709.mp3'\n",
      "Processing text: 'The provided song features complex instrumental ar...'\n"
     ]
    },
    {
     "name": "stderr",
     "output_type": "stream",
     "text": [
      "Processing Pairs:  45%|████████████████████████████▎                                  | 45/100 [01:10<01:36,  1.76s/it]"
     ]
    },
    {
     "name": "stdout",
     "output_type": "stream",
     "text": [
      "✅ Successfully processed '000709.mp3'\n",
      "\n",
      "Processing file: '000714.mp3'\n",
      "Processing audio: 'C:\\Users\\edoar\\Desktop\\le musiche\\000\\000714.mp3'\n",
      "Processing text: 'The song features an array of instruments primaril...'\n"
     ]
    },
    {
     "name": "stderr",
     "output_type": "stream",
     "text": [
      "Processing Pairs:  46%|████████████████████████████▉                                  | 46/100 [01:12<01:42,  1.89s/it]"
     ]
    },
    {
     "name": "stdout",
     "output_type": "stream",
     "text": [
      "✅ Successfully processed '000714.mp3'\n",
      "\n",
      "Processing file: '000715.mp3'\n",
      "Processing audio: 'C:\\Users\\edoar\\Desktop\\le musiche\\000\\000715.mp3'\n",
      "Processing text: 'The audio features slowpaced ambient piece major w...'\n"
     ]
    },
    {
     "name": "stderr",
     "output_type": "stream",
     "text": [
      "Processing Pairs:  47%|█████████████████████████████▌                                 | 47/100 [01:13<01:35,  1.80s/it]"
     ]
    },
    {
     "name": "stdout",
     "output_type": "stream",
     "text": [
      "✅ Successfully processed '000715.mp3'\n",
      "\n",
      "Processing file: '000716.mp3'\n",
      "Processing audio: 'C:\\Users\\edoar\\Desktop\\le musiche\\000\\000716.mp3'\n",
      "Processing text: 'The provided song features blend of acoustic and e...'\n"
     ]
    },
    {
     "name": "stderr",
     "output_type": "stream",
     "text": [
      "Processing Pairs:  48%|██████████████████████████████▏                                | 48/100 [01:15<01:34,  1.82s/it]"
     ]
    },
    {
     "name": "stdout",
     "output_type": "stream",
     "text": [
      "✅ Successfully processed '000716.mp3'\n",
      "\n",
      "Processing file: '000718.mp3'\n",
      "Processing audio: 'C:\\Users\\edoar\\Desktop\\le musiche\\000\\000718.mp3'\n",
      "Processing text: 'The audio features haunting melody played on what ...'\n"
     ]
    },
    {
     "name": "stderr",
     "output_type": "stream",
     "text": [
      "Processing Pairs:  49%|██████████████████████████████▊                                | 49/100 [01:17<01:32,  1.82s/it]"
     ]
    },
    {
     "name": "stdout",
     "output_type": "stream",
     "text": [
      "✅ Successfully processed '000718.mp3'\n",
      "\n",
      "Processing file: '000777.mp3'\n",
      "Processing audio: 'C:\\Users\\edoar\\Desktop\\le musiche\\000\\000777.mp3'\n",
      "Processing text: 'The provided song features complex arrangement of ...'\n"
     ]
    },
    {
     "name": "stderr",
     "output_type": "stream",
     "text": [
      "Processing Pairs:  50%|███████████████████████████████▌                               | 50/100 [01:19<01:30,  1.81s/it]"
     ]
    },
    {
     "name": "stdout",
     "output_type": "stream",
     "text": [
      "✅ Successfully processed '000777.mp3'\n",
      "\n",
      "Processing file: '000814.mp3'\n",
      "Processing audio: 'C:\\Users\\edoar\\Desktop\\le musiche\\000\\000814.mp3'\n",
      "Processing text: 'The audio features lively folk tune with prominent...'\n"
     ]
    },
    {
     "name": "stderr",
     "output_type": "stream",
     "text": [
      "Processing Pairs:  51%|████████████████████████████████▏                              | 51/100 [01:21<01:30,  1.84s/it]"
     ]
    },
    {
     "name": "stdout",
     "output_type": "stream",
     "text": [
      "✅ Successfully processed '000814.mp3'\n",
      "\n",
      "Processing file: '000821.mp3'\n",
      "Processing audio: 'C:\\Users\\edoar\\Desktop\\le musiche\\000\\000821.mp3'\n",
      "Processing text: 'The song features blend of electronic and pop elem...'\n"
     ]
    },
    {
     "name": "stderr",
     "output_type": "stream",
     "text": [
      "Processing Pairs:  52%|████████████████████████████████▊                              | 52/100 [01:23<01:35,  1.99s/it]"
     ]
    },
    {
     "name": "stdout",
     "output_type": "stream",
     "text": [
      "✅ Successfully processed '000821.mp3'\n",
      "\n",
      "Processing file: '000822.mp3'\n",
      "Processing audio: 'C:\\Users\\edoar\\Desktop\\le musiche\\000\\000822.mp3'\n",
      "Processing text: 'The song features blend of electronic and pop elem...'\n"
     ]
    },
    {
     "name": "stderr",
     "output_type": "stream",
     "text": [
      "Processing Pairs:  53%|█████████████████████████████████▍                             | 53/100 [01:26<01:42,  2.17s/it]"
     ]
    },
    {
     "name": "stdout",
     "output_type": "stream",
     "text": [
      "✅ Successfully processed '000822.mp3'\n",
      "\n",
      "Processing file: '000825.mp3'\n",
      "Processing audio: 'C:\\Users\\edoar\\Desktop\\le musiche\\000\\000825.mp3'\n",
      "Processing text: 'The song features blend of traditional chinese and...'\n"
     ]
    },
    {
     "name": "stderr",
     "output_type": "stream",
     "text": [
      "Processing Pairs:  54%|██████████████████████████████████                             | 54/100 [01:28<01:42,  2.23s/it]"
     ]
    },
    {
     "name": "stdout",
     "output_type": "stream",
     "text": [
      "✅ Successfully processed '000825.mp3'\n",
      "\n",
      "Processing file: '000853.mp3'\n",
      "Processing audio: 'C:\\Users\\edoar\\Desktop\\le musiche\\000\\000853.mp3'\n",
      "Processing text: 'The audio features lively piece d minor with tempo...'\n"
     ]
    },
    {
     "name": "stderr",
     "output_type": "stream",
     "text": [
      "Processing Pairs:  55%|██████████████████████████████████▋                            | 55/100 [01:30<01:40,  2.23s/it]"
     ]
    },
    {
     "name": "stdout",
     "output_type": "stream",
     "text": [
      "✅ Successfully processed '000853.mp3'\n",
      "\n",
      "Processing file: '000890.mp3'\n",
      "Processing audio: 'C:\\Users\\edoar\\Desktop\\le musiche\\000\\000890.mp3'\n",
      "Processing text: 'The song features blend of acoustic and electric g...'\n"
     ]
    },
    {
     "name": "stderr",
     "output_type": "stream",
     "text": [
      "Processing Pairs:  56%|███████████████████████████████████▎                           | 56/100 [01:32<01:33,  2.12s/it]"
     ]
    },
    {
     "name": "stdout",
     "output_type": "stream",
     "text": [
      "✅ Successfully processed '000890.mp3'\n",
      "\n",
      "Processing file: '000892.mp3'\n",
      "Processing audio: 'C:\\Users\\edoar\\Desktop\\le musiche\\000\\000892.mp3'\n",
      "Processing text: 'The song features variety of instruments including...'\n"
     ]
    },
    {
     "name": "stderr",
     "output_type": "stream",
     "text": [
      "Processing Pairs:  57%|███████████████████████████████████▉                           | 57/100 [01:35<01:35,  2.22s/it]"
     ]
    },
    {
     "name": "stdout",
     "output_type": "stream",
     "text": [
      "✅ Successfully processed '000892.mp3'\n",
      "\n",
      "Processing file: '000897.mp3'\n",
      "Processing audio: 'C:\\Users\\edoar\\Desktop\\le musiche\\000\\000897.mp3'\n",
      "Processing text: 'The provided audio features an instrumental piece ...'\n"
     ]
    },
    {
     "name": "stderr",
     "output_type": "stream",
     "text": [
      "Processing Pairs:  58%|████████████████████████████████████▌                          | 58/100 [01:37<01:34,  2.26s/it]"
     ]
    },
    {
     "name": "stdout",
     "output_type": "stream",
     "text": [
      "✅ Successfully processed '000897.mp3'\n",
      "\n",
      "Processing file: '000993.mp3'\n",
      "Processing audio: 'C:\\Users\\edoar\\Desktop\\le musiche\\000\\000993.mp3'\n",
      "Processing text: 'The song features lively mix of instruments typica...'\n"
     ]
    },
    {
     "name": "stderr",
     "output_type": "stream",
     "text": [
      "Processing Pairs:  59%|█████████████████████████████████████▏                         | 59/100 [01:39<01:29,  2.18s/it]"
     ]
    },
    {
     "name": "stdout",
     "output_type": "stream",
     "text": [
      "✅ Successfully processed '000993.mp3'\n",
      "\n",
      "Processing file: '000995.mp3'\n",
      "Processing audio: 'C:\\Users\\edoar\\Desktop\\le musiche\\000\\000995.mp3'\n",
      "Processing text: 'The provided audio features fastpaced experimental...'\n"
     ]
    },
    {
     "name": "stderr",
     "output_type": "stream",
     "text": [
      "Processing Pairs:  60%|█████████████████████████████████████▊                         | 60/100 [01:40<01:20,  2.00s/it]"
     ]
    },
    {
     "name": "stdout",
     "output_type": "stream",
     "text": [
      "✅ Successfully processed '000995.mp3'\n",
      "\n",
      "Processing file: '000997.mp3'\n",
      "Processing audio: 'C:\\Users\\edoar\\Desktop\\le musiche\\000\\000997.mp3'\n",
      "Processing text: 'The audio contains an experimental noise track wit...'\n"
     ]
    },
    {
     "name": "stderr",
     "output_type": "stream",
     "text": [
      "Processing Pairs:  61%|██████████████████████████████████████▍                        | 61/100 [01:42<01:14,  1.91s/it]"
     ]
    },
    {
     "name": "stdout",
     "output_type": "stream",
     "text": [
      "✅ Successfully processed '000997.mp3'\n",
      "\n",
      "Processing file: '000998.mp3'\n",
      "Processing audio: 'C:\\Users\\edoar\\Desktop\\le musiche\\000\\000998.mp3'\n",
      "Processing text: 'The audio contains fastpaced experimental noise tr...'\n"
     ]
    },
    {
     "name": "stderr",
     "output_type": "stream",
     "text": [
      "Processing Pairs:  62%|███████████████████████████████████████                        | 62/100 [01:44<01:08,  1.81s/it]"
     ]
    },
    {
     "name": "stdout",
     "output_type": "stream",
     "text": [
      "✅ Successfully processed '000998.mp3'\n",
      "\n",
      "Processing file: '005006.mp3'\n",
      "Processing audio: 'C:\\Users\\edoar\\Desktop\\le musiche\\000\\005006.mp3'\n",
      "Processing text: 'The song features blend of acoustic and electric g...'\n"
     ]
    },
    {
     "name": "stderr",
     "output_type": "stream",
     "text": [
      "Processing Pairs:  63%|███████████████████████████████████████▋                       | 63/100 [01:46<01:12,  1.97s/it]"
     ]
    },
    {
     "name": "stdout",
     "output_type": "stream",
     "text": [
      "✅ Successfully processed '005006.mp3'\n",
      "\n",
      "Processing file: '005156.mp3'\n",
      "Processing audio: 'C:\\Users\\edoar\\Desktop\\le musiche\\000\\005156.mp3'\n",
      "Processing text: 'The audio features solo acoustic guitar piece with...'\n"
     ]
    },
    {
     "name": "stderr",
     "output_type": "stream",
     "text": [
      "Processing Pairs:  64%|████████████████████████████████████████▎                      | 64/100 [01:49<01:16,  2.13s/it]"
     ]
    },
    {
     "name": "stdout",
     "output_type": "stream",
     "text": [
      "✅ Successfully processed '005156.mp3'\n",
      "\n",
      "Processing file: '005157.mp3'\n",
      "Processing audio: 'C:\\Users\\edoar\\Desktop\\le musiche\\000\\005157.mp3'\n",
      "Processing text: 'The audio features solo acoustic guitar playing me...'\n"
     ]
    },
    {
     "name": "stderr",
     "output_type": "stream",
     "text": [
      "Processing Pairs:  65%|████████████████████████████████████████▉                      | 65/100 [01:51<01:13,  2.09s/it]"
     ]
    },
    {
     "name": "stdout",
     "output_type": "stream",
     "text": [
      "✅ Successfully processed '005157.mp3'\n",
      "\n",
      "Processing file: '005158.mp3'\n",
      "Processing audio: 'C:\\Users\\edoar\\Desktop\\le musiche\\000\\005158.mp3'\n",
      "Processing text: 'The audio features lively folk tune played at bris...'\n"
     ]
    },
    {
     "name": "stderr",
     "output_type": "stream",
     "text": [
      "Processing Pairs:  66%|█████████████████████████████████████████▌                     | 66/100 [01:53<01:12,  2.12s/it]"
     ]
    },
    {
     "name": "stdout",
     "output_type": "stream",
     "text": [
      "✅ Successfully processed '005158.mp3'\n",
      "\n",
      "Processing file: '005159.mp3'\n",
      "Processing audio: 'C:\\Users\\edoar\\Desktop\\le musiche\\000\\005159.mp3'\n",
      "Processing text: 'The song features solo acoustic guitar that plays ...'\n"
     ]
    },
    {
     "name": "stderr",
     "output_type": "stream",
     "text": [
      "Processing Pairs:  67%|██████████████████████████████████████████▏                    | 67/100 [01:55<01:06,  2.01s/it]"
     ]
    },
    {
     "name": "stdout",
     "output_type": "stream",
     "text": [
      "✅ Successfully processed '005159.mp3'\n",
      "\n",
      "Processing file: '005169.mp3'\n",
      "Processing audio: 'C:\\Users\\edoar\\Desktop\\le musiche\\000\\005169.mp3'\n",
      "Processing text: 'The audio features solo acoustic guitar playing me...'\n"
     ]
    },
    {
     "name": "stderr",
     "output_type": "stream",
     "text": [
      "Processing Pairs:  68%|██████████████████████████████████████████▊                    | 68/100 [01:57<01:06,  2.07s/it]"
     ]
    },
    {
     "name": "stdout",
     "output_type": "stream",
     "text": [
      "✅ Successfully processed '005169.mp3'\n",
      "\n",
      "Processing file: '005170.mp3'\n",
      "Processing audio: 'C:\\Users\\edoar\\Desktop\\le musiche\\000\\005170.mp3'\n",
      "Processing text: 'The song features solo acoustic guitar playing seq...'\n"
     ]
    },
    {
     "name": "stderr",
     "output_type": "stream",
     "text": [
      "Processing Pairs:  69%|███████████████████████████████████████████▍                   | 69/100 [01:59<01:06,  2.14s/it]"
     ]
    },
    {
     "name": "stdout",
     "output_type": "stream",
     "text": [
      "✅ Successfully processed '005170.mp3'\n",
      "\n",
      "Processing file: '005171.mp3'\n",
      "Processing audio: 'C:\\Users\\edoar\\Desktop\\le musiche\\000\\005171.mp3'\n",
      "Processing text: 'The song features blend of acoustic guitar and syn...'\n"
     ]
    },
    {
     "name": "stderr",
     "output_type": "stream",
     "text": [
      "Processing Pairs:  70%|████████████████████████████████████████████                   | 70/100 [02:01<01:05,  2.17s/it]"
     ]
    },
    {
     "name": "stdout",
     "output_type": "stream",
     "text": [
      "✅ Successfully processed '005171.mp3'\n",
      "\n",
      "Processing file: '005191.mp3'\n",
      "Processing audio: 'C:\\Users\\edoar\\Desktop\\le musiche\\000\\005191.mp3'\n",
      "Processing text: 'The song features lively rhythm section with elect...'\n"
     ]
    },
    {
     "name": "stderr",
     "output_type": "stream",
     "text": [
      "Processing Pairs:  71%|████████████████████████████████████████████▋                  | 71/100 [02:04<01:03,  2.19s/it]"
     ]
    },
    {
     "name": "stdout",
     "output_type": "stream",
     "text": [
      "✅ Successfully processed '005191.mp3'\n",
      "\n",
      "Processing file: '005264.mp3'\n",
      "Processing audio: 'C:\\Users\\edoar\\Desktop\\le musiche\\000\\005264.mp3'\n",
      "Processing text: 'The provided audio track features blend of electro...'\n"
     ]
    },
    {
     "name": "stderr",
     "output_type": "stream",
     "text": [
      "Processing Pairs:  72%|█████████████████████████████████████████████▎                 | 72/100 [02:06<01:01,  2.20s/it]"
     ]
    },
    {
     "name": "stdout",
     "output_type": "stream",
     "text": [
      "✅ Successfully processed '005264.mp3'\n",
      "\n",
      "Processing file: '005268.mp3'\n",
      "Processing audio: 'C:\\Users\\edoar\\Desktop\\le musiche\\000\\005268.mp3'\n",
      "Processing text: 'The provided audio track features heavy percussion...'\n"
     ]
    },
    {
     "name": "stderr",
     "output_type": "stream",
     "text": [
      "Processing Pairs:  73%|█████████████████████████████████████████████▉                 | 73/100 [02:08<00:58,  2.17s/it]"
     ]
    },
    {
     "name": "stdout",
     "output_type": "stream",
     "text": [
      "✅ Successfully processed '005268.mp3'\n",
      "\n",
      "Processing file: '005376.mp3'\n",
      "Processing audio: 'C:\\Users\\edoar\\Desktop\\le musiche\\000\\005376.mp3'\n",
      "Processing text: 'The song features violin and cello ensemble with c...'\n"
     ]
    },
    {
     "name": "stderr",
     "output_type": "stream",
     "text": [
      "Processing Pairs:  74%|██████████████████████████████████████████████▌                | 74/100 [02:10<00:56,  2.16s/it]"
     ]
    },
    {
     "name": "stdout",
     "output_type": "stream",
     "text": [
      "✅ Successfully processed '005376.mp3'\n",
      "\n",
      "Processing file: '005381.mp3'\n",
      "Processing audio: 'C:\\Users\\edoar\\Desktop\\le musiche\\000\\005381.mp3'\n",
      "Processing text: 'The audio features lively instrumental piece with ...'\n"
     ]
    },
    {
     "name": "stderr",
     "output_type": "stream",
     "text": [
      "Processing Pairs:  75%|███████████████████████████████████████████████▎               | 75/100 [02:12<00:52,  2.09s/it]"
     ]
    },
    {
     "name": "stdout",
     "output_type": "stream",
     "text": [
      "✅ Successfully processed '005381.mp3'\n",
      "\n",
      "Processing file: '005521.mp3'\n",
      "Processing audio: 'C:\\Users\\edoar\\Desktop\\le musiche\\000\\005521.mp3'\n",
      "Processing text: 'The song features blend of electronic and rock ele...'\n"
     ]
    },
    {
     "name": "stderr",
     "output_type": "stream",
     "text": [
      "Processing Pairs:  76%|███████████████████████████████████████████████▉               | 76/100 [02:14<00:48,  2.02s/it]"
     ]
    },
    {
     "name": "stdout",
     "output_type": "stream",
     "text": [
      "✅ Successfully processed '005521.mp3'\n",
      "\n",
      "Processing file: '005879.mp3'\n",
      "Processing audio: 'C:\\Users\\edoar\\Desktop\\le musiche\\000\\005879.mp3'\n",
      "Processing text: 'The provided audio features lively indie rock trac...'\n"
     ]
    },
    {
     "name": "stderr",
     "output_type": "stream",
     "text": [
      "Processing Pairs:  77%|████████████████████████████████████████████████▌              | 77/100 [02:16<00:44,  1.96s/it]"
     ]
    },
    {
     "name": "stdout",
     "output_type": "stream",
     "text": [
      "✅ Successfully processed '005879.mp3'\n",
      "\n",
      "Processing file: '005936.mp3'\n",
      "Processing audio: 'C:\\Users\\edoar\\Desktop\\le musiche\\000\\005936.mp3'\n",
      "Processing text: 'The song features piano playing the main tune with...'\n"
     ]
    },
    {
     "name": "stderr",
     "output_type": "stream",
     "text": [
      "Processing Pairs:  78%|█████████████████████████████████████████████████▏             | 78/100 [02:18<00:44,  2.01s/it]"
     ]
    },
    {
     "name": "stdout",
     "output_type": "stream",
     "text": [
      "✅ Successfully processed '005936.mp3'\n",
      "\n",
      "Processing file: '005940.mp3'\n",
      "Processing audio: 'C:\\Users\\edoar\\Desktop\\le musiche\\000\\005940.mp3'\n",
      "Processing text: 'The audio features guitar playing alongside what s...'\n"
     ]
    },
    {
     "name": "stderr",
     "output_type": "stream",
     "text": [
      "Processing Pairs:  79%|█████████████████████████████████████████████████▊             | 79/100 [02:20<00:43,  2.06s/it]"
     ]
    },
    {
     "name": "stdout",
     "output_type": "stream",
     "text": [
      "✅ Successfully processed '005940.mp3'\n",
      "\n",
      "Processing file: '025028.mp3'\n",
      "Processing audio: 'C:\\Users\\edoar\\Desktop\\le musiche\\000\\025028.mp3'\n",
      "Processing text: 'The audio features lively piece bb major with temp...'\n"
     ]
    },
    {
     "name": "stderr",
     "output_type": "stream",
     "text": [
      "Processing Pairs:  80%|██████████████████████████████████████████████████▍            | 80/100 [02:22<00:41,  2.08s/it]"
     ]
    },
    {
     "name": "stdout",
     "output_type": "stream",
     "text": [
      "✅ Successfully processed '025028.mp3'\n",
      "\n",
      "Processing file: '025029.mp3'\n",
      "Processing audio: 'C:\\Users\\edoar\\Desktop\\le musiche\\000\\025029.mp3'\n",
      "Processing text: 'The audio features lively gypsy folk tune with vio...'\n"
     ]
    },
    {
     "name": "stderr",
     "output_type": "stream",
     "text": [
      "Processing Pairs:  81%|███████████████████████████████████████████████████            | 81/100 [02:24<00:39,  2.07s/it]"
     ]
    },
    {
     "name": "stdout",
     "output_type": "stream",
     "text": [
      "✅ Successfully processed '025029.mp3'\n",
      "\n",
      "Processing file: '025030.mp3'\n",
      "Processing audio: 'C:\\Users\\edoar\\Desktop\\le musiche\\000\\025030.mp3'\n",
      "Processing text: 'The audio features lively piece f minor with tempo...'\n"
     ]
    },
    {
     "name": "stderr",
     "output_type": "stream",
     "text": [
      "Processing Pairs:  82%|███████████████████████████████████████████████████▋           | 82/100 [02:26<00:37,  2.07s/it]"
     ]
    },
    {
     "name": "stdout",
     "output_type": "stream",
     "text": [
      "✅ Successfully processed '025030.mp3'\n",
      "\n",
      "Processing file: '025031.mp3'\n",
      "Processing audio: 'C:\\Users\\edoar\\Desktop\\le musiche\\000\\025031.mp3'\n",
      "Processing text: 'The song features lively gaida bagpipe melody over...'\n"
     ]
    },
    {
     "name": "stderr",
     "output_type": "stream",
     "text": [
      "Processing Pairs:  83%|████████████████████████████████████████████████████▎          | 83/100 [02:29<00:37,  2.18s/it]"
     ]
    },
    {
     "name": "stdout",
     "output_type": "stream",
     "text": [
      "✅ Successfully processed '025031.mp3'\n",
      "\n",
      "Processing file: '025032.mp3'\n",
      "Processing audio: 'C:\\Users\\edoar\\Desktop\\le musiche\\000\\025032.mp3'\n",
      "Processing text: 'The audio features lively piece bb major with temp...'\n"
     ]
    },
    {
     "name": "stderr",
     "output_type": "stream",
     "text": [
      "Processing Pairs:  84%|████████████████████████████████████████████████████▉          | 84/100 [02:31<00:33,  2.12s/it]"
     ]
    },
    {
     "name": "stdout",
     "output_type": "stream",
     "text": [
      "✅ Successfully processed '025032.mp3'\n",
      "\n",
      "Processing file: '025033.mp3'\n",
      "Processing audio: 'C:\\Users\\edoar\\Desktop\\le musiche\\000\\025033.mp3'\n",
      "Processing text: 'The audio features fastpaced instrumental gypsy pu...'\n"
     ]
    },
    {
     "name": "stderr",
     "output_type": "stream",
     "text": [
      "Processing Pairs:  85%|█████████████████████████████████████████████████████▌         | 85/100 [02:33<00:32,  2.19s/it]"
     ]
    },
    {
     "name": "stdout",
     "output_type": "stream",
     "text": [
      "✅ Successfully processed '025033.mp3'\n",
      "\n",
      "Processing file: '025055.mp3'\n",
      "Processing audio: 'C:\\Users\\edoar\\Desktop\\le musiche\\000\\025055.mp3'\n",
      "Processing text: 'The song features guitar and strings creating somb...'\n"
     ]
    },
    {
     "name": "stderr",
     "output_type": "stream",
     "text": [
      "Processing Pairs:  86%|██████████████████████████████████████████████████████▏        | 86/100 [02:35<00:31,  2.25s/it]"
     ]
    },
    {
     "name": "stdout",
     "output_type": "stream",
     "text": [
      "✅ Successfully processed '025055.mp3'\n",
      "\n",
      "Processing file: '025063.mp3'\n",
      "Processing audio: 'C:\\Users\\edoar\\Desktop\\le musiche\\000\\025063.mp3'\n",
      "Processing text: 'The song features complex arrangement of instrumen...'\n"
     ]
    },
    {
     "name": "stderr",
     "output_type": "stream",
     "text": [
      "Processing Pairs:  87%|██████████████████████████████████████████████████████▊        | 87/100 [02:37<00:28,  2.20s/it]"
     ]
    },
    {
     "name": "stdout",
     "output_type": "stream",
     "text": [
      "✅ Successfully processed '025063.mp3'\n",
      "\n",
      "Processing file: '025066.mp3'\n",
      "Processing audio: 'C:\\Users\\edoar\\Desktop\\le musiche\\000\\025066.mp3'\n",
      "Processing text: 'The provided song features blend of electronic and...'\n"
     ]
    },
    {
     "name": "stderr",
     "output_type": "stream",
     "text": [
      "Processing Pairs:  88%|███████████████████████████████████████████████████████▍       | 88/100 [02:40<00:27,  2.26s/it]"
     ]
    },
    {
     "name": "stdout",
     "output_type": "stream",
     "text": [
      "✅ Successfully processed '025066.mp3'\n",
      "\n",
      "Processing file: '025104.mp3'\n",
      "Processing audio: 'C:\\Users\\edoar\\Desktop\\le musiche\\000\\025104.mp3'\n",
      "Processing text: 'The song features lively mix of instruments typica...'\n"
     ]
    },
    {
     "name": "stderr",
     "output_type": "stream",
     "text": [
      "Processing Pairs:  89%|████████████████████████████████████████████████████████       | 89/100 [02:42<00:23,  2.13s/it]"
     ]
    },
    {
     "name": "stdout",
     "output_type": "stream",
     "text": [
      "✅ Successfully processed '025104.mp3'\n",
      "\n",
      "Processing file: '025124.mp3'\n",
      "Processing audio: 'C:\\Users\\edoar\\Desktop\\le musiche\\000\\025124.mp3'\n",
      "Processing text: 'The song features guitar and possibly other string...'\n"
     ]
    },
    {
     "name": "stderr",
     "output_type": "stream",
     "text": [
      "Processing Pairs:  90%|████████████████████████████████████████████████████████▋      | 90/100 [02:44<00:21,  2.11s/it]"
     ]
    },
    {
     "name": "stdout",
     "output_type": "stream",
     "text": [
      "✅ Successfully processed '025124.mp3'\n",
      "\n",
      "Processing file: '025215.mp3'\n",
      "Processing audio: 'C:\\Users\\edoar\\Desktop\\le musiche\\000\\025215.mp3'\n",
      "Processing text: 'The song features lively fastpaced melody played o...'\n"
     ]
    },
    {
     "name": "stderr",
     "output_type": "stream",
     "text": [
      "Processing Pairs:  91%|█████████████████████████████████████████████████████████▎     | 91/100 [02:46<00:18,  2.04s/it]"
     ]
    },
    {
     "name": "stdout",
     "output_type": "stream",
     "text": [
      "✅ Successfully processed '025215.mp3'\n",
      "\n",
      "Processing file: '025216.mp3'\n",
      "Processing audio: 'C:\\Users\\edoar\\Desktop\\le musiche\\000\\025216.mp3'\n",
      "Processing text: 'The audio features fastpaced instrumental piece bb...'\n"
     ]
    },
    {
     "name": "stderr",
     "output_type": "stream",
     "text": [
      "Processing Pairs:  92%|█████████████████████████████████████████████████████████▉     | 92/100 [02:47<00:14,  1.86s/it]"
     ]
    },
    {
     "name": "stdout",
     "output_type": "stream",
     "text": [
      "✅ Successfully processed '025216.mp3'\n",
      "\n",
      "Processing file: '025227.mp3'\n",
      "Processing audio: 'C:\\Users\\edoar\\Desktop\\le musiche\\000\\025227.mp3'\n",
      "Processing text: 'The audio features lively piece major with brisk t...'\n"
     ]
    },
    {
     "name": "stderr",
     "output_type": "stream",
     "text": [
      "Processing Pairs:  93%|██████████████████████████████████████████████████████████▌    | 93/100 [02:49<00:12,  1.80s/it]"
     ]
    },
    {
     "name": "stdout",
     "output_type": "stream",
     "text": [
      "✅ Successfully processed '025227.mp3'\n",
      "\n",
      "Processing file: '025232.mp3'\n",
      "Processing audio: 'C:\\Users\\edoar\\Desktop\\le musiche\\000\\025232.mp3'\n",
      "Processing text: 'The audio features lively instrumental piece with ...'\n"
     ]
    },
    {
     "name": "stderr",
     "output_type": "stream",
     "text": [
      "Processing Pairs:  94%|███████████████████████████████████████████████████████████▏   | 94/100 [02:50<00:10,  1.71s/it]"
     ]
    },
    {
     "name": "stdout",
     "output_type": "stream",
     "text": [
      "✅ Successfully processed '025232.mp3'\n",
      "\n",
      "Processing file: '025233.mp3'\n",
      "Processing audio: 'C:\\Users\\edoar\\Desktop\\le musiche\\000\\025233.mp3'\n",
      "Processing text: 'The audio features lively instrumental piece with ...'\n"
     ]
    },
    {
     "name": "stderr",
     "output_type": "stream",
     "text": [
      "Processing Pairs:  95%|███████████████████████████████████████████████████████████▊   | 95/100 [02:52<00:08,  1.72s/it]"
     ]
    },
    {
     "name": "stdout",
     "output_type": "stream",
     "text": [
      "✅ Successfully processed '025233.mp3'\n",
      "\n",
      "Processing file: '025234.mp3'\n",
      "Processing audio: 'C:\\Users\\edoar\\Desktop\\le musiche\\000\\025234.mp3'\n",
      "Processing text: 'The audio features lively piece b major with tempo...'\n"
     ]
    },
    {
     "name": "stderr",
     "output_type": "stream",
     "text": [
      "Processing Pairs:  96%|████████████████████████████████████████████████████████████▍  | 96/100 [02:54<00:07,  1.81s/it]"
     ]
    },
    {
     "name": "stdout",
     "output_type": "stream",
     "text": [
      "✅ Successfully processed '025234.mp3'\n",
      "\n",
      "Processing file: '025235.mp3'\n",
      "Processing audio: 'C:\\Users\\edoar\\Desktop\\le musiche\\000\\025235.mp3'\n",
      "Processing text: 'The audio features lively instrumental piece with ...'\n"
     ]
    },
    {
     "name": "stderr",
     "output_type": "stream",
     "text": [
      "Processing Pairs:  97%|█████████████████████████████████████████████████████████████  | 97/100 [02:56<00:05,  1.91s/it]"
     ]
    },
    {
     "name": "stdout",
     "output_type": "stream",
     "text": [
      "✅ Successfully processed '025235.mp3'\n",
      "\n",
      "Processing file: '025324.mp3'\n",
      "Processing audio: 'C:\\Users\\edoar\\Desktop\\le musiche\\000\\025324.mp3'\n",
      "Processing text: 'The song features guitar playing with raw distorte...'\n"
     ]
    },
    {
     "name": "stderr",
     "output_type": "stream",
     "text": [
      "Processing Pairs:  98%|█████████████████████████████████████████████████████████████▋ | 98/100 [02:58<00:03,  1.95s/it]"
     ]
    },
    {
     "name": "stdout",
     "output_type": "stream",
     "text": [
      "✅ Successfully processed '025324.mp3'\n",
      "\n",
      "Processing file: '025378.mp3'\n",
      "Processing audio: 'C:\\Users\\edoar\\Desktop\\le musiche\\000\\025378.mp3'\n",
      "Processing text: 'The audio features lively instrumental piece minor...'\n"
     ]
    },
    {
     "name": "stderr",
     "output_type": "stream",
     "text": [
      "Processing Pairs:  99%|██████████████████████████████████████████████████████████████▎| 99/100 [03:00<00:02,  2.03s/it]"
     ]
    },
    {
     "name": "stdout",
     "output_type": "stream",
     "text": [
      "✅ Successfully processed '025378.mp3'\n",
      "\n",
      "Processing file: '025601.mp3'\n",
      "Processing audio: 'C:\\Users\\edoar\\Desktop\\le musiche\\000\\025601.mp3'\n",
      "Processing text: 'The provided song features lively reggae track wit...'\n"
     ]
    },
    {
     "name": "stderr",
     "output_type": "stream",
     "text": [
      "Processing Pairs: 100%|██████████████████████████████████████████████████████████████| 100/100 [03:02<00:00,  1.83s/it]"
     ]
    },
    {
     "name": "stdout",
     "output_type": "stream",
     "text": [
      "✅ Successfully processed '025601.mp3'\n",
      "\n",
      "✅ Successfully extracted embeddings for 100 pairs.\n",
      "✅ Calculated 100 audio-text similarities.\n"
     ]
    },
    {
     "name": "stderr",
     "output_type": "stream",
     "text": [
      "\n"
     ]
    },
    {
     "data": {
      "image/png": "[encoded data removed]",
      "text/plain": [
       "<Figure size 1000x600 with 1 Axes>"
      ]
     },
     "metadata": {},
     "output_type": "display_data"
    },
    {
     "name": "stdout",
     "output_type": "stream",
     "text": [
      "\n",
      "=== Statistiche Complessive Similarità Audio-Description (CLAP) ===\n",
      "Numero di coppie elaborate: 100\n",
      "Media: 0.3051\n",
      "Mediana: 0.2970\n",
      "Deviazione standard: 0.0875\n",
      "Minima: 0.0597\n",
      "Massima: 0.5060\n",
      "\n",
      "✅ Statistiche complessive salvate in 'C:\\Users\\edoar\\CV_CMEAN_bufi_murolo\\Progetto\\Modulo Qwen Audio\\clap_similarity_statistics.csv'\n",
      "✅ Similarità individuali salvate in 'C:\\Users\\edoar\\CV_CMEAN_bufi_murolo\\Progetto\\Modulo Qwen Audio\\clap_individual_similarities.csv' (senza colonna 'Descrizione Testo')\n",
      "\n",
      "=== 🔻 Peggiori match Audio-Description ===\n",
      "File: 000777.mp3, Similarità: 0.0597\n",
      "Description: 'The provided song features a complex arrangement of instruments that includes both acoustic and electronic elements. A guitar dominates the melodic landscape, with additional textures from synthesizer...'\n",
      "\n",
      "File: 000424.mp3, Similarità: 0.1285\n",
      "Description: 'The provided audio clip features a unique blend of electronic and folk influences with a lo-fi aesthetic. The dominant instrument throughout the piece appears to be a guitar, which weaves a captivatin...'\n",
      "\n",
      "File: 025033.mp3, Similarità: 0.1376\n",
      "Description: 'The audio features a fast-paced, instrumental gypsy punk piece with a tempo of around 160 BPM. It has a 4/4 time signature and a distinct Eastern European feel, possibly from Romani music influences. ...'\n",
      "\n",
      "File: 000897.mp3, Similarità: 0.1472\n",
      "Description: 'The provided audio features an instrumental piece with a prominent guitar. The tempo is moderate, maintaining a consistent pace throughout the track. The music has a dark and heavy atmosphere, dominat...'\n",
      "\n",
      "File: 025030.mp3, Similarità: 0.1474\n",
      "Description: 'The audio features a lively piece in F minor with a tempo of 107.1 BPM and a 3/4 time signature. It includes a dynamic progression of chords such as F major, G# major, D# major, A# major, and C major....'\n",
      "\n",
      "\n",
      "=== 🔺 Migliori match Audio-Description ===\n",
      "File: 005156.mp3, Similarità: 0.5060\n",
      "Description: 'The audio features a solo acoustic guitar piece with a gentle fingerpicking style. The overall feel of the track is soothing and comforting, reminiscent of a warm summer day. The guitar's rich, full s...'\n",
      "\n",
      "File: 005170.mp3, Similarità: 0.5015\n",
      "Description: 'The song features a solo acoustic guitar playing a sequence of chords with a fingerpicking style. The overall feel of the piece is gentle and soothing, evoking feelings of tranquility and calmness. It...'\n",
      "\n",
      "File: 005157.mp3, Similarità: 0.4885\n",
      "Description: 'The audio features a solo acoustic guitar playing a mellow tune with a slow tempo that creates a calming atmosphere. The overall feel of the piece is soft, gentle, soothing, melodic, pensive, reflecti...'\n",
      "\n",
      "File: 005159.mp3, Similarità: 0.4842\n",
      "Description: 'The song features a solo acoustic guitar that plays a series of folksy tunes with a moderate tempo. The overall rhythm is steady, creating a soothing ambiance. The guitar's timbre is rich and warm, pr...'\n",
      "\n",
      "File: 000602.mp3, Similarità: 0.4820\n",
      "Description: 'The audio features a slow-paced solo guitar piece with a classical feel, played in D minor key at a tempo of around 89.6 BPM. The guitar's sound is mellow and gentle, with a quiet, introspective quali...'\n",
      "\n"
     ]
    }
   ],
   "source": [
    "###embedding Descrizione totale\n",
    "\n",
    "\n",
    "\n",
    "import os\n",
    "import pandas as pd\n",
    "import torch\n",
    "import numpy as np\n",
    "import sys\n",
    "import matplotlib.pyplot as plt\n",
    "from tqdm import tqdm\n",
    "from msclap import CLAP\n",
    "import traceback\n",
    "import string\n",
    "import nltk\n",
    "from nltk.corpus import stopwords\n",
    "from nltk.tokenize import word_tokenize\n",
    "\n",
    "# --- Scarica le risorse NLTK ---\n",
    "try:\n",
    "    nltk.data.find('corpora/stopwords')\n",
    "except:\n",
    "    nltk.download('stopwords')\n",
    "try:\n",
    "    nltk.data.find('tokenizers/punkt')\n",
    "except:\n",
    "    nltk.download('punkt')\n",
    "try:\n",
    "    nltk.data.find('tokenizers/punkt_tab')\n",
    "except:\n",
    "    nltk.download('punkt_tab')\n",
    "\n",
    "# --- 1. Initial Configuration ---\n",
    "device = \"cuda\" if torch.cuda.is_available() else \"cpu\"\n",
    "print(f\"Using device: {device}\")\n",
    "\n",
    "# Paths\n",
    "PATHS = {\n",
    "    \"csv_file\": r\"C:\\Users\\edoar\\Downloads\\audio_analysis_full_folder (2).csv\",\n",
    "    \"audio_files_folder\": r\"C:\\Users\\edoar\\Desktop\\le musiche\\000\",\n",
    "    \"clap_weights\": r\"C://Users//edoar//Downloads//CLAP_weights_2023.pth\",\n",
    "    \"output_statistics_csv\": r\"C:\\Users\\edoar\\CV_CMEAN_bufi_murolo\\Progetto\\Modulo Qwen Audio\\clap_similarity_statistics.csv\",\n",
    "    \"output_individual_similarities_csv\": r\"C:\\Users\\edoar\\CV_CMEAN_bufi_murolo\\Progetto\\Modulo Qwen Audio\\clap_individual_similarities.csv\"\n",
    "}\n",
    "\n",
    "# --- 2. Load CLAP Model ---\n",
    "try:\n",
    "    clap_model = CLAP(\n",
    "        version='2023',\n",
    "        model_fp=PATHS[\"clap_weights\"],\n",
    "        use_cuda=True if device == \"cuda\" else False\n",
    "    )\n",
    "    print(\"✅ CLAP model loaded successfully.\")\n",
    "except Exception as e:\n",
    "    print(f\"❌ Error loading CLAP model: {e}\")\n",
    "    traceback.print_exc(file=sys.stdout)\n",
    "    sys.exit(1)\n",
    "\n",
    "def read_song_data_from_csv(csv_path):\n",
    "    \"\"\"\n",
    "    Legge il file CSV e estrae i nomi dei file audio e le descrizioni.\n",
    "    Filtra le righe dove il nome del file audio non inizia con 'Fragment'\n",
    "    e allinea le descrizioni cercando la riga con 'Total' nella colonna 'Description Type'\n",
    "    4 righe sotto il nome della canzone.\n",
    "    \"\"\"\n",
    "    final_audio_filenames = []\n",
    "    final_descriptions = []\n",
    "    \n",
    "    try:\n",
    "        # Leggi l'intero file CSV\n",
    "        # keep_default_na=False per trattare stringhe vuote o 'NA' come stringhe, non NaN\n",
    "        df = pd.read_csv(csv_path, keep_default_na=False) \n",
    "        \n",
    "        # Stampa le prime righe per debug\n",
    "        print(\"\\nAnteprima del DataFrame:\")\n",
    "        print(df.head(10)) # Stampo più righe per mostrare la relazione\n",
    "\n",
    "        # Verifica le colonne presenti\n",
    "        print(\"\\nColonne disponibili:\")\n",
    "        print(df.columns.tolist())\n",
    "        \n",
    "        # Cerca automaticamente la colonna con i nomi dei file audio\n",
    "        possible_audio_columns = ['Song Name','Nome Canzone','Genre','Features Info','Description Type'] \n",
    "        audio_col = None\n",
    "        for col in possible_audio_columns:\n",
    "            if col in df.columns:\n",
    "                audio_col = col\n",
    "                break\n",
    "                \n",
    "        if audio_col is None:\n",
    "            print(\"❌ Nessuna colonna con i nomi dei file audio trovata tra le possibili opzioni.\")\n",
    "            return [], []\n",
    "\n",
    "        # Itera su tutte le righe per trovare i nomi delle canzoni e le loro descrizioni allineate\n",
    "        print(\"\\nInizio la ricerca di nomi file audio e descrizioni allineate...\")\n",
    "        for idx in tqdm(df.index, desc=\"Analisi righe CSV\"):\n",
    "            current_filename_raw = str(df.loc[idx, audio_col]).strip().replace('\"', '')\n",
    "            \n",
    "            # Filtra i nomi di file vuoti, 'nan' o che iniziano con 'Fragment'\n",
    "            if not current_filename_raw or current_filename_raw.lower() == 'nan' or \\\n",
    "               current_filename_raw.lower().startswith('fragment'):\n",
    "                continue # Salta questa riga se non è un nome di canzone valido o è un frammento\n",
    "\n",
    "            # Se siamo qui, abbiamo un potenziale nome di canzone\n",
    "            song_name = current_filename_raw\n",
    "\n",
    "            # Calcola l'indice della riga della descrizione (4 righe sotto)\n",
    "            description_row_idx = idx + 4\n",
    "\n",
    "            # Assicurati che l'indice della descrizione non vada oltre la fine del DataFrame\n",
    "            if description_row_idx >= len(df):\n",
    "                # print(f\"⚠️ Salto '{song_name}': Descrizione fuori dai limiti del CSV.\")\n",
    "                continue\n",
    "\n",
    "            # Tenta di leggere il valore nella colonna 'Description Type' dalla riga calcolata\n",
    "            description_type_candidate = str(df.loc[description_row_idx, 'Description Type']).strip()\n",
    "\n",
    "            # Verifica se la colonna 'Description Type' di questa riga contiene 'Total'\n",
    "            if description_type_candidate.lower() == 'total':\n",
    "                # Se è 'Total', prendi la descrizione dalla colonna 'Description' di QUESTA STESSA RIGA\n",
    "                actual_description = str(df.loc[description_row_idx, 'Description']).strip()\n",
    "                \n",
    "                # Aggiungi solo se la descrizione estratta non è vuota\n",
    "                if actual_description:\n",
    "                    final_audio_filenames.append(song_name)\n",
    "                    final_descriptions.append(actual_description)\n",
    "                # else:\n",
    "                #     print(f\"⚠️ Salto '{song_name}': Descrizione 'Total' trovata ma vuota.\")\n",
    "            # else:\n",
    "            #     print(f\"⚠️ Salto '{song_name}': La colonna 'Description Type' nella riga {description_row_idx} non è 'Total'. Era: '{description_type_candidate[:50]}...'\")\n",
    "\n",
    "        print(f\"\\n✅ Trovati {len(final_audio_filenames)} file audio e {len(final_descriptions)} descrizioni allineate dopo il filtro.\")\n",
    "        \n",
    "    except Exception as e:\n",
    "        print(f\"❌ Errore nella lettura o nel filtro del CSV: {e}\")\n",
    "        traceback.print_exc(file=sys.stdout)\n",
    "        return [], []\n",
    "    \n",
    "    return final_audio_filenames, final_descriptions\n",
    "\n",
    "# --- Funzione di pulizia del testo ---\n",
    "def clean_description_text(text):\n",
    "    \"\"\"\n",
    "    Rimuove parole e frasi indesiderate dalla descrizione, normalizza e rimuove stop words.\n",
    "    \"\"\"\n",
    "    if not isinstance(text, str):\n",
    "        return \"\"\n",
    "\n",
    "    # 1. Converti in minuscolo\n",
    "    text = text.lower()\n",
    "\n",
    "    # 2. Rimuovi parole/frasi specifiche che sono \"rumore\"\n",
    "    phrases_to_remove = [\n",
    "        # Lasciato vuoto come nell'ultima versione fornita dall'utente, se vuoi aggiungere\n",
    "        # parole/frasi specifiche da rimuovere, aggiungile qui.\n",
    "    ]\n",
    "    phrases_to_remove.sort(key=len, reverse=True)\n",
    "\n",
    "    for phrase in phrases_to_remove:\n",
    "        text = text.replace(phrase, \" \")\n",
    "\n",
    "    # 3. Rimuovi punteggiatura\n",
    "    text = text.translate(str.maketrans('', '', string.punctuation))\n",
    "\n",
    "    # 4. Rimuovi numeri\n",
    "    text = ''.join([i for i in text if not i.isdigit()])\n",
    "\n",
    "    # 5. Tokenizza e rimuovi stop words\n",
    "    words = word_tokenize(text, language='italian')\n",
    "    stop_words_italian = set(stopwords.words('italian'))\n",
    "    filtered_words = [word for word in words if word.strip() and word not in stop_words_italian]\n",
    "    \n",
    "    # 6. Ricostruisci la stringa\n",
    "    text = \" \".join(filtered_words)\n",
    "    \n",
    "    # 7. Rimuovi spazi extra\n",
    "    text = \" \".join(text.split()).strip()\n",
    "    \n",
    "    # 8. Capitalizza la prima lettera\n",
    "    if text:\n",
    "        text = text[0].upper() + text[1:]\n",
    "\n",
    "    return text\n",
    "\n",
    "# --- 4. Load Data from CSV ---\n",
    "print(f\"\\nReading data from CSV file: {PATHS['csv_file']}\")\n",
    "audio_filenames, total_descriptions = read_song_data_from_csv(PATHS[\"csv_file\"])\n",
    "\n",
    "if not audio_filenames:\n",
    "    print(\"❌ Error: No valid audio filenames and total descriptions extracted from CSV after filtering.\")\n",
    "    sys.exit(1)\n",
    "\n",
    "# Stampa l'elenco dei file estratti dal CSV\n",
    "print(\"\\nElenco completo dei file audio estratti dal CSV (dopo il filtro 'Fragment' e allineamento 'Total'):\")\n",
    "for i, filename in enumerate(audio_filenames):\n",
    "    if i < 10: # Stampa solo i primi 10 per non sovraccaricare l'output\n",
    "        print(f\"{i+1}. '{filename}'\")\n",
    "    elif i == 10:\n",
    "        print(\"...\")\n",
    "\n",
    "# Applica la pulizia alle descrizioni\n",
    "descriptions_cleaned = [clean_description_text(desc) for desc in total_descriptions]\n",
    "\n",
    "print(f\"\\n✅ Extracted {len(audio_filenames)} audio filenames and {len(descriptions_cleaned)} cleaned total descriptions from CSV.\")\n",
    "\n",
    "# --- 5. Extract Audio and Text Embeddings for each pair ---\n",
    "audio_embeddings_list = []\n",
    "text_embeddings_list = []\n",
    "processed_pairs_info = [] # This will store filename and original description for output\n",
    "\n",
    "print(\"\\nExtracting embeddings and computing similarities:\")\n",
    "for i in tqdm(range(len(audio_filenames)), desc=\"Processing Pairs\"):\n",
    "    filename = audio_filenames[i]\n",
    "    description_for_embedding = descriptions_cleaned[i]\n",
    "    description_original = total_descriptions[i] # Keep original for potential debugging/display\n",
    "    \n",
    "    print(f\"\\nProcessing file: '{filename}'\")\n",
    "    \n",
    "    MAX_TEXT_CHAR_LENGTH = 512\n",
    "    \n",
    "    if isinstance(description_for_embedding, str) and len(description_for_embedding) > MAX_TEXT_CHAR_LENGTH:\n",
    "        truncated_description = description_for_embedding[:MAX_TEXT_CHAR_LENGTH]\n",
    "        if not truncated_description.endswith('...'):\n",
    "            truncated_description += \"...\"\n",
    "    else:\n",
    "        truncated_description = description_for_embedding\n",
    "\n",
    "    # Controlla se il filename è vuoto o non valido\n",
    "    if not filename or str(filename).strip().lower() == 'nan':\n",
    "        print(f\"❌ Skipped: Invalid filename '{filename}'\")\n",
    "        continue\n",
    "\n",
    "    full_audio_path = os.path.join(PATHS[\"audio_files_folder\"], filename)\n",
    "\n",
    "    # Verifica se il file esiste\n",
    "    if not os.path.isfile(full_audio_path):\n",
    "        print(f\"❌ File not found: '{full_audio_path}'\")\n",
    "        # Prova con diverse estensioni\n",
    "        base_name, ext = os.path.splitext(filename)\n",
    "        extensions_to_try = ['.mp3', '.wav', '.flac', '.ogg']\n",
    "        found = False\n",
    "        \n",
    "        for ext in extensions_to_try:\n",
    "            attempt_path = os.path.join(PATHS[\"audio_files_folder\"], base_name + ext)\n",
    "            if os.path.isfile(attempt_path):\n",
    "                full_audio_path = attempt_path\n",
    "                found = True\n",
    "                print(f\"✅ Found alternative: '{full_audio_path}'\")\n",
    "                break\n",
    "                \n",
    "        if not found:\n",
    "            print(f\"❌ Could not find any audio file for '{filename}'\")\n",
    "            continue\n",
    "    \n",
    "    if not truncated_description.strip():\n",
    "        print(f\"⚠️ Skipped '{filename}': Description became empty after cleaning.\")\n",
    "        continue\n",
    "\n",
    "    try:\n",
    "        # Get audio embedding\n",
    "        print(f\"Processing audio: '{full_audio_path}'\")\n",
    "        audio_emb = clap_model.get_audio_embeddings([full_audio_path], resample=True)\n",
    "        \n",
    "        # Get text embedding\n",
    "        print(f\"Processing text: '{truncated_description[:50]}...'\")\n",
    "        text_emb = clap_model.get_text_embeddings([truncated_description])\n",
    "\n",
    "        audio_embeddings_list.append(audio_emb)\n",
    "        text_embeddings_list.append(text_emb)\n",
    "        processed_pairs_info.append({\n",
    "            'filename': os.path.basename(full_audio_path), \n",
    "            'description': description_original # Store original description here\n",
    "        })\n",
    "        print(f\"✅ Successfully processed '{filename}'\")\n",
    "\n",
    "    except Exception as e:\n",
    "        print(f\"❌ ERROR processing '{filename}': {str(e)}\")\n",
    "        traceback.print_exc(file=sys.stdout)\n",
    "        continue\n",
    "\n",
    "if not audio_embeddings_list:\n",
    "    print(\"\\n❌ Error: No audio-text pairs were successfully processed.\")\n",
    "    sys.exit(1)\n",
    "\n",
    "# Concatenate embeddings\n",
    "audio_embeddings_tensor = torch.vstack([e.squeeze(0) for e in audio_embeddings_list])\n",
    "text_embeddings_tensor = torch.vstack([e.squeeze(0) for e in text_embeddings_list])\n",
    "\n",
    "print(f\"\\n✅ Successfully extracted embeddings for {len(audio_embeddings_tensor)} pairs.\")\n",
    "\n",
    "# --- 6. Calculate Cosine Similarities ---\n",
    "audio_embeddings_norm = torch.nn.functional.normalize(audio_embeddings_tensor, p=2, dim=-1)\n",
    "text_embeddings_norm = torch.nn.functional.normalize(text_embeddings_tensor, p=2, dim=-1)\n",
    "\n",
    "similarities = (audio_embeddings_norm * text_embeddings_norm).sum(dim=-1)\n",
    "similarities_np = similarities.cpu().detach().numpy()\n",
    "\n",
    "print(f\"✅ Calculated {len(similarities_np)} audio-text similarities.\")\n",
    "\n",
    "# --- 7. Visualizzazione Distribuzione Similarità ---\n",
    "plt.figure(figsize=(10, 6))\n",
    "plt.hist(similarities_np, bins=30, color='skyblue', edgecolor='black')\n",
    "plt.title(\"Distribuzione Similarità Audio-Description (CLAP)\")\n",
    "plt.xlabel(\"Similarità Coseno\")\n",
    "plt.ylabel(\"Frequenza\")\n",
    "plt.grid(True)\n",
    "plt.tight_layout()\n",
    "plt.show()\n",
    "\n",
    "# --- 8. Statistiche Complessive ---\n",
    "print(\"\\n=== Statistiche Complessive Similarità Audio-Description (CLAP) ===\")\n",
    "num_pairs = len(similarities_np)\n",
    "mean_sim = np.mean(similarities_np)\n",
    "median_sim = np.median(similarities_np)\n",
    "std_sim = np.std(similarities_np)\n",
    "min_sim = np.min(similarities_np)\n",
    "max_sim = np.max(similarities_np)\n",
    "\n",
    "print(f\"Numero di coppie elaborate: {num_pairs}\")\n",
    "print(f\"Media: {mean_sim:.4f}\")\n",
    "print(f\"Mediana: {median_sim:.4f}\")\n",
    "print(f\"Deviazione standard: {std_sim:.4f}\")\n",
    "print(f\"Minima: {min_sim:.4f}\")\n",
    "print(f\"Massima: {max_sim:.4f}\")\n",
    "\n",
    "# --- 9. Salvataggio Statistiche Complessive su CSV ---\n",
    "try:\n",
    "    stats_df = pd.DataFrame({\n",
    "        'Metric': ['Numero di Coppie', 'Media', 'Mediana', 'Deviazione Standard', 'Minima', 'Massima'],\n",
    "        'Value': [num_pairs, mean_sim, median_sim, std_sim, min_sim, max_sim]\n",
    "    })\n",
    "    stats_df.to_csv(PATHS[\"output_statistics_csv\"], index=False)\n",
    "    print(f\"\\n✅ Statistiche complessive salvate in '{PATHS['output_statistics_csv']}'\")\n",
    "except Exception as e:\n",
    "    print(f\"❌ Errore durante il salvataggio delle statistiche: {e}\")\n",
    "    traceback.print_exc(file=sys.stdout)\n",
    "\n",
    "# --- 10. Salvataggio Similarità Individuali (MODIFIED) ---\n",
    "if processed_pairs_info:\n",
    "    individual_similarities_data = []\n",
    "    for idx, pair_info in enumerate(processed_pairs_info):\n",
    "        individual_similarities_data.append({\n",
    "            'Filename Audio': pair_info['filename'],\n",
    "            'Similarita Coseno': similarities_np[idx] \n",
    "        })\n",
    "    \n",
    "    try:\n",
    "        individual_sim_df = pd.DataFrame(individual_similarities_data)\n",
    "        individual_sim_df.to_csv(PATHS[\"output_individual_similarities_csv\"], index=False)\n",
    "        print(f\"✅ Similarità individuali salvate in '{PATHS['output_individual_similarities_csv']}' (senza colonna 'Descrizione Testo')\")\n",
    "    except Exception as e:\n",
    "        print(f\"❌ Errore durante il salvataggio delle similarità individuali: {e}\")\n",
    "        traceback.print_exc(file=sys.stdout)\n",
    "else:\n",
    "    print(\"\\n⚠️ Nessuna coppia audio-testo elaborata.\")\n",
    "\n",
    "# --- 11. Visualizza Esempi Migliori e Peggiori ---\n",
    "def print_similarity_examples(indices, title, data_info, similarities_scores, num_examples=5):\n",
    "    print(f\"\\n=== {title} ===\")\n",
    "    for i, idx in enumerate(indices):\n",
    "        if i >= num_examples:\n",
    "            break\n",
    "        filename = data_info[idx]['filename']\n",
    "        description = data_info[idx]['description'] \n",
    "        sim_score = similarities_scores[idx]\n",
    "        print(f\"File: {filename}, Similarità: {sim_score:.4f}\")\n",
    "        print(f\"Description: '{description[:200]}...'\\n\")\n",
    "\n",
    "# Ordina gli indici per similarità\n",
    "sorted_indices = np.argsort(similarities_np)\n",
    "\n",
    "# Visualizza i 5 peggiori match\n",
    "print_similarity_examples(sorted_indices[:5], \"🔻 Peggiori match Audio-Description\", processed_pairs_info, similarities_np)\n",
    "\n",
    "# Visualizza i 5 migliori match\n",
    "print_similarity_examples(sorted_indices[-5:][::-1], \"🔺 Migliori match Audio-Description\", processed_pairs_info, similarities_np)"
   ]
  },
  {
   "cell_type": "code",
   "execution_count": null,
   "id": "b64110e6-b311-4060-8508-c4fa6d56cc3c",
   "metadata": {},
   "outputs": [
    {
     "name": "stdout",
     "output_type": "stream",
     "text": [
      "Using device: cpu\n",
      "✅ CLAP model loaded successfully.\n",
      "\n",
      "Reading data from CSV file: C:\\Users\\edoar\\Downloads\\audio_analysis_full_folder (2).csv\n",
      "\n",
      "Anteprima del DataFrame:\n",
      "    Song Name Description Type  \\\n",
      "0  000002.mp3       Fragment 1   \n",
      "1                   Fragment 2   \n",
      "2                   Fragment 3   \n",
      "3                   Fragment 4   \n",
      "4                        Total   \n",
      "5  000005.mp3       Fragment 1   \n",
      "6                   Fragment 2   \n",
      "7                   Fragment 3   \n",
      "8                   Fragment 4   \n",
      "9                        Total   \n",
      "\n",
      "                                         Description  \n",
      "0  The first quarter of the audio features a hip-...  \n",
      "1  In the second half of the audio snippet, there...  \n",
      "2  The third and final segment features a male vo...  \n",
      "3  The fourth fragment of the audio features a hi...  \n",
      "4  The song is a hip-hop track with a distinctioa...  \n",
      "5  The first quarter of the audio features a hip-...  \n",
      "6  The second fragment features a male voice rapp...  \n",
      "7  The third and fourth segments of the audio fea...  \n",
      "8  The fourth fragment of the audio features a ma...  \n",
      "9  The song features heavy usage of brass instrum...  \n",
      "\n",
      "Colonne disponibili:\n",
      "['Song Name', 'Description Type', 'Description']\n",
      "\n",
      "Inizio la raccolta delle descrizioni dai frammenti...\n",
      "DEBUG: Trovata coppia valida: File='000002.mp3' (indice inizio blocco: 0)\n",
      "DEBUG: --> Descrizione combinata dai frammenti: 'The first quarter of the audio features a hip-hop track with a male vocalist rapping over a groovy beat. The instrumental includes a drum machine, whi...'\n",
      "DEBUG: Trovata coppia valida: File='000005.mp3' (indice inizio blocco: 5)\n",
      "DEBUG: --> Descrizione combinata dai frammenti: 'The first quarter of the audio features a hip-hop track with a steady tempo, set by a drum machine, which provides a regular beat accompanied by percu...'\n",
      "DEBUG: Trovata coppia valida: File='000010.mp3' (indice inizio blocco: 10)\n",
      "DEBUG: --> Descrizione combinata dai frammenti: 'The first quarter of the audio features a lively rock piece with a guitar playing the main tune and a bass doing chromatic and moving lines behind it....'\n",
      "DEBUG: Trovata coppia valida: File='000140.mp3' (indice inizio blocco: 15)\n",
      "DEBUG: --> Descrizione combinata dai frammenti: 'The first quarter of the audio features a slow pop instrumental with drums, bass, piano, and guitar. It has a sad and dreamy feel, reminiscent of a ra...'\n",
      "DEBUG: Trovata coppia valida: File='000141.mp3' (indice inizio blocco: 20)\n",
      "DEBUG: --> Descrizione combinata dai frammenti: 'The first quarter of the audio features a slow classical piece with piano and guitar creating a relaxing mood suitable for a rainy day. It includes el...'\n",
      "DEBUG: Trovata coppia valida: File='000148.mp3' (indice inizio blocco: 25)\n",
      "DEBUG: --> Descrizione combinata dai frammenti: 'The audio segment features a fast-paced electronic techno piece with loud beats and synthesizers, creating a dark and experimental atmosphere. It incl...'\n",
      "DEBUG: Trovata coppia valida: File='000182.mp3' (indice inizio blocco: 30)\n",
      "DEBUG: --> Descrizione combinata dai frammenti: 'A rock piece with drums, guitar, bass, electric guitar, and synthesizer sounds playing an energetic instrumental. The tempo is fast-paced, and the rhy...'\n",
      "DEBUG: Trovata coppia valida: File='000190.mp3' (indice inizio blocco: 35)\n",
      "DEBUG: --> Descrizione combinata dai frammenti: 'The audio segment features a male voice singing in English with a sad mood. Accompanying the vocals is a piano playing a slow melody in G major with a...'\n",
      "DEBUG: Trovata coppia valida: File='000193.mp3' (indice inizio blocco: 40)\n",
      "DEBUG: --> Descrizione combinata dai frammenti: 'The audio segment features a keyboard playing a dark melody with a feeling of dread. The instruments present include a harpsichord, harp, and piano. T...'\n",
      "DEBUG: Trovata coppia valida: File='000194.mp3' (indice inizio blocco: 45)\n",
      "DEBUG: --> Descrizione combinata dai frammenti: 'The first quarter of the audio features a slow pop ballad with a guitar and piano playing the main tune. Accompanying instruments include drums, bass,...'\n",
      "DEBUG: Trovata coppia valida: File='000197.mp3' (indice inizio blocco: 50)\n",
      "DEBUG: --> Descrizione combinata dai frammenti: 'A single chord from an organ played in a room with poor acoustics. The sound is dull, muffled, and reverberant. It conveys a somber mood, suggesting a...'\n",
      "DEBUG: Trovata coppia valida: File='000200.mp3' (indice inizio blocco: 55)\n",
      "DEBUG: --> Descrizione combinata dai frammenti: 'The audio segment features a slow pop ballad with a piano leading the melody and a guitar strumming chords in the background. A bass can also be heard...'\n",
      "DEBUG: Trovata coppia valida: File='000203.mp3' (indice inizio blocco: 60)\n",
      "DEBUG: --> Descrizione combinata dai frammenti: 'The audio segment features a slow instrumental piece with Indian influences, including a sitar and guitar. The tempo is slow, creating a relaxing atmo...'\n",
      "DEBUG: Trovata coppia valida: File='000204.mp3' (indice inizio blocco: 65)\n",
      "DEBUG: --> Descrizione combinata dai frammenti: 'The audio segment features a male voice singing in English with a sad mood. The song is instrumental with a slow tempo, involving a piano playing the ...'\n",
      "DEBUG: Trovata coppia valida: File='000207.mp3' (indice inizio blocco: 70)\n",
      "DEBUG: --> Descrizione combinata dai frammenti: 'The provided song segment features a haunting keyboard melody that dominates the soundscape. Other instruments are barely audible due to the overpower...'\n",
      "DEBUG: Trovata coppia valida: File='000210.mp3' (indice inizio blocco: 75)\n",
      "DEBUG: --> Descrizione combinata dai frammenti: 'The first quarter of the audio features a slow pop rock piece with drums, bass, electric guitar, and acoustic guitar. It has a tempo of around 100 BPM...'\n",
      "DEBUG: Trovata coppia valida: File='000211.mp3' (indice inizio blocco: 80)\n",
      "DEBUG: --> Descrizione combinata dai frammenti: 'The first quarter of the audio features a slow pop rock piece with a guitar and drums. It has a medium tempo, maintaining a steady rhythm throughout. ...'\n",
      "DEBUG: Trovata coppia valida: File='000212.mp3' (indice inizio blocco: 85)\n",
      "DEBUG: --> Descrizione combinata dai frammenti: 'The audio segment features a male voice singing the main melody with a guitar strumming chords in the background. The drums play a simple beat, suppor...'\n",
      "DEBUG: Trovata coppia valida: File='000213.mp3' (indice inizio blocco: 90)\n",
      "DEBUG: --> Descrizione combinata dai frammenti: 'A slow instrumental piece featuring piano, guitar, drums, and bass, with a clean sound and a positive vibe. The tempo is around 80 BPM, with a steady ...'\n",
      "DEBUG: Trovata coppia valida: File='000255.mp3' (indice inizio blocco: 95)\n",
      "DEBUG: --> Descrizione combinata dai frammenti: 'A slow pop rock piece with drums, guitar, bass, and piano is heard. The piece exudes a mellow aura and has a slow tempo, creating a relaxed atmosphere...'\n",
      "DEBUG: Trovata coppia valida: File='000256.mp3' (indice inizio blocco: 100)\n",
      "DEBUG: --> Descrizione combinata dai frammenti: 'The first quarter of the audio features a melodic rock piece with drums, guitar, bass, electric guitar, and synthesizer sounds. The atmosphere is ener...'\n",
      "DEBUG: Trovata coppia valida: File='000368.mp3' (indice inizio blocco: 105)\n",
      "DEBUG: --> Descrizione combinata dai frammenti: 'The audio segment features a dark rock piece with electric guitar and drums. It includes synthesizers, bass, and piano. The tempo is 120 BPM, and it f...'\n",
      "DEBUG: Trovata coppia valida: File='000424.mp3' (indice inizio blocco: 110)\n",
      "DEBUG: --> Descrizione combinata dai frammenti: 'The audio segment features a choir singing in harmonies with a repetitive phrase 'ooh ooh aah'. The song has a medium tempo and follows a consistent r...'\n",
      "DEBUG: Trovata coppia valida: File='000459.mp3' (indice inizio blocco: 115)\n",
      "DEBUG: --> Descrizione combinata dai frammenti: 'The first quarter of the audio features a lively rock piece with drums, guitar, bass, electric guitar, and synthesizer sounds. The atmosphere is energ...'\n",
      "DEBUG: Trovata coppia valida: File='000534.mp3' (indice inizio blocco: 120)\n",
      "DEBUG: --> Descrizione combinata dai frammenti: 'A solo acoustic guitar piece with a fingerpicking style and a gentle tempo of around 89.55 bpm, in the key of Eb major, and a 4/4 time signature. The ...'\n",
      "DEBUG: Trovata coppia valida: File='000540.mp3' (indice inizio blocco: 125)\n",
      "DEBUG: --> Descrizione combinata dai frammenti: 'The audio segment features a male voice singing accompanied by an acoustic guitar. The singer's mood appears neutral, and the song is in the key of Bb...'\n",
      "DEBUG: Trovata coppia valida: File='000546.mp3' (indice inizio blocco: 130)\n",
      "DEBUG: --> Descrizione combinata dai frammenti: 'The audio segment features a male voice singing with a medium pitch and a neutral mood. Accompanying him is an acoustic guitar playing a simple tune w...'\n",
      "DEBUG: Trovata coppia valida: File='000574.mp3' (indice inizio blocco: 135)\n",
      "DEBUG: --> Descrizione combinata dai frammenti: 'The audio segment features a rock piece with a guitar playing the main tune and another instrument providing rhythmic support on the offbeat. A bass g...'\n",
      "DEBUG: Trovata coppia valida: File='000602.mp3' (indice inizio blocco: 140)\n",
      "DEBUG: --> Descrizione combinata dai frammenti: 'The audio segment features a solo harp melody with a gentle arpeggiated technique and a soft, mellow sound. The piece has a slow tempo, creating a cal...'\n",
      "DEBUG: Trovata coppia valida: File='000615.mp3' (indice inizio blocco: 145)\n",
      "DEBUG: --> Descrizione combinata dai frammenti: 'The audio segment features a synth key melody with a haunting and emotional vibe suggestive of a sci-fi video game atmosphere. The instrument used is ...'\n",
      "DEBUG: Trovata coppia valida: File='000620.mp3' (indice inizio blocco: 150)\n",
      "DEBUG: --> Descrizione combinata dai frammenti: 'The first quarter of the audio features a slow instrumental piece with a piano and violin. It has a classical feel, possibly from a movie soundtrack, ...'\n",
      "DEBUG: Trovata coppia valida: File='000621.mp3' (indice inizio blocco: 155)\n",
      "DEBUG: --> Descrizione combinata dai frammenti: 'The audio segment features a slow pop ballad with a male vocalist singing at a medium pitch. The primary instruments are a piano, guitar, and drums, p...'\n",
      "DEBUG: Trovata coppia valida: File='000625.mp3' (indice inizio blocco: 160)\n",
      "DEBUG: --> Descrizione combinata dai frammenti: 'The audio segment features a melodic French accordion harmony with a subtle guitar accompaniment. It's set in the key of F major with a 4/4 time signa...'\n",
      "DEBUG: Trovata coppia valida: File='000666.mp3' (indice inizio blocco: 165)\n",
      "DEBUG: --> Descrizione combinata dai frammenti: 'The audio segment features a melodic rock piece with drums, guitar, bass, and electric guitar. It's moderately paced, exhibiting a 4/4 time signature ...'\n",
      "DEBUG: Trovata coppia valida: File='000667.mp3' (indice inizio blocco: 170)\n",
      "DEBUG: --> Descrizione combinata dai frammenti: 'A quarter of the rock piece features electric guitar chords with a distortion effect, played over punchy kick and snare hits and shimmering cymbals. T...'\n",
      "DEBUG: Trovata coppia valida: File='000676.mp3' (indice inizio blocco: 175)\n",
      "DEBUG: --> Descrizione combinata dai frammenti: 'The first four seconds of the audio feature a hip-hop track with a male vocalist. The instrumental includes a piano playing chords, a bass guitar, and...'\n",
      "DEBUG: Trovata coppia valida: File='000690.mp3' (indice inizio blocco: 180)\n",
      "DEBUG: --> Descrizione combinata dai frammenti: 'The first quarter of the audio features a melodic rock piece with a guitar lead and drums that create a heavy atmosphere suggestive of rebellion. The ...'\n",
      "DEBUG: Trovata coppia valida: File='000694.mp3' (indice inizio blocco: 185)\n",
      "DEBUG: --> Descrizione combinata dai frammenti: 'The first quarter of the audio features a hip-hop track with a distinct electronic feel. It includes a synthesizer and drums that create a groovy rhyt...'\n",
      "DEBUG: Trovata coppia valida: File='000695.mp3' (indice inizio blocco: 190)\n",
      "DEBUG: --> Descrizione combinata dai frammenti: 'The first quarter of the audio features a hip-hop/rap track with a background of a drum machine playing a simple beat. A keyboard plays chords, adding...'\n",
      "DEBUG: Trovata coppia valida: File='000704.mp3' (indice inizio blocco: 195)\n",
      "DEBUG: --> Descrizione combinata dai frammenti: 'The first quarter of the audio features an instrumental electronic piece with a techno beat and drums. It includes synthesizers, bass, and a drum mach...'\n",
      "DEBUG: Trovata coppia valida: File='000705.mp3' (indice inizio blocco: 200)\n",
      "DEBUG: --> Descrizione combinata dai frammenti: 'The first quarter of the audio features a lively ska and reggae fusion piece. A prominent electric guitar leads with a catchy melody complemented by a...'\n",
      "DEBUG: Trovata coppia valida: File='000706.mp3' (indice inizio blocco: 205)\n",
      "DEBUG: --> Descrizione combinata dai frammenti: 'The first quarter of the audio features a lively Latin dance piece with a lead male vocalist singing over an animated keyboard melody, punchy drumming...'\n",
      "DEBUG: Trovata coppia valida: File='000707.mp3' (indice inizio blocco: 210)\n",
      "DEBUG: --> Descrizione combinata dai frammenti: 'The first quarter of the audio features a melodic rock piece with a dominant guitar and drums, possibly from a live performance. It includes bass and ...'\n",
      "DEBUG: Trovata coppia valida: File='000708.mp3' (indice inizio blocco: 215)\n",
      "DEBUG: --> Descrizione combinata dai frammenti: 'The first quarter of the audio features a lively instrumental piece with a fast tempo that contributes to an upbeat and energetic atmosphere. It inclu...'\n",
      "DEBUG: Trovata coppia valida: File='000709.mp3' (indice inizio blocco: 220)\n",
      "DEBUG: --> Descrizione combinata dai frammenti: 'The first quarter of the audio features a Latin American song with a lead male vocal singing over an acoustic guitar strumming, a e-piano playing chor...'\n",
      "DEBUG: Trovata coppia valida: File='000714.mp3' (indice inizio blocco: 225)\n",
      "DEBUG: --> Descrizione combinata dai frammenti: 'The audio segment features an ambient experimental piece with a synthesizer and guitar creating a dark soundscape. It has a slow tempo, around 89.55 b...'\n",
      "DEBUG: Trovata coppia valida: File='000715.mp3' (indice inizio blocco: 230)\n",
      "DEBUG: --> Descrizione combinata dai frammenti: 'The audio segment features an instrumental piece with a slow tempo that creates a relaxing atmosphere. It includes synthesizers, piano, drums, bass, a...'\n",
      "DEBUG: Trovata coppia valida: File='000716.mp3' (indice inizio blocco: 235)\n",
      "DEBUG: --> Descrizione combinata dai frammenti: 'The first quarter of the audio features an ambient experimental piece with a dark and meditative soundscape. It includes synthesizers, bass, drums, pi...'\n",
      "DEBUG: Trovata coppia valida: File='000718.mp3' (indice inizio blocco: 240)\n",
      "DEBUG: --> Descrizione combinata dai frammenti: 'The audio segment features a slow ambient piece with a quiet and meditative mood suitable for space-themed movies or games. It includes synthesizers, ...'\n",
      "DEBUG: Trovata coppia valida: File='000777.mp3' (indice inizio blocco: 245)\n",
      "DEBUG: --> Descrizione combinata dai frammenti: 'The audio segment features a calm instrumental piece with a flute playing a soothing melody over a strings ensemble. A harp can also be heard providin...'\n",
      "DEBUG: Trovata coppia valida: File='000814.mp3' (indice inizio blocco: 250)\n",
      "DEBUG: --> Descrizione combinata dai frammenti: 'The audio segment features a slow pop ballad with a quiet guitar and a soft female vocal. Additionally, there's a piano playing chords in the backgrou...'\n",
      "DEBUG: Trovata coppia valida: File='000821.mp3' (indice inizio blocco: 255)\n",
      "DEBUG: --> Descrizione combinata dai frammenti: 'The audio segment features a female voice singing the words 'sir hey sir hey' with a mellow tone and a slight autotune effect. Accompanying her vocal ...'\n",
      "DEBUG: Trovata coppia valida: File='000822.mp3' (indice inizio blocco: 260)\n",
      "DEBUG: --> Descrizione combinata dai frammenti: 'The first quarter of the audio features a techno dance instrumental with a synthetic beat and drums. It includes a synthesizer, bass, and percussion c...'\n",
      "DEBUG: Trovata coppia valida: File='000825.mp3' (indice inizio blocco: 265)\n",
      "DEBUG: --> Descrizione combinata dai frammenti: 'The first 1/4 of the audio features a fast-paced experimental rock piece with drums, guitar, bass, and synthesizer. The music has a loud and abrasive ...'\n",
      "DEBUG: Trovata coppia valida: File='000853.mp3' (indice inizio blocco: 270)\n",
      "DEBUG: --> Descrizione combinata dai frammenti: 'The audio segment features a lively instrumental piece with a fast tempo and rhythmic complexity typical of a waltz. It includes sounds from a violin,...'\n",
      "DEBUG: Trovata coppia valida: File='000890.mp3' (indice inizio blocco: 275)\n",
      "DEBUG: --> Descrizione combinata dai frammenti: 'The audio segment features a haunting violin melody that seems to linger on, suggesting a sense of unease or foreboding. The violin's timbre is dark a...'\n",
      "DEBUG: Trovata coppia valida: File='000892.mp3' (indice inizio blocco: 280)\n",
      "DEBUG: --> Descrizione combinata dai frammenti: 'The first quarter of the audio features a country-style instrumental piece with acoustic and electric guitars, along with a sitar playing in Indian st...'\n",
      "DEBUG: Trovata coppia valida: File='000897.mp3' (indice inizio blocco: 285)\n",
      "DEBUG: --> Descrizione combinata dai frammenti: 'The audio segment features a fast-paced electronic rock piece with drums, guitar, bass, electric guitar, synthesizer, and piano. It has a 4/4 time sig...'\n",
      "DEBUG: Trovata coppia valida: File='000993.mp3' (indice inizio blocco: 290)\n",
      "DEBUG: --> Descrizione combinata dai frammenti: 'A male vocalist sings this spirited pop rock piece. The song is medium tempo with a guitar lead, steady drumming rhythm, groovy bass lines, keyboard a...'\n",
      "DEBUG: Trovata coppia valida: File='000995.mp3' (indice inizio blocco: 295)\n",
      "DEBUG: --> Descrizione combinata dai frammenti: 'The audio segment features a fast-paced electronic rock piece with drums, guitar, and bass that create a dark and energetic mood. It includes synthesi...'\n",
      "DEBUG: Trovata coppia valida: File='000997.mp3' (indice inizio blocco: 300)\n",
      "DEBUG: --> Descrizione combinata dai frammenti: 'The audio segment features a loud, abrasive, and static-filled piece of experimental rock music with elements of noise. A distorted electric guitar an...'\n",
      "DEBUG: Trovata coppia valida: File='000998.mp3' (indice inizio blocco: 305)\n",
      "DEBUG: --> Descrizione combinata dai frammenti: 'The first quarter of the audio features a fast-paced electronic rock piece with drums, guitar, and bass. It has a dark and melodic mood suggestive of ...'\n",
      "DEBUG: Trovata coppia valida: File='005006.mp3' (indice inizio blocco: 310)\n",
      "DEBUG: --> Descrizione combinata dai frammenti: 'The first quarter of the audio features a melodic rock piece with a guitar and drums. It has a tempo of around 98 BPM, a 4/4 time signature, and a hea...'\n",
      "DEBUG: Trovata coppia valida: File='005156.mp3' (indice inizio blocco: 315)\n",
      "DEBUG: --> Descrizione combinata dai frammenti: 'A slow instrumental piece featuring a guitar playing a quiet melody with a harp and synthesizer in the background. The atmosphere is relaxing and suit...'\n",
      "DEBUG: Trovata coppia valida: File='005157.mp3' (indice inizio blocco: 320)\n",
      "DEBUG: --> Descrizione combinata dai frammenti: 'The first quarter of the audio features a slow instrumental piece with a guitar and piano creating a relaxing mood suitable for a rainy day. It includ...'\n",
      "DEBUG: Trovata coppia valida: File='005158.mp3' (indice inizio blocco: 325)\n",
      "DEBUG: --> Descrizione combinata dai frammenti: 'The first quarter of the audio features a fast-paced instrumental piece with acoustic guitar and drums. It has a lively feel suitable for a video game...'\n",
      "DEBUG: Trovata coppia valida: File='005159.mp3' (indice inizio blocco: 330)\n",
      "DEBUG: --> Descrizione combinata dai frammenti: 'The audio segment features a solo acoustic guitar with a mellow and gentle strumming pattern. The timbre is warm and rich, producing a soothing and ca...'\n",
      "DEBUG: Trovata coppia valida: File='005169.mp3' (indice inizio blocco: 335)\n",
      "DEBUG: --> Descrizione combinata dai frammenti: 'The audio segment features a slow instrumental piece with a guitar and piano. It has a relaxing mood suitable for a rainy day, accompanied by soft dru...'\n",
      "DEBUG: Trovata coppia valida: File='005170.mp3' (indice inizio blocco: 340)\n",
      "DEBUG: --> Descrizione combinata dai frammenti: 'A slow instrumental piece featuring a guitar playing a soft melody with another stringed instrument in harmony. The atmosphere is gentle and relaxing,...'\n",
      "DEBUG: Trovata coppia valida: File='005171.mp3' (indice inizio blocco: 345)\n",
      "DEBUG: --> Descrizione combinata dai frammenti: 'The audio segment features a slow-paced country-style acoustic piece with a guitar and piano. It has a soft, mellow feel that induces a sense of calmn...'\n",
      "DEBUG: Trovata coppia valida: File='005191.mp3' (indice inizio blocco: 350)\n",
      "DEBUG: --> Descrizione combinata dai frammenti: 'The first quarter of the audio features a melodic rock piece with a guitar lead and drums that create a lively atmosphere suitable for a road trip sce...'\n",
      "DEBUG: Trovata coppia valida: File='005264.mp3' (indice inizio blocco: 355)\n",
      "DEBUG: --> Descrizione combinata dai frammenti: 'The first quarter of the audio features a melodic male vocal singing over a groovy bassline, punchy kick, shimmering hi hats, and electric guitar chor...'\n",
      "DEBUG: Trovata coppia valida: File='005268.mp3' (indice inizio blocco: 360)\n",
      "DEBUG: --> Descrizione combinata dai frammenti: 'The first quarter of the audio features a hip-hop track with a distinct electronic feel. It includes a synthesizer and drums that contribute to its sy...'\n",
      "DEBUG: Trovata coppia valida: File='005376.mp3' (indice inizio blocco: 365)\n",
      "DEBUG: --> Descrizione combinata dai frammenti: 'The first 1/4 of the audio features a classical piece with a solo violin and cello. The melody is slow-paced with a feeling of resolution, played in A...'\n",
      "DEBUG: Trovata coppia valida: File='005381.mp3' (indice inizio blocco: 370)\n",
      "DEBUG: --> Descrizione combinata dai frammenti: 'The audio segment features a solo violin playing a slow melody with a melancholic feel. The instrument used is a violin, and the tempo or rhythm is sl...'\n",
      "DEBUG: Trovata coppia valida: File='005521.mp3' (indice inizio blocco: 375)\n",
      "DEBUG: --> Descrizione combinata dai frammenti: 'The audio fragment features a synth key melody with a bass guitar playing in the background. The drums play a repeating rhythm that drives the piece f...'\n",
      "DEBUG: Trovata coppia valida: File='005879.mp3' (indice inizio blocco: 380)\n",
      "DEBUG: --> Descrizione combinata dai frammenti: 'The first quarter of the audio features a rock piece with a prominent guitar playing alongside a bass. A drums kit provides a steady rhythm, and there...'\n",
      "DEBUG: Trovata coppia valida: File='005936.mp3' (indice inizio blocco: 385)\n",
      "DEBUG: --> Descrizione combinata dai frammenti: 'The first quarter of the audio features a slow pop ballad with a piano and guitar. It has a soft violin accompaniment and is purely instrumental. The ...'\n",
      "DEBUG: Trovata coppia valida: File='005940.mp3' (indice inizio blocco: 390)\n",
      "DEBUG: --> Descrizione combinata dai frammenti: 'The audio segment features a slow pop ballad with a guitar lead and drums providing a steady rhythm. A bass complements the melody, and there's also a...'\n",
      "DEBUG: Trovata coppia valida: File='025028.mp3' (indice inizio blocco: 395)\n",
      "DEBUG: --> Descrizione combinata dai frammenti: 'The audio segment features a female voice singing the main melody accompanied by an organ playing chords in the background. A tambourine and possibly ...'\n",
      "DEBUG: Trovata coppia valida: File='025029.mp3' (indice inizio blocco: 400)\n",
      "DEBUG: --> Descrizione combinata dai frammenti: 'The audio segment features a female voice singing in a key of B minor with a time signature of 4/4 and a tempo of 98.0 bpm. The song has a slow tempo ...'\n",
      "DEBUG: Trovata coppia valida: File='025030.mp3' (indice inizio blocco: 405)\n",
      "DEBUG: --> Descrizione combinata dai frammenti: 'The first quarter of the audio features a melodic French horn playing over a mellow synth pad, creating a somber yet captivating atmosphere. The horn'...'\n",
      "DEBUG: Trovata coppia valida: File='025031.mp3' (indice inizio blocco: 410)\n",
      "DEBUG: --> Descrizione combinata dai frammenti: 'A female voice sings this melodic fragment. The song is slow-paced with a steady rhythm played on a drum. A tambourine accompanies the drummer adding ...'\n",
      "DEBUG: Trovata coppia valida: File='025032.mp3' (indice inizio blocco: 415)\n",
      "DEBUG: --> Descrizione combinata dai frammenti: 'A drum and cymbal ensemble perform a fast-paced, driving rhythm in B major with a 2/4 time signature at a tempo of 170.0 bpm. The music has a bright q...'\n",
      "DEBUG: Trovata coppia valida: File='025033.mp3' (indice inizio blocco: 420)\n",
      "DEBUG: --> Descrizione combinata dai frammenti: 'A female vocalist sings this melodic fragment. The song is medium tempo with a steady drumming rhythm, groovy bass line, keyboard accompaniment, and t...'\n",
      "DEBUG: Trovata coppia valida: File='025055.mp3' (indice inizio blocco: 425)\n",
      "DEBUG: --> Descrizione combinata dai frammenti: 'The audio segment features a slow pop ballad with a guitar and piano as the main instruments. The singer has a sad mood as he croons about being alone...'\n",
      "DEBUG: Trovata coppia valida: File='025063.mp3' (indice inizio blocco: 430)\n",
      "DEBUG: --> Descrizione combinata dai frammenti: 'The first quarter of the audio features a fast-paced instrumental techno piece with drums and synthesizers. It has a deep, experimental mood that tran...'\n",
      "DEBUG: Trovata coppia valida: File='025066.mp3' (indice inizio blocco: 435)\n",
      "DEBUG: --> Descrizione combinata dai frammenti: 'The audio segment features a synth pad and synth drums playing a chill, deep house track. It has a slow tempo of around 129 BPM, a 4/4 time signature,...'\n",
      "DEBUG: Trovata coppia valida: File='025104.mp3' (indice inizio blocco: 440)\n",
      "DEBUG: --> Descrizione combinata dai frammenti: 'The first quarter of the audio features a melodic rock piece with a dominant guitar sound and a punchy drum beat. A bass complements the guitar by add...'\n",
      "DEBUG: Trovata coppia valida: File='025124.mp3' (indice inizio blocco: 445)\n",
      "DEBUG: --> Descrizione combinata dai frammenti: 'The first quarter of the audio features a slow pop rock piece with drums, guitar, bass, and piano instrumentation. It has a tempo of around 99.829 bpm...'\n",
      "DEBUG: Trovata coppia valida: File='025215.mp3' (indice inizio blocco: 450)\n",
      "DEBUG: --> Descrizione combinata dai frammenti: 'The audio segment features a solo violin playing a series of high-pitched notes with a rapid procession that's both arpeggiated and melodic. Accompany...'\n",
      "DEBUG: Trovata coppia valida: File='025216.mp3' (indice inizio blocco: 455)\n",
      "DEBUG: --> Descrizione combinata dai frammenti: 'The provided song segment features a melodic line played on what could be a mallet instrument, producing a bright and distorted sound quality. Accompa...'\n",
      "DEBUG: Trovata coppia valida: File='025227.mp3' (indice inizio blocco: 460)\n",
      "DEBUG: --> Descrizione combinata dai frammenti: 'The audio segment features a melancholic instrumental piece with a violin playing the lead. Accompanying instruments include an acoustic guitar, piano...'\n",
      "DEBUG: Trovata coppia valida: File='025232.mp3' (indice inizio blocco: 465)\n",
      "DEBUG: --> Descrizione combinata dai frammenti: 'The audio segment features a melancholic instrumental piece with a prominent violin melody. Other string instruments like viola and cello accompany th...'\n",
      "DEBUG: Trovata coppia valida: File='025233.mp3' (indice inizio blocco: 470)\n",
      "DEBUG: --> Descrizione combinata dai frammenti: 'A solo violin plays a gentle melody with a slight vibrato in the first half of the excerpt and continues with a quick double stop run in the second pa...'\n",
      "DEBUG: Trovata coppia valida: File='025234.mp3' (indice inizio blocco: 475)\n",
      "DEBUG: --> Descrizione combinata dai frammenti: 'The first quarter of the audio features a synth key melody with a haunting, repetitive quality that gives it a hypnotic feel. The instrument used appe...'\n",
      "DEBUG: Trovata coppia valida: File='025235.mp3' (indice inizio blocco: 480)\n",
      "DEBUG: --> Descrizione combinata dai frammenti: 'The first quarter of the audio features a lively classical instrumental piece with strings predominantly. It includes violin, cello, and viola, played...'\n",
      "DEBUG: Trovata coppia valida: File='025324.mp3' (indice inizio blocco: 485)\n",
      "DEBUG: --> Descrizione combinata dai frammenti: 'The audio segment features a grungy electric guitar playing a simple tune with another instrument that could be either a bass or another guitar. A lou...'\n",
      "DEBUG: Trovata coppia valida: File='025378.mp3' (indice inizio blocco: 490)\n",
      "DEBUG: --> Descrizione combinata dai frammenti: 'The audio segment features a synthpop/technopop track with a clean electric guitar sound, a synth bass, and a synth keyboard playing the melody. The d...'\n",
      "DEBUG: Trovata coppia valida: File='025601.mp3' (indice inizio blocco: 495)\n",
      "DEBUG: --> Descrizione combinata dai frammenti: 'The first quarter of the audio features a reggae/dub music piece. A bass guitar plays a groovy line accompanied by percussion creating a chill atmosph...'\n",
      "\n",
      "✅ Trovati 100 file audio e 100 descrizioni combinate dopo il filtro.\n",
      "\n",
      "--- Prime 5 coppie finali restituite da read_song_data_from_csv ---\n",
      "File [0]: '000002.mp3'\n",
      "Descrizione [0]: 'The first quarter of the audio features a hip-hop track with a male vocalist rapping over a groovy b...'\n",
      "File [1]: '000005.mp3'\n",
      "Descrizione [1]: 'The first quarter of the audio features a hip-hop track with a steady tempo, set by a drum machine, ...'\n",
      "File [2]: '000010.mp3'\n",
      "Descrizione [2]: 'The first quarter of the audio features a lively rock piece with a guitar playing the main tune and ...'\n",
      "File [3]: '000140.mp3'\n",
      "Descrizione [3]: 'The first quarter of the audio features a slow pop instrumental with drums, bass, piano, and guitar....'\n",
      "File [4]: '000141.mp3'\n",
      "Descrizione [4]: 'The first quarter of the audio features a slow classical piece with piano and guitar creating a rela...'\n",
      "Totale coppie processate: 100\n",
      "--------------------------------------------------\n",
      "\n",
      "Elenco completo dei file audio estratti dal CSV (dopo la combinazione dei fragment):\n",
      "1. '000002.mp3'\n",
      "2. '000005.mp3'\n",
      "3. '000010.mp3'\n",
      "4. '000140.mp3'\n",
      "5. '000141.mp3'\n",
      "6. '000148.mp3'\n",
      "7. '000182.mp3'\n",
      "8. '000190.mp3'\n",
      "9. '000193.mp3'\n",
      "10. '000194.mp3'\n",
      "...\n",
      "\n",
      "✅ Extracted 100 audio filenames and 100 cleaned total descriptions from CSV.\n",
      "\n",
      "Extracting embeddings and computing similarities:\n"
     ]
    },
    {
     "name": "stderr",
     "output_type": "stream",
     "text": [
      "Processing Pairs:   0%|                                                                        | 0/100 [00:00<?, ?it/s]"
     ]
    },
    {
     "name": "stdout",
     "output_type": "stream",
     "text": [
      "\n",
      "Processing file: '000002.mp3'\n",
      "Processing audio: 'C:\\Users\\edoar\\Desktop\\le musiche\\000\\000002.mp3'\n",
      "Processing text: 'The first quarter of the audio features hiphop tra...'\n"
     ]
    },
    {
     "name": "stderr",
     "output_type": "stream",
     "text": [
      "Processing Pairs:   1%|▋                                                               | 1/100 [00:02<03:31,  2.13s/it]"
     ]
    },
    {
     "name": "stdout",
     "output_type": "stream",
     "text": [
      "✅ Successfully processed '000002.mp3'\n",
      "\n",
      "Processing file: '000005.mp3'\n",
      "Processing audio: 'C:\\Users\\edoar\\Desktop\\le musiche\\000\\000005.mp3'\n",
      "Processing text: 'The first quarter of the audio features hiphop tra...'\n"
     ]
    },
    {
     "name": "stderr",
     "output_type": "stream",
     "text": [
      "Processing Pairs:   2%|█▎                                                              | 2/100 [00:03<03:10,  1.94s/it]"
     ]
    },
    {
     "name": "stdout",
     "output_type": "stream",
     "text": [
      "✅ Successfully processed '000005.mp3'\n",
      "\n",
      "Processing file: '000010.mp3'\n",
      "Processing audio: 'C:\\Users\\edoar\\Desktop\\le musiche\\000\\000010.mp3'\n",
      "Processing text: 'The first quarter of the audio features lively roc...'\n"
     ]
    },
    {
     "name": "stderr",
     "output_type": "stream",
     "text": [
      "Processing Pairs:   3%|█▉                                                              | 3/100 [00:05<02:50,  1.76s/it]"
     ]
    },
    {
     "name": "stdout",
     "output_type": "stream",
     "text": [
      "✅ Successfully processed '000010.mp3'\n",
      "\n",
      "Processing file: '000140.mp3'\n",
      "Processing audio: 'C:\\Users\\edoar\\Desktop\\le musiche\\000\\000140.mp3'\n",
      "Processing text: 'The first quarter of the audio features slow pop i...'\n"
     ]
    },
    {
     "name": "stderr",
     "output_type": "stream",
     "text": [
      "Processing Pairs:   4%|██▌                                                             | 4/100 [00:07<02:41,  1.68s/it]"
     ]
    },
    {
     "name": "stdout",
     "output_type": "stream",
     "text": [
      "✅ Successfully processed '000140.mp3'\n",
      "\n",
      "Processing file: '000141.mp3'\n",
      "Processing audio: 'C:\\Users\\edoar\\Desktop\\le musiche\\000\\000141.mp3'\n",
      "Processing text: 'The first quarter of the audio features slow class...'\n"
     ]
    },
    {
     "name": "stderr",
     "output_type": "stream",
     "text": [
      "Processing Pairs:   5%|███▏                                                            | 5/100 [00:08<02:36,  1.65s/it]"
     ]
    },
    {
     "name": "stdout",
     "output_type": "stream",
     "text": [
      "✅ Successfully processed '000141.mp3'\n",
      "\n",
      "Processing file: '000148.mp3'\n",
      "Processing audio: 'C:\\Users\\edoar\\Desktop\\le musiche\\000\\000148.mp3'\n",
      "Processing text: 'The audio segment features fastpaced electronic te...'\n"
     ]
    },
    {
     "name": "stderr",
     "output_type": "stream",
     "text": [
      "Processing Pairs:   6%|███▊                                                            | 6/100 [00:10<02:34,  1.65s/it]"
     ]
    },
    {
     "name": "stdout",
     "output_type": "stream",
     "text": [
      "✅ Successfully processed '000148.mp3'\n",
      "\n",
      "Processing file: '000182.mp3'\n",
      "Processing audio: 'C:\\Users\\edoar\\Desktop\\le musiche\\000\\000182.mp3'\n",
      "Processing text: 'Rock piece with drums guitar bass electric guitar ...'\n"
     ]
    },
    {
     "name": "stderr",
     "output_type": "stream",
     "text": [
      "Processing Pairs:   7%|████▍                                                           | 7/100 [00:11<02:32,  1.64s/it]"
     ]
    },
    {
     "name": "stdout",
     "output_type": "stream",
     "text": [
      "✅ Successfully processed '000182.mp3'\n",
      "\n",
      "Processing file: '000190.mp3'\n",
      "Processing audio: 'C:\\Users\\edoar\\Desktop\\le musiche\\000\\000190.mp3'\n",
      "Processing text: 'The audio segment features male voice singing engl...'\n"
     ]
    },
    {
     "name": "stderr",
     "output_type": "stream",
     "text": [
      "Processing Pairs:   8%|█████                                                           | 8/100 [00:13<02:32,  1.65s/it]"
     ]
    },
    {
     "name": "stdout",
     "output_type": "stream",
     "text": [
      "✅ Successfully processed '000190.mp3'\n",
      "\n",
      "Processing file: '000193.mp3'\n",
      "Processing audio: 'C:\\Users\\edoar\\Desktop\\le musiche\\000\\000193.mp3'\n",
      "Processing text: 'The audio segment features keyboard playing dark m...'\n"
     ]
    },
    {
     "name": "stderr",
     "output_type": "stream",
     "text": [
      "Processing Pairs:   9%|█████▊                                                          | 9/100 [00:15<02:26,  1.62s/it]"
     ]
    },
    {
     "name": "stdout",
     "output_type": "stream",
     "text": [
      "✅ Successfully processed '000193.mp3'\n",
      "\n",
      "Processing file: '000194.mp3'\n",
      "Processing audio: 'C:\\Users\\edoar\\Desktop\\le musiche\\000\\000194.mp3'\n",
      "Processing text: 'The first quarter of the audio features slow pop b...'\n"
     ]
    },
    {
     "name": "stderr",
     "output_type": "stream",
     "text": [
      "Processing Pairs:  10%|██████▎                                                        | 10/100 [00:17<02:41,  1.79s/it]"
     ]
    }
   ],
   "source": [
    "###embedding Descrizione Somma fragment\n",
    "\n",
    "\n",
    "\n",
    "import os\n",
    "import pandas as pd\n",
    "import torch\n",
    "import numpy as np\n",
    "import sys\n",
    "import matplotlib.pyplot as plt\n",
    "from tqdm import tqdm\n",
    "from msclap import CLAP\n",
    "import traceback\n",
    "import string\n",
    "import nltk\n",
    "from nltk.corpus import stopwords\n",
    "from nltk.tokenize import word_tokenize\n",
    "\n",
    "# --- Scarica le risorse NLTK ---\n",
    "try:\n",
    "    nltk.data.find('corpora/stopwords')\n",
    "except:\n",
    "    nltk.download('stopwords')\n",
    "try:\n",
    "    nltk.data.find('tokenizers/punkt')\n",
    "except:\n",
    "    nltk.download('punkt')\n",
    "try:\n",
    "    nltk.data.find('tokenizers/punkt_tab')\n",
    "except:\n",
    "    nltk.download('punkt_tab')\n",
    "\n",
    "# --- 1. Initial Configuration ---\n",
    "device = \"cuda\" if torch.cuda.is_available() else \"cpu\"\n",
    "print(f\"Using device: {device}\")\n",
    "\n",
    "# Paths\n",
    "PATHS = {\n",
    "  \n",
    "    \"csv_file\": r\"C:\\Users\\edoar\\Downloads\\audio_analysis_full_folder (2).csv\",\n",
    "    \"audio_files_folder\": r\"C:\\Users\\edoar\\Desktop\\le musiche\\000\",\n",
    "    \"clap_weights\": r\"C://Users//edoar//Downloads//CLAP_weights_2023.pth\",\n",
    "    \"output_statistics_csv\": r\"C:\\Users\\edoar\\CV_CMEAN_bufi_murolo\\Progetto\\Modulo Qwen Audio\\clap_similarity_statistics.csv\",\n",
    "    \"output_individual_similarities_csv\": r\"C:\\Users\\edoar\\CV_CMEAN_bufi_murolo\\Progetto\\Modulo Qwen Audio\\clap_individual_similarities.csv\"\n",
    "}\n",
    "\n",
    "# --- 2. Load CLAP Model ---\n",
    "try:\n",
    "    clap_model = CLAP(\n",
    "        version='2023',\n",
    "        model_fp=PATHS[\"clap_weights\"],\n",
    "        use_cuda=True if device == \"cuda\" else False\n",
    "    )\n",
    "    print(\"✅ CLAP model loaded successfully.\")\n",
    "except Exception as e:\n",
    "    print(f\"❌ Error loading CLAP model: {e}\")\n",
    "    traceback.print_exc(file=sys.stdout)\n",
    "    sys.exit(1)\n",
    "\n",
    "def read_song_data_from_csv(csv_path):\n",
    "    \"\"\"\n",
    "    Legge il file CSV, identifica i nomi dei file audio e costruisce una singola descrizione\n",
    "    concatenando i testi dei \"Fragment 1\", \"Fragment 2\", \"Fragment 3\" e \"Fragment 4\"\n",
    "    associati a ciascun brano.\n",
    "    \"\"\"\n",
    "    final_audio_filenames = []\n",
    "    final_descriptions = []\n",
    "    \n",
    "    try:\n",
    "        # Leggi l'intero file CSV, mantenendo i valori NA come stringhe vuote\n",
    "        df = pd.read_csv(csv_path, keep_default_na=False) \n",
    "        \n",
    "        print(\"\\nAnteprima del DataFrame:\")\n",
    "        print(df.head(10))\n",
    "\n",
    "        print(\"\\nColonne disponibili:\")\n",
    "        print(df.columns.tolist())\n",
    "        \n",
    "        # Cerca la colonna con i nomi dei file audio\n",
    "        possible_audio_columns = ['Song Name','Nome Canzone','Genre','Features Info','Description Type'] \n",
    "        audio_col = None\n",
    "        for col in possible_audio_columns:\n",
    "            if col in df.columns:\n",
    "                audio_col = col\n",
    "                break\n",
    "                \n",
    "        if audio_col is None:\n",
    "            print(\"❌ Nessuna colonna con i nomi dei file audio trovata tra le possibili opzioni.\")\n",
    "            return [], []\n",
    "\n",
    "        print(\"\\nInizio la raccolta delle descrizioni dai frammenti...\")\n",
    "        # Iteriamo su tutti gli indici del DataFrame\n",
    "        i = 0\n",
    "        while i < len(df):\n",
    "            current_filename_raw = str(df.loc[i, audio_col]).strip().replace('\"', '')\n",
    "            \n",
    "            # Controlliamo se questa riga è l'inizio di un nuovo brano (non un frammento)\n",
    "            if current_filename_raw and \\\n",
    "               current_filename_raw.lower() != 'nan' and \\\n",
    "               not current_filename_raw.lower().startswith('fragment') and \\\n",
    "               not current_filename_raw.lower().startswith('total'): # Aggiunto controllo anche su 'total' se per caso fosse nel nome del file\n",
    "                \n",
    "                song_name = current_filename_raw\n",
    "                combined_description_parts = []\n",
    "                \n",
    "                # Definiamo gli offset per i 4 frammenti\n",
    "                fragment_offsets = {\n",
    "                    0: \"Fragment 1\",\n",
    "                    1: \"Fragment 2\",\n",
    "                    2: \"Fragment 3\",\n",
    "                    3: \"Fragment 4\"\n",
    "                }\n",
    "\n",
    "                # Raccogliamo le descrizioni dei frammenti\n",
    "                for offset in range(4): # Controlliamo le 4 righe successive (idx, idx+1, idx+2, idx+3)\n",
    "                    fragment_row_idx = i + offset\n",
    "                    \n",
    "                    if fragment_row_idx >= len(df):\n",
    "                        # print(f\"DEBUG: Fine del DataFrame, impossibile trovare frammento {offset+1} per '{song_name}'.\")\n",
    "                        break # Fine del DataFrame, interrompiamo la ricerca dei frammenti per questo brano\n",
    "                    \n",
    "                    # Estrai il tipo di descrizione e il contenuto della descrizione dalla riga corrente\n",
    "                    desc_type = str(df.loc[fragment_row_idx, 'Description Type']).strip()\n",
    "                    desc_content = str(df.loc[fragment_row_idx, 'Description']).strip()\n",
    "\n",
    "                    # Verifica che il 'Description Type' corrisponda al frammento atteso\n",
    "                    if desc_type.lower() == fragment_offsets.get(offset, \"\").lower():\n",
    "                        if desc_content: # Aggiungi solo se il contenuto non è vuoto\n",
    "                            combined_description_parts.append(desc_content)\n",
    "                        # else:\n",
    "                        #     print(f\"DEBUG: Frammento {offset+1} per '{song_name}' trovato ma con descrizione vuota.\")\n",
    "                    # else:\n",
    "                        # print(f\"DEBUG: Salto riga {fragment_row_idx} per '{song_name}': 'Description Type' ('{desc_type}') non corrisponde a '{fragment_offsets.get(offset, '')}'.\")\n",
    "\n",
    "                # Concatena le descrizioni dei frammenti\n",
    "                combined_description = \" \".join(combined_description_parts).strip()\n",
    "                \n",
    "                # Se abbiamo una descrizione combinata valida, aggiungila alle liste finali\n",
    "                if combined_description:\n",
    "                    final_audio_filenames.append(song_name)\n",
    "                    final_descriptions.append(combined_description)\n",
    "                    # --- DEBUG PRINT ---\n",
    "                    print(f\"DEBUG: Trovata coppia valida: File='{song_name}' (indice inizio blocco: {i})\")\n",
    "                    print(f\"DEBUG: --> Descrizione combinata dai frammenti: '{combined_description[:150]}...'\") # Limita per leggibilità\n",
    "                    # --- FINE DEBUG PRINT ---\n",
    "                # else:\n",
    "                #     print(f\"DEBUG: Salto '{song_name}': Nessuna descrizione valida combinata dai frammenti.\")\n",
    "                \n",
    "                # Avanza l'indice di 5 righe (o al blocco successivo), includendo il 'Total' che non ci serve più.\n",
    "                # In questo modo, l'inizio del prossimo ciclo 'while' si troverà sull'inizio del prossimo brano.\n",
    "                i += 5 \n",
    "            else:\n",
    "                # Se non è l'inizio di un brano, avanza semplicemente alla prossima riga\n",
    "                i += 1\n",
    "\n",
    "        print(f\"\\n✅ Trovati {len(final_audio_filenames)} file audio e {len(final_descriptions)} descrizioni combinate dopo il filtro.\")\n",
    "        \n",
    "        # --- DEBUG PRINT FINALE ---\n",
    "        print(\"\\n--- Prime 5 coppie finali restituite da read_song_data_from_csv ---\")\n",
    "        for j in range(min(5, len(final_audio_filenames))):\n",
    "            print(f\"File [{j}]: '{final_audio_filenames[j]}'\")\n",
    "            print(f\"Descrizione [{j}]: '{final_descriptions[j][:100]}...'\") # Stampa i primi 100 caratteri\n",
    "        print(f\"Totale coppie processate: {len(final_audio_filenames)}\")\n",
    "        print(\"--------------------------------------------------\")\n",
    "        # --- FINE DEBUG PRINT FINALE ---\n",
    "\n",
    "    except Exception as e:\n",
    "        print(f\"❌ Errore nella lettura o nel filtro del CSV: {e}\")\n",
    "        traceback.print_exc(file=sys.stdout)\n",
    "        return [], []\n",
    "    \n",
    "    return final_audio_filenames, final_descriptions\n",
    "\n",
    "# --- Funzione di pulizia del testo ---\n",
    "def clean_description_text(text):\n",
    "    \"\"\"\n",
    "    Rimuove parole e frasi indesiderate dalla descrizione, normalizza e rimuove stop words.\n",
    "    \"\"\"\n",
    "    if not isinstance(text, str):\n",
    "        return \"\"\n",
    "\n",
    "    # 1. Converti in minuscolo\n",
    "    text = text.lower()\n",
    "\n",
    "    # 2. Rimuovi parole/frasi specifiche che sono \"rumore\"\n",
    "    phrases_to_remove = [\n",
    "        # Lasciato vuoto come nell'ultima versione fornita dall'utente, se vuoi aggiungere\n",
    "        # parole/frasi specifiche da rimuovere, aggiungile qui.\n",
    "    ]\n",
    "    phrases_to_remove.sort(key=len, reverse=True)\n",
    "\n",
    "    for phrase in phrases_to_remove:\n",
    "        text = text.replace(phrase, \" \")\n",
    "\n",
    "    # 3. Rimuovi punteggiatura\n",
    "    text = text.translate(str.maketrans('', '', string.punctuation))\n",
    "\n",
    "    # 4. Rimuovi numeri\n",
    "    text = ''.join([i for i in text if not i.isdigit()])\n",
    "\n",
    "    # 5. Tokenizza e rimuovi stop words\n",
    "    words = word_tokenize(text, language='italian')\n",
    "    stop_words_italian = set(stopwords.words('italian'))\n",
    "    filtered_words = [word for word in words if word.strip() and word not in stop_words_italian]\n",
    "    \n",
    "    # 6. Ricostruisci la stringa\n",
    "    text = \" \".join(filtered_words)\n",
    "    \n",
    "    # 7. Rimuovi spazi extra\n",
    "    text = \" \".join(text.split()).strip()\n",
    "    \n",
    "    # 8. Capitalizza la prima lettera\n",
    "    if text:\n",
    "        text = text[0].upper() + text[1:]\n",
    "\n",
    "    return text\n",
    "\n",
    "# --- 4. Load Data from CSV ---\n",
    "print(f\"\\nReading data from CSV file: {PATHS['csv_file']}\")\n",
    "audio_filenames, total_descriptions = read_song_data_from_csv(PATHS[\"csv_file\"])\n",
    "\n",
    "if not audio_filenames:\n",
    "    print(\"❌ Error: No valid audio filenames and total descriptions extracted from CSV after filtering.\")\n",
    "    sys.exit(1)\n",
    "\n",
    "# Stampa l'elenco dei file estratti dal CSV\n",
    "print(\"\\nElenco completo dei file audio estratti dal CSV (dopo la combinazione dei fragment):\")\n",
    "for i, filename in enumerate(audio_filenames):\n",
    "    if i < 10: # Stampa solo i primi 10 per non sovraccaricare l'output\n",
    "        print(f\"{i+1}. '{filename}'\")\n",
    "    elif i == 10:\n",
    "        print(\"...\")\n",
    "\n",
    "# Applica la pulizia alle descrizioni\n",
    "descriptions_cleaned = [clean_description_text(desc) for desc in total_descriptions]\n",
    "\n",
    "print(f\"\\n✅ Extracted {len(audio_filenames)} audio filenames and {len(descriptions_cleaned)} cleaned total descriptions from CSV.\")\n",
    "\n",
    "# --- 5. Extract Audio and Text Embeddings for each pair ---\n",
    "audio_embeddings_list = []\n",
    "text_embeddings_list = []\n",
    "processed_pairs_info = [] # This will store filename and original description for output\n",
    "\n",
    "print(\"\\nExtracting embeddings and computing similarities:\")\n",
    "for i in tqdm(range(len(audio_filenames)), desc=\"Processing Pairs\"):\n",
    "    filename = audio_filenames[i]\n",
    "    description_for_embedding = descriptions_cleaned[i]\n",
    "    description_original = total_descriptions[i] # Keep original for potential debugging/display\n",
    "    \n",
    "    print(f\"\\nProcessing file: '{filename}'\")\n",
    "    \n",
    "    MAX_TEXT_CHAR_LENGTH = 512\n",
    "    \n",
    "    if isinstance(description_for_embedding, str) and len(description_for_embedding) > MAX_TEXT_CHAR_LENGTH:\n",
    "        truncated_description = description_for_embedding[:MAX_TEXT_CHAR_LENGTH]\n",
    "        if not truncated_description.endswith('...'):\n",
    "            truncated_description += \"...\"\n",
    "    else:\n",
    "        truncated_description = description_for_embedding\n",
    "\n",
    "    # Controlla se il filename è vuoto o non valido\n",
    "    if not filename or str(filename).strip().lower() == 'nan':\n",
    "        print(f\"❌ Skipped: Invalid filename '{filename}'\")\n",
    "        continue\n",
    "\n",
    "    full_audio_path = os.path.join(PATHS[\"audio_files_folder\"], filename)\n",
    "\n",
    "    # Verifica se il file esiste\n",
    "    if not os.path.isfile(full_audio_path):\n",
    "        print(f\"❌ File not found: '{full_audio_path}'\")\n",
    "        # Prova con diverse estensioni\n",
    "        base_name, ext = os.path.splitext(filename)\n",
    "        extensions_to_try = ['.mp3', '.wav', '.flac', '.ogg']\n",
    "        found = False\n",
    "        \n",
    "        for ext in extensions_to_try:\n",
    "            attempt_path = os.path.join(PATHS[\"audio_files_folder\"], base_name + ext)\n",
    "            if os.path.isfile(attempt_path):\n",
    "                full_audio_path = attempt_path\n",
    "                found = True\n",
    "                print(f\"✅ Found alternative: '{full_audio_path}'\")\n",
    "                break\n",
    "                \n",
    "        if not found:\n",
    "            print(f\"❌ Could not find any audio file for '{filename}'\")\n",
    "            continue\n",
    "    \n",
    "    if not truncated_description.strip():\n",
    "        print(f\"⚠️ Skipped '{filename}': Description became empty after cleaning.\")\n",
    "        continue\n",
    "\n",
    "    try:\n",
    "        # Get audio embedding\n",
    "        print(f\"Processing audio: '{full_audio_path}'\")\n",
    "        audio_emb = clap_model.get_audio_embeddings([full_audio_path], resample=True)\n",
    "        \n",
    "        # Get text embedding\n",
    "        print(f\"Processing text: '{truncated_description[:50]}...'\")\n",
    "        text_emb = clap_model.get_text_embeddings([truncated_description])\n",
    "\n",
    "        audio_embeddings_list.append(audio_emb)\n",
    "        text_embeddings_list.append(text_emb)\n",
    "        processed_pairs_info.append({\n",
    "            'filename': os.path.basename(full_audio_path), \n",
    "            'description': description_original # Store original description here\n",
    "        })\n",
    "        print(f\"✅ Successfully processed '{filename}'\")\n",
    "\n",
    "    except Exception as e:\n",
    "        print(f\"❌ ERROR processing '{filename}': {str(e)}\")\n",
    "        traceback.print_exc(file=sys.stdout)\n",
    "        continue\n",
    "\n",
    "if not audio_embeddings_list:\n",
    "    print(\"\\n❌ Error: No audio-text pairs were successfully processed.\")\n",
    "    sys.exit(1)\n",
    "\n",
    "# Concatenate embeddings\n",
    "audio_embeddings_tensor = torch.vstack([e.squeeze(0) for e in audio_embeddings_list])\n",
    "text_embeddings_tensor = torch.vstack([e.squeeze(0) for e in text_embeddings_list])\n",
    "\n",
    "print(f\"\\n✅ Successfully extracted embeddings for {len(audio_embeddings_tensor)} pairs.\")\n",
    "\n",
    "# --- 6. Calculate Cosine Similarities ---\n",
    "audio_embeddings_norm = torch.nn.functional.normalize(audio_embeddings_tensor, p=2, dim=-1)\n",
    "text_embeddings_norm = torch.nn.functional.normalize(text_embeddings_tensor, p=2, dim=-1)\n",
    "\n",
    "similarities = (audio_embeddings_norm * text_embeddings_norm).sum(dim=-1)\n",
    "similarities_np = similarities.cpu().detach().numpy()\n",
    "\n",
    "print(f\"✅ Calculated {len(similarities_np)} audio-text similarities.\")\n",
    "\n",
    "# --- 7. Visualizzazione Distribuzione Similarità ---\n",
    "plt.figure(figsize=(10, 6))\n",
    "plt.hist(similarities_np, bins=30, color='skyblue', edgecolor='black')\n",
    "plt.title(\"Distribuzione Similarità Audio-Description (CLAP)\")\n",
    "plt.xlabel(\"Similarità Coseno\")\n",
    "plt.ylabel(\"Frequenza\")\n",
    "plt.grid(True)\n",
    "plt.tight_layout()\n",
    "plt.show()\n",
    "\n",
    "# --- 8. Statistiche Complessive ---\n",
    "print(\"\\n=== Statistiche Complessive Similarità Audio-Description (CLAP) ===\")\n",
    "num_pairs = len(similarities_np)\n",
    "mean_sim = np.mean(similarities_np)\n",
    "median_sim = np.median(similarities_np)\n",
    "std_sim = np.std(similarities_np)\n",
    "min_sim = np.min(similarities_np)\n",
    "max_sim = np.max(similarities_np)\n",
    "\n",
    "print(f\"Numero di coppie elaborate: {num_pairs}\")\n",
    "print(f\"Media: {mean_sim:.4f}\")\n",
    "print(f\"Mediana: {median_sim:.4f}\")\n",
    "print(f\"Deviazione standard: {std_sim:.4f}\")\n",
    "print(f\"Minima: {min_sim:.4f}\")\n",
    "print(f\"Massima: {max_sim:.4f}\")\n",
    "\n",
    "# --- 9. Salvataggio Statistiche Complessive su CSV ---\n",
    "try:\n",
    "    stats_df = pd.DataFrame({\n",
    "        'Metric': ['Numero di Coppie', 'Media', 'Mediana', 'Deviazione Standard', 'Minima', 'Massima'],\n",
    "        'Value': [num_pairs, mean_sim, median_sim, std_sim, min_sim, max_sim]\n",
    "    })\n",
    "    stats_df.to_csv(PATHS[\"output_statistics_csv\"], index=False)\n",
    "    print(f\"\\n✅ Statistiche complessive salvate in '{PATHS['output_statistics_csv']}'\")\n",
    "except Exception as e:\n",
    "    print(f\"❌ Errore durante il salvataggio delle statistiche: {e}\")\n",
    "    traceback.print_exc(file=sys.stdout)\n",
    "\n",
    "# --- 10. Salvataggio Similarità Individuali (MODIFIED) ---\n",
    "if processed_pairs_info:\n",
    "    individual_similarities_data = []\n",
    "    for idx, pair_info in enumerate(processed_pairs_info):\n",
    "        individual_similarities_data.append({\n",
    "            'Filename Audio': pair_info['filename'],\n",
    "            'Similarita Coseno': similarities_np[idx] \n",
    "        })\n",
    "    \n",
    "    try:\n",
    "        individual_sim_df = pd.DataFrame(individual_similarities_data)\n",
    "        individual_sim_df.to_csv(PATHS[\"output_individual_similarities_csv\"], index=False)\n",
    "        print(f\"✅ Similarità individuali salvate in '{PATHS['output_individual_similarities_csv']}' (senza colonna 'Descrizione Testo')\")\n",
    "    except Exception as e:\n",
    "        print(f\"❌ Errore durante il salvataggio delle similarità individuali: {e}\")\n",
    "        traceback.print_exc(file=sys.stdout)\n",
    "else:\n",
    "    print(\"\\n⚠️ Nessuna coppia audio-testo elaborata.\")\n",
    "\n",
    "# --- 11. Visualizza Esempi Migliori e Peggiori ---\n",
    "def print_similarity_examples(indices, title, data_info, similarities_scores, num_examples=5):\n",
    "    print(f\"\\n=== {title} ===\")\n",
    "    for i, idx in enumerate(indices):\n",
    "        if i >= num_examples:\n",
    "            break\n",
    "        filename = data_info[idx]['filename']\n",
    "        description = data_info[idx]['description'] \n",
    "        sim_score = similarities_scores[idx]\n",
    "        print(f\"File: {filename}, Similarità: {sim_score:.4f}\")\n",
    "        print(f\"Description: '{description[:200]}...'\\n\")\n",
    "\n",
    "# Ordina gli indici per similarità\n",
    "sorted_indices = np.argsort(similarities_np)\n",
    "\n",
    "# Visualizza i 5 peggiori match\n",
    "print_similarity_examples(sorted_indices[:5], \"🔻 Peggiori match Audio-Description\", processed_pairs_info, similarities_np)\n",
    "\n",
    "# Visualizza i 5 migliori match\n",
    "print_similarity_examples(sorted_indices[-5:][::-1], \"🔺 Migliori match Audio-Description\", processed_pairs_info, similarities_np)\n",
    "\n"
   ]
  },
  {
   "cell_type": "code",
   "execution_count": 3,
   "id": "69b5b38c-c1ff-4ff4-b98c-04fdda71f8c6",
   "metadata": {},
   "outputs": [
    {
     "name": "stdout",
     "output_type": "stream",
     "text": [
      "Esecuzione script per l'analisi delle statistiche delle descrizioni testuali.\n",
      "\n",
      "Lettura dati dal file CSV: C:\\Users\\edoar\\Downloads\\audio_analysis_full_folder (2).csv\n",
      "\n",
      "Anteprima del DataFrame:\n",
      "    Song Name Description Type  \\\n",
      "0  000002.mp3       Fragment 1   \n",
      "1                   Fragment 2   \n",
      "2                   Fragment 3   \n",
      "3                   Fragment 4   \n",
      "4                        Total   \n",
      "5  000005.mp3       Fragment 1   \n",
      "6                   Fragment 2   \n",
      "7                   Fragment 3   \n",
      "8                   Fragment 4   \n",
      "9                        Total   \n",
      "\n",
      "                                         Description  \n",
      "0  The first quarter of the audio features a hip-...  \n",
      "1  In the second half of the audio snippet, there...  \n",
      "2  The third and final segment features a male vo...  \n",
      "3  The fourth fragment of the audio features a hi...  \n",
      "4  The song is a hip-hop track with a distinctioa...  \n",
      "5  The first quarter of the audio features a hip-...  \n",
      "6  The second fragment features a male voice rapp...  \n",
      "7  The third and fourth segments of the audio fea...  \n",
      "8  The fourth fragment of the audio features a ma...  \n",
      "9  The song features heavy usage of brass instrum...  \n",
      "\n",
      "Colonne disponibili:\n",
      "['Song Name', 'Description Type', 'Description']\n",
      "\n",
      "Inizio la raccolta delle descrizioni dai frammenti/totali...\n",
      "\n",
      "✅ Trovati 100 file audio e 100 descrizioni combinate/totali dopo il filtro.\n",
      "\n",
      "--- Prime 5 coppie (nome file, inizio descrizione) per verifica ---\n",
      "File [0]: '000002.mp3'\n",
      "Descrizione [0]: 'The song is a hip-hop track with a distinctioable 'Nostalgic' feel. It features a blend of old-schoo...'\n",
      "File [1]: '000005.mp3'\n",
      "Descrizione [1]: 'The song features heavy usage of brass instruments alongside a choir, creating a powerful and domina...'\n",
      "File [2]: '000010.mp3'\n",
      "Descrizione [2]: 'The song features a lively rhythm section with drums and bass that contribute to its upbeat tempo. I...'\n",
      "File [3]: '000140.mp3'\n",
      "Descrizione [3]: 'The song features a blend of acoustic and electric guitars complemented by a violin, creating a rich...'\n",
      "File [4]: '000141.mp3'\n",
      "Descrizione [4]: 'The song features a rich blend of instruments, primarily strings and brass, complemented by woodwind...'\n",
      "Totale coppie processate: 100\n",
      "--------------------------------------------------\n",
      "\n",
      "✅ Estratti 100 nomi di file audio e 100 descrizioni totali pulite dal CSV.\n",
      "\n",
      "=== Calcolo delle statistiche sulle descrizioni testuali ===\n",
      "\n",
      "Lunghezza massima delle frasi (parole): 265\n",
      "Lunghezza minima delle frasi (parole): 38\n",
      "Lunghezza media delle frasi (parole): 83.56\n",
      "Numero di frasi > media: 44\n",
      "Numero di frasi < media: 56\n",
      "Numero di frasi = media: 0\n",
      "Numero totale di frasi: 100\n",
      "Frasi complete: 0\n",
      "Frasi incomplete: 100\n",
      "✅ Statistiche descrizioni salvate in 'C:\\Users\\edoar\\CV_CMEAN_bufi_murolo\\Progetto\\Modulo Qwen Audio\\description_statistics.csv'\n",
      "\n",
      "Script completato: Calcolo delle statistiche sui token delle descrizioni testuali terminato.\n"
     ]
    }
   ],
   "source": [
    "import os\n",
    "import pandas as pd\n",
    "import numpy as np\n",
    "import sys\n",
    "import csv\n",
    "import string\n",
    "import nltk\n",
    "from nltk.corpus import stopwords\n",
    "from nltk.tokenize import word_tokenize, sent_tokenize\n",
    "\n",
    "# --- Scarica le risorse NLTK (necessario solo la prima volta) ---\n",
    "try:\n",
    "    nltk.data.find('corpora/stopwords')\n",
    "except:\n",
    "    print(\"Download NLTK stopwords...\")\n",
    "    nltk.download('stopwords')\n",
    "try:\n",
    "    nltk.data.find('tokenizers/punkt')\n",
    "except:\n",
    "    print(\"Download NLTK punkt tokenizer...\")\n",
    "    nltk.download('punkt')\n",
    "\n",
    "# --- 1. Configurazione Iniziale ---\n",
    "print(f\"Esecuzione script per l'analisi delle statistiche delle descrizioni testuali.\")\n",
    "\n",
    "# Percorsi dei file\n",
    "PATHS = {\n",
    "    \"csv_file\": r\"C:\\Users\\edoar\\Downloads\\audio_analysis_full_folder (2).csv\",\n",
    "    \"output_description_statistics_csv\": r\"C:\\Users\\edoar\\CV_CMEAN_bufi_murolo\\Progetto\\Modulo Qwen Audio\\description_statistics.csv\"\n",
    "}\n",
    "\n",
    "def read_song_data_from_csv(csv_path):\n",
    "    \"\"\"\n",
    "    Legge il file CSV, identifica i nomi dei file audio e costruisce una singola descrizione\n",
    "    prioritizzando la descrizione 'Total', altrimenti concatenando i testi dei \"Fragment\".\n",
    "    \"\"\"\n",
    "    final_audio_filenames = []\n",
    "    final_descriptions = []\n",
    "    \n",
    "    try:\n",
    "        df = pd.read_csv(csv_path, keep_default_na=False) \n",
    "        \n",
    "        print(\"\\nAnteprima del DataFrame:\")\n",
    "        print(df.head(10))\n",
    "\n",
    "        print(\"\\nColonne disponibili:\")\n",
    "        print(df.columns.tolist())\n",
    "        \n",
    "        possible_audio_columns = ['Song Name','Nome Canzone','Genre','Features Info','Description Type'] \n",
    "        audio_col = None\n",
    "        for col in possible_audio_columns:\n",
    "            if col in df.columns:\n",
    "                audio_col = col\n",
    "                break\n",
    "                \n",
    "        if audio_col is None:\n",
    "            print(\"❌ Nessuna colonna con i nomi dei file audio trovata tra le possibili opzioni.\")\n",
    "            return [], []\n",
    "\n",
    "        print(\"\\nInizio la raccolta delle descrizioni dai frammenti/totali...\")\n",
    "        i = 0\n",
    "        while i < len(df):\n",
    "            current_filename_raw = str(df.loc[i, audio_col]).strip().replace('\"', '')\n",
    "            \n",
    "            if current_filename_raw and \\\n",
    "               current_filename_raw.lower() != 'nan' and \\\n",
    "               not current_filename_raw.lower().startswith('fragment') and \\\n",
    "               not current_filename_raw.lower().startswith('total'):\n",
    "                \n",
    "                song_name = current_filename_raw\n",
    "                combined_description_parts = []\n",
    "                total_description_content = \"\"\n",
    "\n",
    "                # Cerca le descrizioni nei blocchi di 5 righe\n",
    "                for offset in range(5):\n",
    "                    current_row_idx = i + offset\n",
    "                    \n",
    "                    if current_row_idx >= len(df):\n",
    "                        break\n",
    "                    \n",
    "                    desc_type = str(df.loc[current_row_idx, 'Description Type']).strip()\n",
    "                    desc_content = str(df.loc[current_row_idx, 'Description']).strip()\n",
    "\n",
    "                    if desc_type.lower() == 'total':\n",
    "                        total_description_content = desc_content\n",
    "                        break # Trovata descrizione totale, non cercare oltre i frammenti per questo brano\n",
    "                    elif desc_type.lower().startswith('fragment') and desc_content:\n",
    "                        combined_description_parts.append(desc_content)\n",
    "\n",
    "                # Prioritizza la descrizione 'Total'\n",
    "                if total_description_content:\n",
    "                    final_description = total_description_content\n",
    "                else:\n",
    "                    final_description = \" \".join(combined_description_parts).strip()\n",
    "                \n",
    "                if final_description:\n",
    "                    final_audio_filenames.append(song_name)\n",
    "                    final_descriptions.append(final_description)\n",
    "                \n",
    "                # Avanza l'indice di 5 righe per il prossimo blocco di brano\n",
    "                i += 5 \n",
    "            else:\n",
    "                i += 1 # Avanza di una riga se non è l'inizio di un brano\n",
    "\n",
    "        print(f\"\\n✅ Trovati {len(final_audio_filenames)} file audio e {len(final_descriptions)} descrizioni combinate/totali dopo il filtro.\")\n",
    "        \n",
    "        print(\"\\n--- Prime 5 coppie (nome file, inizio descrizione) per verifica ---\")\n",
    "        for j in range(min(5, len(final_audio_filenames))):\n",
    "            print(f\"File [{j}]: '{final_audio_filenames[j]}'\")\n",
    "            print(f\"Descrizione [{j}]: '{final_descriptions[j][:100]}...'\")\n",
    "        print(f\"Totale coppie processate: {len(final_audio_filenames)}\")\n",
    "        print(\"--------------------------------------------------\")\n",
    "\n",
    "    except Exception as e:\n",
    "        print(f\"❌ Errore nella lettura o nel filtro del CSV: {e}\")\n",
    "        # traceback.print_exc(file=sys.stdout) # Rimosso per pulizia output\n",
    "        return [], []\n",
    "    \n",
    "    return final_audio_filenames, final_descriptions\n",
    "\n",
    "def clean_description_text(text):\n",
    "    \"\"\"\n",
    "    Rimuove punteggiatura, numeri, trasforma in minuscolo e rimuove stop words.\n",
    "    \"\"\"\n",
    "    if not isinstance(text, str):\n",
    "        return \"\"\n",
    "\n",
    "    text = text.lower()\n",
    "    text = text.translate(str.maketrans('', '', string.punctuation))\n",
    "    text = ''.join([i for i in text if not i.isdigit()])\n",
    "\n",
    "    words = word_tokenize(text, language='italian')\n",
    "    stop_words_italian = set(stopwords.words('italian'))\n",
    "    filtered_words = [word for word in words if word.strip() and word not in stop_words_italian]\n",
    "    \n",
    "    text = \" \".join(filtered_words)\n",
    "    text = \" \".join(text.split()).strip()\n",
    "    \n",
    "    if text:\n",
    "        text = text[0].upper() + text[1:]\n",
    "\n",
    "    return text\n",
    "\n",
    "def calculate_description_statistics(descriptions: list, output_csv_path: str):\n",
    "    \"\"\"\n",
    "    Calcola e salva le statistiche sulla lunghezza e completezza delle frasi nelle descrizioni.\n",
    "    \"\"\"\n",
    "    print(\"\\n=== Calcolo delle statistiche sulle descrizioni testuali ===\")\n",
    "    \n",
    "    all_sentence_lengths = []\n",
    "    complete_sentences_count = 0\n",
    "    incomplete_sentences_count = 0\n",
    "    \n",
    "    for desc_idx, description in enumerate(descriptions):\n",
    "        if not isinstance(description, str) or not description.strip():\n",
    "            continue\n",
    "        \n",
    "        sentences = sent_tokenize(description, language='italian')\n",
    "        \n",
    "        for sentence in sentences:\n",
    "            cleaned_sentence = sentence.translate(str.maketrans('', '', string.punctuation)).strip()\n",
    "            cleaned_sentence = ''.join([i for i in cleaned_sentence if not i.isdigit()]).strip()\n",
    "            \n",
    "            words = word_tokenize(cleaned_sentence, language='italian')\n",
    "            sentence_length = len(words) \n",
    "            \n",
    "            if sentence_length > 0:\n",
    "                all_sentence_lengths.append(sentence_length)\n",
    "                \n",
    "                if sentence.endswith('.') or sentence.endswith('!') or sentence.endswith('?'):\n",
    "                    complete_sentences_count += 1\n",
    "                else:\n",
    "                    incomplete_sentences_count += 1\n",
    "    \n",
    "    if not all_sentence_lengths:\n",
    "        print(\"Nessuna frase valida trovata per il calcolo delle statistiche.\")\n",
    "        try:\n",
    "            with open(output_csv_path, 'w', newline='', encoding='utf-8') as csvfile:\n",
    "                writer = csv.writer(csvfile)\n",
    "                writer.writerow(['Metric', 'Value'])\n",
    "                writer.writerow(['Status', 'No valid sentences found'])\n",
    "            print(f\"Statistiche descrizioni salvate in '{output_csv_path}' (nessuna frase valida).\")\n",
    "        except Exception as e:\n",
    "            print(f\"ERRORE nel salvare le statistiche delle descrizioni: {e}\")\n",
    "        return\n",
    "\n",
    "    max_len = np.max(all_sentence_lengths)\n",
    "    min_len = np.min(all_sentence_lengths)\n",
    "    mean_len = np.mean(all_sentence_lengths)\n",
    "    \n",
    "    above_mean = sum(1 for length in all_sentence_lengths if length > mean_len)\n",
    "    below_mean = sum(1 for length in all_sentence_lengths if length < mean_len)\n",
    "    equal_mean = sum(1 for length in all_sentence_lengths if length == mean_len)\n",
    "    \n",
    "    total_sentences = len(all_sentence_lengths)\n",
    "\n",
    "    print(f\"\\nLunghezza massima delle frasi (parole): {max_len}\")\n",
    "    print(f\"Lunghezza minima delle frasi (parole): {min_len}\")\n",
    "    print(f\"Lunghezza media delle frasi (parole): {mean_len:.2f}\")\n",
    "    print(f\"Numero di frasi > media: {above_mean}\")\n",
    "    print(f\"Numero di frasi < media: {below_mean}\")\n",
    "    print(f\"Numero di frasi = media: {equal_mean}\")\n",
    "    print(f\"Numero totale di frasi: {total_sentences}\")\n",
    "    print(f\"Frasi complete: {complete_sentences_count}\")\n",
    "    print(f\"Frasi incomplete: {incomplete_sentences_count}\")\n",
    "    \n",
    "    try:\n",
    "        with open(output_csv_path, 'w', newline='', encoding='utf-8') as csvfile:\n",
    "            writer = csv.writer(csvfile)\n",
    "            writer.writerow(['Metric', 'Value'])\n",
    "            writer.writerow(['Max Sentence Length (Words)', max_len])\n",
    "            writer.writerow(['Min Sentence Length (Words)', min_len])\n",
    "            writer.writerow(['Mean Sentence Length (Words)', f\"{mean_len:.2f}\"])\n",
    "            writer.writerow(['Sentences > Mean Length', above_mean])\n",
    "            writer.writerow(['Sentences < Mean Length', below_mean])\n",
    "            writer.writerow(['Sentences = Mean Length', equal_mean])\n",
    "            writer.writerow(['Total Sentences', total_sentences])\n",
    "            writer.writerow(['Complete Sentences', complete_sentences_count])\n",
    "            writer.writerow(['Incomplete Sentences', incomplete_sentences_count])\n",
    "        print(f\"✅ Statistiche descrizioni salvate in '{output_csv_path}'\")\n",
    "    except Exception as e:\n",
    "        print(f\"❌ ERRORE nel salvare le statistiche delle descrizioni: {e}\")\n",
    "\n",
    "\n",
    "# --- Esecuzione principale ---\n",
    "print(f\"\\nLettura dati dal file CSV: {PATHS['csv_file']}\")\n",
    "audio_filenames, total_descriptions = read_song_data_from_csv(PATHS[\"csv_file\"])\n",
    "\n",
    "if not audio_filenames:\n",
    "    print(\"❌ Errore: Nessun nome di file audio e descrizione validi estratti dal CSV.\")\n",
    "    sys.exit(1)\n",
    "\n",
    "descriptions_cleaned = [clean_description_text(desc) for desc in total_descriptions]\n",
    "\n",
    "print(f\"\\n✅ Estratti {len(audio_filenames)} nomi di file audio e {len(descriptions_cleaned)} descrizioni totali pulite dal CSV.\")\n",
    "\n",
    "# --- Calcola e salva le statistiche sulle descrizioni ---\n",
    "calculate_description_statistics(descriptions_cleaned, PATHS[\"output_description_statistics_csv\"])\n",
    "\n",
    "print(\"\\nScript completato: Calcolo delle statistiche sui token delle descrizioni testuali terminato.\")"
   ]
  },
  {
   "cell_type": "code",
   "execution_count": null,
   "id": "62c9281f-14a3-470e-92a9-fba6165cc352",
   "metadata": {},
   "outputs": [],
   "source": []
  }
 ],
 "metadata": {
  "kernelspec": {
   "display_name": "Python [conda env:clap_env]",
   "language": "python",
   "name": "conda-env-clap_env-py"
  },
  "language_info": {
   "codemirror_mode": {
    "name": "ipython",
    "version": 3
   },
   "file_extension": ".py",
   "mimetype": "text/x-python",
   "name": "python",
   "nbconvert_exporter": "python",
   "pygments_lexer": "ipython3",
   "version": "3.10.18"
  }
 },
 "nbformat": 4,
 "nbformat_minor": 5
}
