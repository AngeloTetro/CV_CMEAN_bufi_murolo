{
 "cells": [
  {
   "cell_type": "code",
   "execution_count": 69,
   "id": "383bdbf0-786d-47fb-9588-f4b971e99877",
   "metadata": {},
   "outputs": [
    {
     "name": "stdout",
     "output_type": "stream",
     "text": [
      "Using device: cpu\n",
      "✅ CLAP model loaded successfully.\n",
      "\n",
      "Reading data from CSV file: C:\\Users\\edoar\\Downloads\\audio_analysis_full_folder_with_features (1).csv\n",
      "\n",
      "Anteprima del DataFrame:\n",
      "    Song Name    Genre           Features Info Description Type  \\\n",
      "0  000002.mp3  Hip-Hop  No features available.       Fragment 1   \n",
      "1                                                    Fragment 2   \n",
      "2                                                    Fragment 3   \n",
      "3                                                    Fragment 4   \n",
      "4                                                         Total   \n",
      "5  000005.mp3  Hip-Hop  No features available.       Fragment 1   \n",
      "6                                                    Fragment 2   \n",
      "7                                                    Fragment 3   \n",
      "8                                                    Fragment 4   \n",
      "9                                                         Total   \n",
      "\n",
      "                                         Description  \n",
      "0  A male rapper sings this hip-hop piece. There ...  \n",
      "1  The provided song segment is from a hip-hop tr...  \n",
      "2  The third and fourth fragments describe a hip-...  \n",
      "3  The audio segment is from a hip-hop track with...  \n",
      "4  The song is a hip-hop track with a distinct so...  \n",
      "5  A male vocalist sings this hip-hop song. The t...  \n",
      "6  The audio segment is from a hip-hop track with...  \n",
      "7  The third and fourth segments of the hip-hop t...  \n",
      "8  The audio segment is from a hip-hop track with...  \n",
      "9  The Hip-Hop track lacks any discernible instru...  \n",
      "\n",
      "Colonne disponibili:\n",
      "['Song Name', 'Genre', 'Features Info', 'Description Type', 'Description']\n",
      "\n",
      "Inizio la ricerca di nomi file audio e descrizioni allineate...\n"
     ]
    },
    {
     "name": "stderr",
     "output_type": "stream",
     "text": [
      "Analisi righe CSV: 100%|██████████████████████████████████████████████████████████| 310/310 [00:00<00:00, 21470.18it/s]\n"
     ]
    },
    {
     "name": "stdout",
     "output_type": "stream",
     "text": [
      "\n",
      "✅ Trovati 62 file audio e 62 descrizioni allineate dopo il filtro.\n",
      "\n",
      "Elenco completo dei file audio estratti dal CSV (dopo il filtro 'Fragment' e allineamento 'Total'):\n",
      "1. '000002.mp3'\n",
      "2. '000005.mp3'\n",
      "3. '000010.mp3'\n",
      "4. '000140.mp3'\n",
      "5. '000141.mp3'\n",
      "6. '000148.mp3'\n",
      "7. '000182.mp3'\n",
      "8. '000190.mp3'\n",
      "9. '000193.mp3'\n",
      "10. '000194.mp3'\n",
      "...\n",
      "\n",
      "✅ Extracted 62 audio filenames and 62 cleaned total descriptions from CSV.\n",
      "\n",
      "Extracting embeddings and computing similarities:\n"
     ]
    },
    {
     "name": "stderr",
     "output_type": "stream",
     "text": [
      "Processing Pairs:   0%|                                                                         | 0/62 [00:00<?, ?it/s]"
     ]
    },
    {
     "name": "stdout",
     "output_type": "stream",
     "text": [
      "\n",
      "Processing file: '000002.mp3'\n",
      "Processing audio: 'C:\\Users\\edoar\\Desktop\\le musiche\\000\\000002.mp3'\n",
      "Processing text: 'The song is hiphop track with distinct sound that ...'\n"
     ]
    },
    {
     "name": "stderr",
     "output_type": "stream",
     "text": [
      "Processing Pairs:   2%|█                                                                | 1/62 [00:01<01:56,  1.92s/it]"
     ]
    },
    {
     "name": "stdout",
     "output_type": "stream",
     "text": [
      "✅ Successfully processed '000002.mp3'\n",
      "\n",
      "Processing file: '000005.mp3'\n",
      "Processing audio: 'C:\\Users\\edoar\\Desktop\\le musiche\\000\\000005.mp3'\n",
      "Processing text: 'The hiphop track lacks any discernible instruments...'\n"
     ]
    },
    {
     "name": "stderr",
     "output_type": "stream",
     "text": [
      "Processing Pairs:   3%|██                                                               | 2/62 [00:03<01:42,  1.70s/it]"
     ]
    },
    {
     "name": "stdout",
     "output_type": "stream",
     "text": [
      "✅ Successfully processed '000005.mp3'\n",
      "\n",
      "Processing file: '000010.mp3'\n",
      "Processing audio: 'C:\\Users\\edoar\\Desktop\\le musiche\\000\\000010.mp3'\n",
      "Processing text: 'The genre of this pop song is not specified but it...'\n"
     ]
    },
    {
     "name": "stderr",
     "output_type": "stream",
     "text": [
      "Processing Pairs:   5%|███▏                                                             | 3/62 [00:04<01:27,  1.49s/it]"
     ]
    },
    {
     "name": "stdout",
     "output_type": "stream",
     "text": [
      "✅ Successfully processed '000010.mp3'\n",
      "\n",
      "Processing file: '000140.mp3'\n",
      "Processing audio: 'C:\\Users\\edoar\\Desktop\\le musiche\\000\\000140.mp3'\n",
      "Processing text: 'The genre of this folk piece is not specified but ...'\n"
     ]
    },
    {
     "name": "stderr",
     "output_type": "stream",
     "text": [
      "Processing Pairs:   6%|████▏                                                            | 4/62 [00:06<01:30,  1.57s/it]"
     ]
    },
    {
     "name": "stdout",
     "output_type": "stream",
     "text": [
      "✅ Successfully processed '000140.mp3'\n",
      "\n",
      "Processing file: '000141.mp3'\n",
      "Processing audio: 'C:\\Users\\edoar\\Desktop\\le musiche\\000\\000141.mp3'\n",
      "Processing text: 'The song under consideration belongs to the folk g...'\n"
     ]
    },
    {
     "name": "stderr",
     "output_type": "stream",
     "text": [
      "Processing Pairs:   8%|█████▏                                                           | 5/62 [00:07<01:24,  1.49s/it]"
     ]
    },
    {
     "name": "stdout",
     "output_type": "stream",
     "text": [
      "✅ Successfully processed '000141.mp3'\n",
      "\n",
      "Processing file: '000148.mp3'\n",
      "Processing audio: 'C:\\Users\\edoar\\Desktop\\le musiche\\000\\000148.mp3'\n",
      "Processing text: 'The provided audio track is an experimental piece ...'\n"
     ]
    },
    {
     "name": "stderr",
     "output_type": "stream",
     "text": [
      "Processing Pairs:  10%|██████▎                                                          | 6/62 [00:09<01:24,  1.51s/it]"
     ]
    },
    {
     "name": "stdout",
     "output_type": "stream",
     "text": [
      "✅ Successfully processed '000148.mp3'\n",
      "\n",
      "Processing file: '000182.mp3'\n",
      "Processing audio: 'C:\\Users\\edoar\\Desktop\\le musiche\\000\\000182.mp3'\n",
      "Processing text: 'The provided audio track lacks specific details ab...'\n"
     ]
    },
    {
     "name": "stderr",
     "output_type": "stream",
     "text": [
      "Processing Pairs:  11%|███████▎                                                         | 7/62 [00:10<01:23,  1.52s/it]"
     ]
    },
    {
     "name": "stdout",
     "output_type": "stream",
     "text": [
      "✅ Successfully processed '000182.mp3'\n",
      "\n",
      "Processing file: '000190.mp3'\n",
      "Processing audio: 'C:\\Users\\edoar\\Desktop\\le musiche\\000\\000190.mp3'\n",
      "Processing text: 'The song under consideration belongs to the folk g...'\n"
     ]
    },
    {
     "name": "stderr",
     "output_type": "stream",
     "text": [
      "Processing Pairs:  13%|████████▍                                                        | 8/62 [00:12<01:21,  1.51s/it]"
     ]
    },
    {
     "name": "stdout",
     "output_type": "stream",
     "text": [
      "✅ Successfully processed '000190.mp3'\n",
      "\n",
      "Processing file: '000193.mp3'\n",
      "Processing audio: 'C:\\Users\\edoar\\Desktop\\le musiche\\000\\000193.mp3'\n",
      "Processing text: 'The genre of this folk piece is characterized by i...'\n"
     ]
    },
    {
     "name": "stderr",
     "output_type": "stream",
     "text": [
      "Processing Pairs:  15%|█████████▍                                                       | 9/62 [00:14<01:26,  1.63s/it]"
     ]
    },
    {
     "name": "stdout",
     "output_type": "stream",
     "text": [
      "✅ Successfully processed '000193.mp3'\n",
      "\n",
      "Processing file: '000194.mp3'\n",
      "Processing audio: 'C:\\Users\\edoar\\Desktop\\le musiche\\000\\000194.mp3'\n",
      "Processing text: 'The song under discussion belongs to the folk genr...'\n"
     ]
    },
    {
     "name": "stderr",
     "output_type": "stream",
     "text": [
      "Processing Pairs:  16%|██████████▎                                                     | 10/62 [00:15<01:25,  1.65s/it]"
     ]
    },
    {
     "name": "stdout",
     "output_type": "stream",
     "text": [
      "✅ Successfully processed '000194.mp3'\n",
      "\n",
      "Processing file: '000197.mp3'\n",
      "Processing audio: 'C:\\Users\\edoar\\Desktop\\le musiche\\000\\000197.mp3'\n",
      "Processing text: 'The genre of this folk piece is characterized by a...'\n"
     ]
    },
    {
     "name": "stderr",
     "output_type": "stream",
     "text": [
      "Processing Pairs:  18%|███████████▎                                                    | 11/62 [00:17<01:25,  1.67s/it]"
     ]
    },
    {
     "name": "stdout",
     "output_type": "stream",
     "text": [
      "✅ Successfully processed '000197.mp3'\n",
      "\n",
      "Processing file: '000200.mp3'\n",
      "Processing audio: 'C:\\Users\\edoar\\Desktop\\le musiche\\000\\000200.mp3'\n",
      "Processing text: 'The folk song is characterized by the use of an ac...'\n"
     ]
    },
    {
     "name": "stderr",
     "output_type": "stream",
     "text": [
      "Processing Pairs:  19%|████████████▍                                                   | 12/62 [00:19<01:27,  1.74s/it]"
     ]
    },
    {
     "name": "stdout",
     "output_type": "stream",
     "text": [
      "✅ Successfully processed '000200.mp3'\n",
      "\n",
      "Processing file: '000203.mp3'\n",
      "Processing audio: 'C:\\Users\\edoar\\Desktop\\le musiche\\000\\000203.mp3'\n",
      "Processing text: 'The genre of this folk tune is not specified but i...'\n"
     ]
    },
    {
     "name": "stderr",
     "output_type": "stream",
     "text": [
      "Processing Pairs:  21%|█████████████▍                                                  | 13/62 [00:21<01:27,  1.78s/it]"
     ]
    },
    {
     "name": "stdout",
     "output_type": "stream",
     "text": [
      "✅ Successfully processed '000203.mp3'\n",
      "\n",
      "Processing file: '000204.mp3'\n",
      "Processing audio: 'C:\\Users\\edoar\\Desktop\\le musiche\\000\\000204.mp3'\n",
      "Processing text: 'The song is classic example of folk music with ric...'\n"
     ]
    },
    {
     "name": "stderr",
     "output_type": "stream",
     "text": [
      "Processing Pairs:  23%|██████████████▍                                                 | 14/62 [00:23<01:27,  1.83s/it]"
     ]
    },
    {
     "name": "stdout",
     "output_type": "stream",
     "text": [
      "✅ Successfully processed '000204.mp3'\n",
      "\n",
      "Processing file: '000207.mp3'\n",
      "Processing audio: 'C:\\Users\\edoar\\Desktop\\le musiche\\000\\000207.mp3'\n",
      "Processing text: 'The song under consideration belongs to the folk g...'\n"
     ]
    },
    {
     "name": "stderr",
     "output_type": "stream",
     "text": [
      "Processing Pairs:  24%|███████████████▍                                                | 15/62 [00:25<01:27,  1.85s/it]"
     ]
    },
    {
     "name": "stdout",
     "output_type": "stream",
     "text": [
      "✅ Successfully processed '000207.mp3'\n",
      "\n",
      "Processing file: '000210.mp3'\n",
      "Processing audio: 'C:\\Users\\edoar\\Desktop\\le musiche\\000\\000210.mp3'\n",
      "Processing text: 'The song under discussion belongs to the folk genr...'\n"
     ]
    },
    {
     "name": "stderr",
     "output_type": "stream",
     "text": [
      "Processing Pairs:  26%|████████████████▌                                               | 16/62 [00:26<01:22,  1.80s/it]"
     ]
    },
    {
     "name": "stdout",
     "output_type": "stream",
     "text": [
      "✅ Successfully processed '000210.mp3'\n",
      "\n",
      "Processing file: '000211.mp3'\n",
      "Processing audio: 'C:\\Users\\edoar\\Desktop\\le musiche\\000\\000211.mp3'\n",
      "Processing text: 'The folk song is instrumental with steady rhythm p...'\n"
     ]
    },
    {
     "name": "stderr",
     "output_type": "stream",
     "text": [
      "Processing Pairs:  27%|█████████████████▌                                              | 17/62 [00:28<01:16,  1.69s/it]"
     ]
    },
    {
     "name": "stdout",
     "output_type": "stream",
     "text": [
      "✅ Successfully processed '000211.mp3'\n",
      "\n",
      "Processing file: '000212.mp3'\n",
      "Processing audio: 'C:\\Users\\edoar\\Desktop\\le musiche\\000\\000212.mp3'\n",
      "Processing text: 'The song is classic example of folk music with dis...'\n"
     ]
    },
    {
     "name": "stderr",
     "output_type": "stream",
     "text": [
      "Processing Pairs:  29%|██████████████████▌                                             | 18/62 [00:29<01:13,  1.66s/it]"
     ]
    },
    {
     "name": "stdout",
     "output_type": "stream",
     "text": [
      "✅ Successfully processed '000212.mp3'\n",
      "\n",
      "Processing file: '000213.mp3'\n",
      "Processing audio: 'C:\\Users\\edoar\\Desktop\\le musiche\\000\\000213.mp3'\n",
      "Processing text: 'The song is lively pop track with brisk tempo of a...'\n"
     ]
    },
    {
     "name": "stderr",
     "output_type": "stream",
     "text": [
      "Processing Pairs:  31%|███████████████████▌                                            | 19/62 [00:31<01:12,  1.69s/it]"
     ]
    },
    {
     "name": "stdout",
     "output_type": "stream",
     "text": [
      "✅ Successfully processed '000213.mp3'\n",
      "\n",
      "Processing file: '000255.mp3'\n",
      "Processing audio: 'C:\\Users\\edoar\\Desktop\\le musiche\\000\\000255.mp3'\n",
      "Processing text: 'The song is lively piece f major with tempo of bpm...'\n"
     ]
    },
    {
     "name": "stderr",
     "output_type": "stream",
     "text": [
      "Processing Pairs:  32%|████████████████████▋                                           | 20/62 [00:33<01:06,  1.59s/it]"
     ]
    },
    {
     "name": "stdout",
     "output_type": "stream",
     "text": [
      "✅ Successfully processed '000255.mp3'\n",
      "\n",
      "Processing file: '000256.mp3'\n",
      "Processing audio: 'C:\\Users\\edoar\\Desktop\\le musiche\\000\\000256.mp3'\n",
      "Processing text: 'The song under consideration belongs to the rock g...'\n"
     ]
    },
    {
     "name": "stderr",
     "output_type": "stream",
     "text": [
      "Processing Pairs:  34%|█████████████████████▋                                          | 21/62 [00:34<01:03,  1.55s/it]"
     ]
    },
    {
     "name": "stdout",
     "output_type": "stream",
     "text": [
      "✅ Successfully processed '000256.mp3'\n",
      "\n",
      "Processing file: '000368.mp3'\n",
      "Processing audio: 'C:\\Users\\edoar\\Desktop\\le musiche\\000\\000368.mp3'\n",
      "Processing text: 'The genre of the track is rock with no specific in...'\n"
     ]
    },
    {
     "name": "stderr",
     "output_type": "stream",
     "text": [
      "Processing Pairs:  35%|██████████████████████▋                                         | 22/62 [00:35<01:00,  1.51s/it]"
     ]
    },
    {
     "name": "stdout",
     "output_type": "stream",
     "text": [
      "✅ Successfully processed '000368.mp3'\n",
      "\n",
      "Processing file: '000424.mp3'\n",
      "Processing audio: 'C:\\Users\\edoar\\Desktop\\le musiche\\000\\000424.mp3'\n",
      "Processing text: 'The audio clip contains an experimental piece with...'\n"
     ]
    },
    {
     "name": "stderr",
     "output_type": "stream",
     "text": [
      "Processing Pairs:  37%|███████████████████████▋                                        | 23/62 [00:37<01:02,  1.62s/it]"
     ]
    },
    {
     "name": "stdout",
     "output_type": "stream",
     "text": [
      "✅ Successfully processed '000424.mp3'\n",
      "\n",
      "Processing file: '000459.mp3'\n",
      "Processing audio: 'C:\\Users\\edoar\\Desktop\\le musiche\\000\\000459.mp3'\n",
      "Processing text: 'The song under consideration belongs to the rock g...'\n"
     ]
    },
    {
     "name": "stderr",
     "output_type": "stream",
     "text": [
      "Processing Pairs:  39%|████████████████████████▊                                       | 24/62 [00:39<01:02,  1.66s/it]"
     ]
    },
    {
     "name": "stdout",
     "output_type": "stream",
     "text": [
      "✅ Successfully processed '000459.mp3'\n",
      "\n",
      "Processing file: '000534.mp3'\n",
      "Processing audio: 'C:\\Users\\edoar\\Desktop\\le musiche\\000\\000534.mp3'\n",
      "Processing text: 'The genre of this folk piece is characterized by i...'\n"
     ]
    },
    {
     "name": "stderr",
     "output_type": "stream",
     "text": [
      "Processing Pairs:  40%|█████████████████████████▊                                      | 25/62 [00:41<00:59,  1.60s/it]"
     ]
    },
    {
     "name": "stdout",
     "output_type": "stream",
     "text": [
      "✅ Successfully processed '000534.mp3'\n",
      "\n",
      "Processing file: '000540.mp3'\n",
      "Processing audio: 'C:\\Users\\edoar\\Desktop\\le musiche\\000\\000540.mp3'\n",
      "Processing text: 'The genre of this folk piece is characterized by a...'\n"
     ]
    },
    {
     "name": "stderr",
     "output_type": "stream",
     "text": [
      "Processing Pairs:  42%|██████████████████████████▊                                     | 26/62 [00:42<00:52,  1.46s/it]"
     ]
    },
    {
     "name": "stdout",
     "output_type": "stream",
     "text": [
      "✅ Successfully processed '000540.mp3'\n",
      "\n",
      "Processing file: '000546.mp3'\n",
      "Processing audio: 'C:\\Users\\edoar\\Desktop\\le musiche\\000\\000546.mp3'\n",
      "Processing text: 'The song is classic example of folk music with ric...'\n"
     ]
    },
    {
     "name": "stderr",
     "output_type": "stream",
     "text": [
      "Processing Pairs:  44%|███████████████████████████▊                                    | 27/62 [00:43<00:47,  1.35s/it]"
     ]
    },
    {
     "name": "stdout",
     "output_type": "stream",
     "text": [
      "✅ Successfully processed '000546.mp3'\n",
      "\n",
      "Processing file: '000574.mp3'\n",
      "Processing audio: 'C:\\Users\\edoar\\Desktop\\le musiche\\000\\000574.mp3'\n",
      "Processing text: 'The genre of the track is rock there are no specif...'\n"
     ]
    },
    {
     "name": "stderr",
     "output_type": "stream",
     "text": [
      "Processing Pairs:  45%|████████████████████████████▉                                   | 28/62 [00:44<00:46,  1.36s/it]"
     ]
    },
    {
     "name": "stdout",
     "output_type": "stream",
     "text": [
      "✅ Successfully processed '000574.mp3'\n",
      "\n",
      "Processing file: '000602.mp3'\n",
      "Processing audio: 'C:\\Users\\edoar\\Desktop\\le musiche\\000\\000602.mp3'\n",
      "Processing text: 'The song is beautiful blend of acoustic guitar and...'\n"
     ]
    },
    {
     "name": "stderr",
     "output_type": "stream",
     "text": [
      "Processing Pairs:  47%|█████████████████████████████▉                                  | 29/62 [00:46<00:45,  1.36s/it]"
     ]
    },
    {
     "name": "stdout",
     "output_type": "stream",
     "text": [
      "✅ Successfully processed '000602.mp3'\n",
      "\n",
      "Processing file: '000615.mp3'\n",
      "Processing audio: 'C:\\Users\\edoar\\Desktop\\le musiche\\000\\000615.mp3'\n",
      "Processing text: 'The audio clip is an experimental piece with no sp...'\n"
     ]
    },
    {
     "name": "stderr",
     "output_type": "stream",
     "text": [
      "Processing Pairs:  48%|██████████████████████████████▉                                 | 30/62 [00:47<00:46,  1.45s/it]"
     ]
    },
    {
     "name": "stdout",
     "output_type": "stream",
     "text": [
      "✅ Successfully processed '000615.mp3'\n",
      "\n",
      "Processing file: '000620.mp3'\n",
      "Processing audio: 'C:\\Users\\edoar\\Desktop\\le musiche\\000\\000620.mp3'\n",
      "Processing text: 'The song under consideration belongs to the folk g...'\n"
     ]
    },
    {
     "name": "stderr",
     "output_type": "stream",
     "text": [
      "Processing Pairs:  50%|████████████████████████████████                                | 31/62 [00:49<00:48,  1.56s/it]"
     ]
    },
    {
     "name": "stdout",
     "output_type": "stream",
     "text": [
      "✅ Successfully processed '000620.mp3'\n",
      "\n",
      "Processing file: '000621.mp3'\n",
      "Processing audio: 'C:\\Users\\edoar\\Desktop\\le musiche\\000\\000621.mp3'\n",
      "Processing text: 'The song is classic example of folk music with dis...'\n"
     ]
    },
    {
     "name": "stderr",
     "output_type": "stream",
     "text": [
      "Processing Pairs:  52%|█████████████████████████████████                               | 32/62 [00:51<00:50,  1.69s/it]"
     ]
    },
    {
     "name": "stdout",
     "output_type": "stream",
     "text": [
      "✅ Successfully processed '000621.mp3'\n",
      "\n",
      "Processing file: '000625.mp3'\n",
      "Processing audio: 'C:\\Users\\edoar\\Desktop\\le musiche\\000\\000625.mp3'\n",
      "Processing text: 'The song under discussion belongs to the folk genr...'\n"
     ]
    },
    {
     "name": "stderr",
     "output_type": "stream",
     "text": [
      "Processing Pairs:  53%|██████████████████████████████████                              | 33/62 [00:52<00:47,  1.64s/it]"
     ]
    },
    {
     "name": "stdout",
     "output_type": "stream",
     "text": [
      "✅ Successfully processed '000625.mp3'\n",
      "\n",
      "Processing file: '000666.mp3'\n",
      "Processing audio: 'C:\\Users\\edoar\\Desktop\\le musiche\\000\\000666.mp3'\n",
      "Processing text: 'The song is an amalgamation of various musical ele...'\n"
     ]
    },
    {
     "name": "stderr",
     "output_type": "stream",
     "text": [
      "Processing Pairs:  55%|███████████████████████████████████                             | 34/62 [00:54<00:45,  1.61s/it]"
     ]
    },
    {
     "name": "stdout",
     "output_type": "stream",
     "text": [
      "✅ Successfully processed '000666.mp3'\n",
      "\n",
      "Processing file: '000667.mp3'\n",
      "Processing audio: 'C:\\Users\\edoar\\Desktop\\le musiche\\000\\000667.mp3'\n",
      "Processing text: 'The song is an amalgamation of various musical gen...'\n"
     ]
    },
    {
     "name": "stderr",
     "output_type": "stream",
     "text": [
      "Processing Pairs:  56%|████████████████████████████████████▏                           | 35/62 [00:55<00:42,  1.56s/it]"
     ]
    },
    {
     "name": "stdout",
     "output_type": "stream",
     "text": [
      "✅ Successfully processed '000667.mp3'\n",
      "\n",
      "Processing file: '000676.mp3'\n",
      "Processing audio: 'C:\\Users\\edoar\\Desktop\\le musiche\\000\\000676.mp3'\n",
      "Processing text: 'The provided hiphop track features minimalistic ap...'\n"
     ]
    },
    {
     "name": "stderr",
     "output_type": "stream",
     "text": [
      "Processing Pairs:  58%|█████████████████████████████████████▏                          | 36/62 [00:57<00:41,  1.58s/it]"
     ]
    },
    {
     "name": "stdout",
     "output_type": "stream",
     "text": [
      "✅ Successfully processed '000676.mp3'\n",
      "\n",
      "Processing file: '000690.mp3'\n",
      "Processing audio: 'C:\\Users\\edoar\\Desktop\\le musiche\\000\\000690.mp3'\n",
      "Processing text: 'The song under discussion belongs to the rock genr...'\n"
     ]
    },
    {
     "name": "stderr",
     "output_type": "stream",
     "text": [
      "Processing Pairs:  60%|██████████████████████████████████████▏                         | 37/62 [00:59<00:41,  1.64s/it]"
     ]
    },
    {
     "name": "stdout",
     "output_type": "stream",
     "text": [
      "✅ Successfully processed '000690.mp3'\n",
      "\n",
      "Processing file: '000694.mp3'\n",
      "Processing audio: 'C:\\Users\\edoar\\Desktop\\le musiche\\000\\000694.mp3'\n",
      "Processing text: 'The provided hiphop track features no distinct ins...'\n"
     ]
    },
    {
     "name": "stderr",
     "output_type": "stream",
     "text": [
      "Processing Pairs:  61%|███████████████████████████████████████▏                        | 38/62 [01:01<00:40,  1.70s/it]"
     ]
    },
    {
     "name": "stdout",
     "output_type": "stream",
     "text": [
      "✅ Successfully processed '000694.mp3'\n",
      "\n",
      "Processing file: '000695.mp3'\n",
      "Processing audio: 'C:\\Users\\edoar\\Desktop\\le musiche\\000\\000695.mp3'\n",
      "Processing text: 'The provided hiphop track features no distinct ins...'\n"
     ]
    },
    {
     "name": "stderr",
     "output_type": "stream",
     "text": [
      "Processing Pairs:  63%|████████████████████████████████████████▎                       | 39/62 [01:03<00:40,  1.78s/it]"
     ]
    },
    {
     "name": "stdout",
     "output_type": "stream",
     "text": [
      "✅ Successfully processed '000695.mp3'\n",
      "\n",
      "Processing file: '000704.mp3'\n",
      "Processing audio: 'C:\\Users\\edoar\\Desktop\\le musiche\\000\\000704.mp3'\n",
      "Processing text: 'The song belongs to the international genre charac...'\n"
     ]
    },
    {
     "name": "stderr",
     "output_type": "stream",
     "text": [
      "Processing Pairs:  65%|█████████████████████████████████████████▎                      | 40/62 [01:04<00:36,  1.66s/it]"
     ]
    },
    {
     "name": "stdout",
     "output_type": "stream",
     "text": [
      "✅ Successfully processed '000704.mp3'\n",
      "\n",
      "Processing file: '000705.mp3'\n",
      "Processing audio: 'C:\\Users\\edoar\\Desktop\\le musiche\\000\\000705.mp3'\n",
      "Processing text: 'The song is an amalgamation of various musical gen...'\n"
     ]
    },
    {
     "name": "stderr",
     "output_type": "stream",
     "text": [
      "Processing Pairs:  66%|██████████████████████████████████████████▎                     | 41/62 [01:06<00:35,  1.67s/it]"
     ]
    },
    {
     "name": "stdout",
     "output_type": "stream",
     "text": [
      "✅ Successfully processed '000705.mp3'\n",
      "\n",
      "Processing file: '000706.mp3'\n",
      "Processing audio: 'C:\\Users\\edoar\\Desktop\\le musiche\\000\\000706.mp3'\n",
      "Processing text: 'The audio track is of the international genre char...'\n"
     ]
    },
    {
     "name": "stderr",
     "output_type": "stream",
     "text": [
      "Processing Pairs:  68%|███████████████████████████████████████████▎                    | 42/62 [01:07<00:33,  1.67s/it]"
     ]
    },
    {
     "name": "stdout",
     "output_type": "stream",
     "text": [
      "✅ Successfully processed '000706.mp3'\n",
      "\n",
      "Processing file: '000707.mp3'\n",
      "Processing audio: 'C:\\Users\\edoar\\Desktop\\le musiche\\000\\000707.mp3'\n",
      "Processing text: 'The song is an amalgamation of various musical gen...'\n"
     ]
    },
    {
     "name": "stderr",
     "output_type": "stream",
     "text": [
      "Processing Pairs:  69%|████████████████████████████████████████████▍                   | 43/62 [01:09<00:32,  1.69s/it]"
     ]
    },
    {
     "name": "stdout",
     "output_type": "stream",
     "text": [
      "✅ Successfully processed '000707.mp3'\n",
      "\n",
      "Processing file: '000708.mp3'\n",
      "Processing audio: 'C:\\Users\\edoar\\Desktop\\le musiche\\000\\000708.mp3'\n",
      "Processing text: 'The song under discussion belongs to the internati...'\n"
     ]
    },
    {
     "name": "stderr",
     "output_type": "stream",
     "text": [
      "Processing Pairs:  71%|█████████████████████████████████████████████▍                  | 44/62 [01:11<00:30,  1.68s/it]"
     ]
    },
    {
     "name": "stdout",
     "output_type": "stream",
     "text": [
      "✅ Successfully processed '000708.mp3'\n",
      "\n",
      "Processing file: '000709.mp3'\n",
      "Processing audio: 'C:\\Users\\edoar\\Desktop\\le musiche\\000\\000709.mp3'\n",
      "Processing text: 'The provided track is of the international genre w...'\n"
     ]
    },
    {
     "name": "stderr",
     "output_type": "stream",
     "text": [
      "Processing Pairs:  73%|██████████████████████████████████████████████▍                 | 45/62 [01:13<00:28,  1.70s/it]"
     ]
    },
    {
     "name": "stdout",
     "output_type": "stream",
     "text": [
      "✅ Successfully processed '000709.mp3'\n",
      "\n",
      "Processing file: '000714.mp3'\n",
      "Processing audio: 'C:\\Users\\edoar\\Desktop\\le musiche\\000\\000714.mp3'\n",
      "Processing text: 'The song under consideration belongs to the folk g...'\n"
     ]
    },
    {
     "name": "stderr",
     "output_type": "stream",
     "text": [
      "Processing Pairs:  74%|███████████████████████████████████████████████▍                | 46/62 [01:14<00:27,  1.74s/it]"
     ]
    },
    {
     "name": "stdout",
     "output_type": "stream",
     "text": [
      "✅ Successfully processed '000714.mp3'\n",
      "\n",
      "Processing file: '000715.mp3'\n",
      "Processing audio: 'C:\\Users\\edoar\\Desktop\\le musiche\\000\\000715.mp3'\n",
      "Processing text: 'The genre of this folk piece is not specified but ...'\n"
     ]
    },
    {
     "name": "stderr",
     "output_type": "stream",
     "text": [
      "Processing Pairs:  76%|████████████████████████████████████████████████▌               | 47/62 [01:16<00:25,  1.70s/it]"
     ]
    },
    {
     "name": "stdout",
     "output_type": "stream",
     "text": [
      "✅ Successfully processed '000715.mp3'\n",
      "\n",
      "Processing file: '000716.mp3'\n",
      "Processing audio: 'C:\\Users\\edoar\\Desktop\\le musiche\\000\\000716.mp3'\n",
      "Processing text: 'The song is slowpaced piece minor with tempo of ar...'\n"
     ]
    },
    {
     "name": "stderr",
     "output_type": "stream",
     "text": [
      "Processing Pairs:  77%|█████████████████████████████████████████████████▌              | 48/62 [01:17<00:21,  1.53s/it]"
     ]
    },
    {
     "name": "stdout",
     "output_type": "stream",
     "text": [
      "✅ Successfully processed '000716.mp3'\n",
      "\n",
      "Processing file: '000718.mp3'\n",
      "Processing audio: 'C:\\Users\\edoar\\Desktop\\le musiche\\000\\000718.mp3'\n",
      "Processing text: 'The song under analysis belongs to the folk genre ...'\n"
     ]
    },
    {
     "name": "stderr",
     "output_type": "stream",
     "text": [
      "Processing Pairs:  79%|██████████████████████████████████████████████████▌             | 49/62 [01:18<00:18,  1.40s/it]"
     ]
    },
    {
     "name": "stdout",
     "output_type": "stream",
     "text": [
      "✅ Successfully processed '000718.mp3'\n",
      "\n",
      "Processing file: '000777.mp3'\n",
      "Processing audio: 'C:\\Users\\edoar\\Desktop\\le musiche\\000\\000777.mp3'\n",
      "Processing text: 'The genre of the song is rock with no specific ins...'\n"
     ]
    },
    {
     "name": "stderr",
     "output_type": "stream",
     "text": [
      "Processing Pairs:  81%|███████████████████████████████████████████████████▌            | 50/62 [01:19<00:15,  1.31s/it]"
     ]
    },
    {
     "name": "stdout",
     "output_type": "stream",
     "text": [
      "✅ Successfully processed '000777.mp3'\n",
      "\n",
      "Processing file: '000814.mp3'\n",
      "Processing audio: 'C:\\Users\\edoar\\Desktop\\le musiche\\000\\000814.mp3'\n",
      "Processing text: 'The song is lively piece d major with tempo of aro...'\n"
     ]
    },
    {
     "name": "stderr",
     "output_type": "stream",
     "text": [
      "Processing Pairs:  82%|████████████████████████████████████████████████████▋           | 51/62 [01:21<00:15,  1.39s/it]"
     ]
    },
    {
     "name": "stdout",
     "output_type": "stream",
     "text": [
      "✅ Successfully processed '000814.mp3'\n",
      "\n",
      "Processing file: '000821.mp3'\n",
      "Processing audio: 'C:\\Users\\edoar\\Desktop\\le musiche\\000\\000821.mp3'\n",
      "Processing text: 'The provided pop song features minimalistic approa...'\n"
     ]
    },
    {
     "name": "stderr",
     "output_type": "stream",
     "text": [
      "Processing Pairs:  84%|█████████████████████████████████████████████████████▋          | 52/62 [01:23<00:15,  1.52s/it]"
     ]
    },
    {
     "name": "stdout",
     "output_type": "stream",
     "text": [
      "✅ Successfully processed '000821.mp3'\n",
      "\n",
      "Processing file: '000822.mp3'\n",
      "Processing audio: 'C:\\Users\\edoar\\Desktop\\le musiche\\000\\000822.mp3'\n",
      "Processing text: 'The song under discussion belongs to the pop genre...'\n"
     ]
    },
    {
     "name": "stderr",
     "output_type": "stream",
     "text": [
      "Processing Pairs:  85%|██████████████████████████████████████████████████████▋         | 53/62 [01:24<00:13,  1.54s/it]"
     ]
    },
    {
     "name": "stdout",
     "output_type": "stream",
     "text": [
      "✅ Successfully processed '000822.mp3'\n",
      "\n",
      "Processing file: '000825.mp3'\n",
      "Processing audio: 'C:\\Users\\edoar\\Desktop\\le musiche\\000\\000825.mp3'\n",
      "Processing text: 'The song is classic rock piece with tempo of aroun...'\n"
     ]
    },
    {
     "name": "stderr",
     "output_type": "stream",
     "text": [
      "Processing Pairs:  87%|███████████████████████████████████████████████████████▋        | 54/62 [01:26<00:11,  1.45s/it]"
     ]
    },
    {
     "name": "stdout",
     "output_type": "stream",
     "text": [
      "✅ Successfully processed '000825.mp3'\n",
      "\n",
      "Processing file: '000853.mp3'\n",
      "Processing audio: 'C:\\Users\\edoar\\Desktop\\le musiche\\000\\000853.mp3'\n",
      "Processing text: 'The provided audio track is of the international g...'\n"
     ]
    },
    {
     "name": "stderr",
     "output_type": "stream",
     "text": [
      "Processing Pairs:  89%|████████████████████████████████████████████████████████▊       | 55/62 [01:27<00:09,  1.38s/it]"
     ]
    },
    {
     "name": "stdout",
     "output_type": "stream",
     "text": [
      "✅ Successfully processed '000853.mp3'\n",
      "\n",
      "Processing file: '000890.mp3'\n",
      "Processing audio: 'C:\\Users\\edoar\\Desktop\\le musiche\\000\\000890.mp3'\n",
      "Processing text: 'The song under discussion belongs to the folk genr...'\n"
     ]
    },
    {
     "name": "stderr",
     "output_type": "stream",
     "text": [
      "Processing Pairs:  90%|█████████████████████████████████████████████████████████▊      | 56/62 [01:28<00:07,  1.33s/it]"
     ]
    },
    {
     "name": "stdout",
     "output_type": "stream",
     "text": [
      "✅ Successfully processed '000890.mp3'\n",
      "\n",
      "Processing file: '000892.mp3'\n",
      "Processing audio: 'C:\\Users\\edoar\\Desktop\\le musiche\\000\\000892.mp3'\n",
      "Processing text: 'The genre of this folk piece is not specified but ...'\n"
     ]
    },
    {
     "name": "stderr",
     "output_type": "stream",
     "text": [
      "Processing Pairs:  92%|██████████████████████████████████████████████████████████▊     | 57/62 [01:29<00:06,  1.25s/it]"
     ]
    },
    {
     "name": "stdout",
     "output_type": "stream",
     "text": [
      "✅ Successfully processed '000892.mp3'\n",
      "\n",
      "Processing file: '000897.mp3'\n",
      "Processing audio: 'C:\\Users\\edoar\\Desktop\\le musiche\\000\\000897.mp3'\n",
      "Processing text: 'The song under consideration is purely instrumenta...'\n"
     ]
    },
    {
     "name": "stderr",
     "output_type": "stream",
     "text": [
      "Processing Pairs:  94%|███████████████████████████████████████████████████████████▊    | 58/62 [01:30<00:04,  1.20s/it]"
     ]
    },
    {
     "name": "stdout",
     "output_type": "stream",
     "text": [
      "✅ Successfully processed '000897.mp3'\n",
      "\n",
      "Processing file: '000993.mp3'\n",
      "Processing audio: 'C:\\Users\\edoar\\Desktop\\le musiche\\000\\000993.mp3'\n",
      "Processing text: 'The song is classic rock number with tempo of arou...'\n"
     ]
    },
    {
     "name": "stderr",
     "output_type": "stream",
     "text": [
      "Processing Pairs:  95%|████████████████████████████████████████████████████████████▉   | 59/62 [01:31<00:03,  1.16s/it]"
     ]
    },
    {
     "name": "stdout",
     "output_type": "stream",
     "text": [
      "✅ Successfully processed '000993.mp3'\n",
      "\n",
      "Processing file: '000995.mp3'\n",
      "Processing audio: 'C:\\Users\\edoar\\Desktop\\le musiche\\000\\000995.mp3'\n",
      "Processing text: 'The experimental track lacks distinct instruments ...'\n"
     ]
    },
    {
     "name": "stderr",
     "output_type": "stream",
     "text": [
      "Processing Pairs:  97%|█████████████████████████████████████████████████████████████▉  | 60/62 [01:32<00:02,  1.15s/it]"
     ]
    },
    {
     "name": "stdout",
     "output_type": "stream",
     "text": [
      "✅ Successfully processed '000995.mp3'\n",
      "\n",
      "Processing file: '000997.mp3'\n",
      "Processing audio: 'C:\\Users\\edoar\\Desktop\\le musiche\\000\\000997.mp3'\n",
      "Processing text: 'The provided track is an experimental piece charac...'\n"
     ]
    },
    {
     "name": "stderr",
     "output_type": "stream",
     "text": [
      "Processing Pairs:  98%|██████████████████████████████████████████████████████████████▉ | 61/62 [01:33<00:01,  1.14s/it]"
     ]
    },
    {
     "name": "stdout",
     "output_type": "stream",
     "text": [
      "✅ Successfully processed '000997.mp3'\n",
      "\n",
      "Processing file: '000998.mp3'\n",
      "Processing audio: 'C:\\Users\\edoar\\Desktop\\le musiche\\000\\000998.mp3'\n",
      "Processing text: 'The genre of the track is experimental with no spe...'\n"
     ]
    },
    {
     "name": "stderr",
     "output_type": "stream",
     "text": [
      "Processing Pairs: 100%|████████████████████████████████████████████████████████████████| 62/62 [01:35<00:00,  1.53s/it]"
     ]
    },
    {
     "name": "stdout",
     "output_type": "stream",
     "text": [
      "✅ Successfully processed '000998.mp3'\n",
      "\n",
      "✅ Successfully extracted embeddings for 62 pairs.\n",
      "✅ Calculated 62 audio-text similarities.\n"
     ]
    },
    {
     "name": "stderr",
     "output_type": "stream",
     "text": [
      "\n"
     ]
    },
    {
     "data": {
      "image/png": "[encoded data removed]",
      "text/plain": [
       "<Figure size 1000x600 with 1 Axes>"
      ]
     },
     "metadata": {},
     "output_type": "display_data"
    },
    {
     "name": "stdout",
     "output_type": "stream",
     "text": [
      "\n",
      "=== Statistiche Complessive Similarità Audio-Description (CLAP) ===\n",
      "Numero di coppie elaborate: 62\n",
      "Media: 0.2950\n",
      "Mediana: 0.3091\n",
      "Deviazione standard: 0.0857\n",
      "Minima: 0.1030\n",
      "Massima: 0.5251\n",
      "\n",
      "✅ Statistiche complessive salvate in 'C:\\Users\\edoar\\CV_CMEAN_bufi_murolo\\Progetto\\Modulo Qwen Audio\\clap_similarity_statistics.csv'\n",
      "✅ Similarità individuali salvate in 'C:\\Users\\edoar\\CV_CMEAN_bufi_murolo\\Progetto\\Modulo Qwen Audio\\clap_individual_similarities.csv' (senza colonna 'Descrizione Testo')\n",
      "\n",
      "=== 🔻 Peggiori match Audio-Description ===\n",
      "File: 000255.mp3, Similarità: 0.1030\n",
      "Description: 'The song is a lively piece in F# major with a tempo of 120 BPM, maintaining a consistent 4/4 time signature. It has a distinct rock feel with a recurring chord progression of F# major and A major. The...'\n",
      "\n",
      "File: 000706.mp3, Similarità: 0.1157\n",
      "Description: 'The audio track is of the 'international' genre, characterized by a complex chord progression but lacking specific instruments or moods. It has a tempo of around 89.763 bpm and a 4/4 time signature. T...'\n",
      "\n",
      "File: 000993.mp3, Similarità: 0.1417\n",
      "Description: 'The song is a classic rock number with a tempo of around 120 BPM, featuring a guitar-driven beat and a 4/4 time signature. The chord progression primarily alternates between G major and A# major, with...'\n",
      "\n",
      "File: 000716.mp3, Similarità: 0.1477\n",
      "Description: 'The song is a slow-paced piece in C minor with a tempo of around 89.6 BPM and a 4/4 time signature. It has a minimalistic feel with a recurring chord progression of G major and C major. The music carr...'\n",
      "\n",
      "File: 000667.mp3, Similarità: 0.1522\n",
      "Description: 'The song is an amalgamation of various musical genres from around the world, making it a perfect representation of 'international' music. It features traditional instruments like the sitar, tabla, and...'\n",
      "\n",
      "\n",
      "=== 🔺 Migliori match Audio-Description ===\n",
      "File: 000602.mp3, Similarità: 0.5251\n",
      "Description: 'The song is a beautiful blend of acoustic guitar and flute that encapsulates the essence of folk music. The melody is soft and soothing, played at a moderate tempo which complements the gentle strummi...'\n",
      "\n",
      "File: 000197.mp3, Similarità: 0.4578\n",
      "Description: 'The genre of this folk piece is characterized by acoustic instruments, predominantly featuring a guitar. The tempo is moderate, maintaining a steady rhythm that invites listeners into a calm and sooth...'\n",
      "\n",
      "File: 000203.mp3, Similarità: 0.4211\n",
      "Description: 'The genre of this folk tune is not specified, but it likely involves acoustic instruments such as guitars or banjos. The overall tempo is moderate, with a steady rhythm that suggests a walking pace, w...'\n",
      "\n",
      "File: 000995.mp3, Similarità: 0.4165\n",
      "Description: 'The experimental track lacks distinct instruments, presenting a raw, unstructured sound. It maintains a consistent tempo throughout, producing a loud, abrasive noise that could be associated with nois...'\n",
      "\n",
      "File: 000998.mp3, Similarità: 0.4076\n",
      "Description: 'The genre of the track is experimental with no specific instruments highlighted. The tempo is slow at around 78 BPM and follows a 4/4 time signature. The music has a raw, noisy quality with a general ...'\n",
      "\n"
     ]
    }
   ],
   "source": [
    "###embedding con somma fragment\n",
    "\n",
    "\n",
    "\n",
    "import os\n",
    "import pandas as pd\n",
    "import torch\n",
    "import numpy as np\n",
    "import sys\n",
    "import matplotlib.pyplot as plt\n",
    "from tqdm import tqdm\n",
    "from msclap import CLAP\n",
    "import traceback\n",
    "import string\n",
    "import nltk\n",
    "from nltk.corpus import stopwords\n",
    "from nltk.tokenize import word_tokenize\n",
    "\n",
    "# --- Scarica le risorse NLTK ---\n",
    "try:\n",
    "    nltk.data.find('corpora/stopwords')\n",
    "except:\n",
    "    nltk.download('stopwords')\n",
    "try:\n",
    "    nltk.data.find('tokenizers/punkt')\n",
    "except:\n",
    "    nltk.download('punkt')\n",
    "try:\n",
    "    nltk.data.find('tokenizers/punkt_tab')\n",
    "except:\n",
    "    nltk.download('punkt_tab')\n",
    "\n",
    "# --- 1. Initial Configuration ---\n",
    "device = \"cuda\" if torch.cuda.is_available() else \"cpu\"\n",
    "print(f\"Using device: {device}\")\n",
    "\n",
    "# Paths\n",
    "PATHS = {\n",
    "    \"csv_file\": r\"C:\\Users\\edoar\\Downloads\\audio_analysis_full_folder_with_features (1).csv\",\n",
    "    \"audio_files_folder\": r\"C:\\Users\\edoar\\Desktop\\le musiche\\000\",\n",
    "    \"clap_weights\": r\"C://Users//edoar//Downloads//CLAP_weights_2023.pth\",\n",
    "    \"output_statistics_csv\": r\"C:\\Users\\edoar\\CV_CMEAN_bufi_murolo\\Progetto\\Modulo Qwen Audio\\clap_similarity_statistics.csv\",\n",
    "    \"output_individual_similarities_csv\": r\"C:\\Users\\edoar\\CV_CMEAN_bufi_murolo\\Progetto\\Modulo Qwen Audio\\clap_individual_similarities.csv\"\n",
    "}\n",
    "\n",
    "# --- 2. Load CLAP Model ---\n",
    "try:\n",
    "    clap_model = CLAP(\n",
    "        version='2023',\n",
    "        model_fp=PATHS[\"clap_weights\"],\n",
    "        use_cuda=True if device == \"cuda\" else False\n",
    "    )\n",
    "    print(\"✅ CLAP model loaded successfully.\")\n",
    "except Exception as e:\n",
    "    print(f\"❌ Error loading CLAP model: {e}\")\n",
    "    traceback.print_exc(file=sys.stdout)\n",
    "    sys.exit(1)\n",
    "\n",
    "def read_song_data_from_csv(csv_path):\n",
    "    \"\"\"\n",
    "    Legge il file CSV e estrae i nomi dei file audio e le descrizioni.\n",
    "    Filtra le righe dove il nome del file audio non inizia con 'Fragment'\n",
    "    e allinea le descrizioni cercando la riga con 'Total' nella colonna 'Description Type'\n",
    "    4 righe sotto il nome della canzone.\n",
    "    \"\"\"\n",
    "    final_audio_filenames = []\n",
    "    final_descriptions = []\n",
    "    \n",
    "    try:\n",
    "        # Leggi l'intero file CSV\n",
    "        # keep_default_na=False per trattare stringhe vuote o 'NA' come stringhe, non NaN\n",
    "        df = pd.read_csv(csv_path, keep_default_na=False) \n",
    "        \n",
    "        # Stampa le prime righe per debug\n",
    "        print(\"\\nAnteprima del DataFrame:\")\n",
    "        print(df.head(10)) # Stampo più righe per mostrare la relazione\n",
    "\n",
    "        # Verifica le colonne presenti\n",
    "        print(\"\\nColonne disponibili:\")\n",
    "        print(df.columns.tolist())\n",
    "        \n",
    "        # Cerca automaticamente la colonna con i nomi dei file audio\n",
    "        possible_audio_columns = ['Song Name','Nome Canzone','Genre','Features Info','Description Type'] \n",
    "        audio_col = None\n",
    "        for col in possible_audio_columns:\n",
    "            if col in df.columns:\n",
    "                audio_col = col\n",
    "                break\n",
    "                \n",
    "        if audio_col is None:\n",
    "            print(\"❌ Nessuna colonna con i nomi dei file audio trovata tra le possibili opzioni.\")\n",
    "            return [], []\n",
    "\n",
    "        # Itera su tutte le righe per trovare i nomi delle canzoni e le loro descrizioni allineate\n",
    "        print(\"\\nInizio la ricerca di nomi file audio e descrizioni allineate...\")\n",
    "        for idx in tqdm(df.index, desc=\"Analisi righe CSV\"):\n",
    "            current_filename_raw = str(df.loc[idx, audio_col]).strip().replace('\"', '')\n",
    "            \n",
    "            # Filtra i nomi di file vuoti, 'nan' o che iniziano con 'Fragment'\n",
    "            if not current_filename_raw or current_filename_raw.lower() == 'nan' or \\\n",
    "               current_filename_raw.lower().startswith('fragment'):\n",
    "                continue # Salta questa riga se non è un nome di canzone valido o è un frammento\n",
    "\n",
    "            # Se siamo qui, abbiamo un potenziale nome di canzone\n",
    "            song_name = current_filename_raw\n",
    "\n",
    "            # Calcola l'indice della riga della descrizione (4 righe sotto)\n",
    "            description_row_idx = idx + 4\n",
    "\n",
    "            # Assicurati che l'indice della descrizione non vada oltre la fine del DataFrame\n",
    "            if description_row_idx >= len(df):\n",
    "                # print(f\"⚠️ Salto '{song_name}': Descrizione fuori dai limiti del CSV.\")\n",
    "                continue\n",
    "\n",
    "            # Tenta di leggere il valore nella colonna 'Description Type' dalla riga calcolata\n",
    "            description_type_candidate = str(df.loc[description_row_idx, 'Description Type']).strip()\n",
    "\n",
    "            # Verifica se la colonna 'Description Type' di questa riga contiene 'Total'\n",
    "            if description_type_candidate.lower() == 'total':\n",
    "                # Se è 'Total', prendi la descrizione dalla colonna 'Description' di QUESTA STESSA RIGA\n",
    "                actual_description = str(df.loc[description_row_idx, 'Description']).strip()\n",
    "                \n",
    "                # Aggiungi solo se la descrizione estratta non è vuota\n",
    "                if actual_description:\n",
    "                    final_audio_filenames.append(song_name)\n",
    "                    final_descriptions.append(actual_description)\n",
    "                # else:\n",
    "                #     print(f\"⚠️ Salto '{song_name}': Descrizione 'Total' trovata ma vuota.\")\n",
    "            # else:\n",
    "            #     print(f\"⚠️ Salto '{song_name}': La colonna 'Description Type' nella riga {description_row_idx} non è 'Total'. Era: '{description_type_candidate[:50]}...'\")\n",
    "\n",
    "        print(f\"\\n✅ Trovati {len(final_audio_filenames)} file audio e {len(final_descriptions)} descrizioni allineate dopo il filtro.\")\n",
    "        \n",
    "    except Exception as e:\n",
    "        print(f\"❌ Errore nella lettura o nel filtro del CSV: {e}\")\n",
    "        traceback.print_exc(file=sys.stdout)\n",
    "        return [], []\n",
    "    \n",
    "    return final_audio_filenames, final_descriptions\n",
    "\n",
    "# --- Funzione di pulizia del testo ---\n",
    "def clean_description_text(text):\n",
    "    \"\"\"\n",
    "    Rimuove parole e frasi indesiderate dalla descrizione, normalizza e rimuove stop words.\n",
    "    \"\"\"\n",
    "    if not isinstance(text, str):\n",
    "        return \"\"\n",
    "\n",
    "    # 1. Converti in minuscolo\n",
    "    text = text.lower()\n",
    "\n",
    "    # 2. Rimuovi parole/frasi specifiche che sono \"rumore\"\n",
    "    phrases_to_remove = [\n",
    "        # Lasciato vuoto come nell'ultima versione fornita dall'utente, se vuoi aggiungere\n",
    "        # parole/frasi specifiche da rimuovere, aggiungile qui.\n",
    "    ]\n",
    "    phrases_to_remove.sort(key=len, reverse=True)\n",
    "\n",
    "    for phrase in phrases_to_remove:\n",
    "        text = text.replace(phrase, \" \")\n",
    "\n",
    "    # 3. Rimuovi punteggiatura\n",
    "    text = text.translate(str.maketrans('', '', string.punctuation))\n",
    "\n",
    "    # 4. Rimuovi numeri\n",
    "    text = ''.join([i for i in text if not i.isdigit()])\n",
    "\n",
    "    # 5. Tokenizza e rimuovi stop words\n",
    "    words = word_tokenize(text, language='italian')\n",
    "    stop_words_italian = set(stopwords.words('italian'))\n",
    "    filtered_words = [word for word in words if word.strip() and word not in stop_words_italian]\n",
    "    \n",
    "    # 6. Ricostruisci la stringa\n",
    "    text = \" \".join(filtered_words)\n",
    "    \n",
    "    # 7. Rimuovi spazi extra\n",
    "    text = \" \".join(text.split()).strip()\n",
    "    \n",
    "    # 8. Capitalizza la prima lettera\n",
    "    if text:\n",
    "        text = text[0].upper() + text[1:]\n",
    "\n",
    "    return text\n",
    "\n",
    "# --- 4. Load Data from CSV ---\n",
    "print(f\"\\nReading data from CSV file: {PATHS['csv_file']}\")\n",
    "audio_filenames, total_descriptions = read_song_data_from_csv(PATHS[\"csv_file\"])\n",
    "\n",
    "if not audio_filenames:\n",
    "    print(\"❌ Error: No valid audio filenames and total descriptions extracted from CSV after filtering.\")\n",
    "    sys.exit(1)\n",
    "\n",
    "# Stampa l'elenco dei file estratti dal CSV\n",
    "print(\"\\nElenco completo dei file audio estratti dal CSV (dopo il filtro 'Fragment' e allineamento 'Total'):\")\n",
    "for i, filename in enumerate(audio_filenames):\n",
    "    if i < 10: # Stampa solo i primi 10 per non sovraccaricare l'output\n",
    "        print(f\"{i+1}. '{filename}'\")\n",
    "    elif i == 10:\n",
    "        print(\"...\")\n",
    "\n",
    "# Applica la pulizia alle descrizioni\n",
    "descriptions_cleaned = [clean_description_text(desc) for desc in total_descriptions]\n",
    "\n",
    "print(f\"\\n✅ Extracted {len(audio_filenames)} audio filenames and {len(descriptions_cleaned)} cleaned total descriptions from CSV.\")\n",
    "\n",
    "# --- 5. Extract Audio and Text Embeddings for each pair ---\n",
    "audio_embeddings_list = []\n",
    "text_embeddings_list = []\n",
    "processed_pairs_info = [] # This will store filename and original description for output\n",
    "\n",
    "print(\"\\nExtracting embeddings and computing similarities:\")\n",
    "for i in tqdm(range(len(audio_filenames)), desc=\"Processing Pairs\"):\n",
    "    filename = audio_filenames[i]\n",
    "    description_for_embedding = descriptions_cleaned[i]\n",
    "    description_original = total_descriptions[i] # Keep original for potential debugging/display\n",
    "    \n",
    "    print(f\"\\nProcessing file: '{filename}'\")\n",
    "    \n",
    "    MAX_TEXT_CHAR_LENGTH = 512\n",
    "    \n",
    "    if isinstance(description_for_embedding, str) and len(description_for_embedding) > MAX_TEXT_CHAR_LENGTH:\n",
    "        truncated_description = description_for_embedding[:MAX_TEXT_CHAR_LENGTH]\n",
    "        if not truncated_description.endswith('...'):\n",
    "            truncated_description += \"...\"\n",
    "    else:\n",
    "        truncated_description = description_for_embedding\n",
    "\n",
    "    # Controlla se il filename è vuoto o non valido\n",
    "    if not filename or str(filename).strip().lower() == 'nan':\n",
    "        print(f\"❌ Skipped: Invalid filename '{filename}'\")\n",
    "        continue\n",
    "\n",
    "    full_audio_path = os.path.join(PATHS[\"audio_files_folder\"], filename)\n",
    "\n",
    "    # Verifica se il file esiste\n",
    "    if not os.path.isfile(full_audio_path):\n",
    "        print(f\"❌ File not found: '{full_audio_path}'\")\n",
    "        # Prova con diverse estensioni\n",
    "        base_name, ext = os.path.splitext(filename)\n",
    "        extensions_to_try = ['.mp3', '.wav', '.flac', '.ogg']\n",
    "        found = False\n",
    "        \n",
    "        for ext in extensions_to_try:\n",
    "            attempt_path = os.path.join(PATHS[\"audio_files_folder\"], base_name + ext)\n",
    "            if os.path.isfile(attempt_path):\n",
    "                full_audio_path = attempt_path\n",
    "                found = True\n",
    "                print(f\"✅ Found alternative: '{full_audio_path}'\")\n",
    "                break\n",
    "                \n",
    "        if not found:\n",
    "            print(f\"❌ Could not find any audio file for '{filename}'\")\n",
    "            continue\n",
    "    \n",
    "    if not truncated_description.strip():\n",
    "        print(f\"⚠️ Skipped '{filename}': Description became empty after cleaning.\")\n",
    "        continue\n",
    "\n",
    "    try:\n",
    "        # Get audio embedding\n",
    "        print(f\"Processing audio: '{full_audio_path}'\")\n",
    "        audio_emb = clap_model.get_audio_embeddings([full_audio_path], resample=True)\n",
    "        \n",
    "        # Get text embedding\n",
    "        print(f\"Processing text: '{truncated_description[:50]}...'\")\n",
    "        text_emb = clap_model.get_text_embeddings([truncated_description])\n",
    "\n",
    "        audio_embeddings_list.append(audio_emb)\n",
    "        text_embeddings_list.append(text_emb)\n",
    "        processed_pairs_info.append({\n",
    "            'filename': os.path.basename(full_audio_path), \n",
    "            'description': description_original # Store original description here\n",
    "        })\n",
    "        print(f\"✅ Successfully processed '{filename}'\")\n",
    "\n",
    "    except Exception as e:\n",
    "        print(f\"❌ ERROR processing '{filename}': {str(e)}\")\n",
    "        traceback.print_exc(file=sys.stdout)\n",
    "        continue\n",
    "\n",
    "if not audio_embeddings_list:\n",
    "    print(\"\\n❌ Error: No audio-text pairs were successfully processed.\")\n",
    "    sys.exit(1)\n",
    "\n",
    "# Concatenate embeddings\n",
    "audio_embeddings_tensor = torch.vstack([e.squeeze(0) for e in audio_embeddings_list])\n",
    "text_embeddings_tensor = torch.vstack([e.squeeze(0) for e in text_embeddings_list])\n",
    "\n",
    "print(f\"\\n✅ Successfully extracted embeddings for {len(audio_embeddings_tensor)} pairs.\")\n",
    "\n",
    "# --- 6. Calculate Cosine Similarities ---\n",
    "audio_embeddings_norm = torch.nn.functional.normalize(audio_embeddings_tensor, p=2, dim=-1)\n",
    "text_embeddings_norm = torch.nn.functional.normalize(text_embeddings_tensor, p=2, dim=-1)\n",
    "\n",
    "similarities = (audio_embeddings_norm * text_embeddings_norm).sum(dim=-1)\n",
    "similarities_np = similarities.cpu().detach().numpy()\n",
    "\n",
    "print(f\"✅ Calculated {len(similarities_np)} audio-text similarities.\")\n",
    "\n",
    "# --- 7. Visualizzazione Distribuzione Similarità ---\n",
    "plt.figure(figsize=(10, 6))\n",
    "plt.hist(similarities_np, bins=30, color='skyblue', edgecolor='black')\n",
    "plt.title(\"Distribuzione Similarità Audio-Description (CLAP)\")\n",
    "plt.xlabel(\"Similarità Coseno\")\n",
    "plt.ylabel(\"Frequenza\")\n",
    "plt.grid(True)\n",
    "plt.tight_layout()\n",
    "plt.show()\n",
    "\n",
    "# --- 8. Statistiche Complessive ---\n",
    "print(\"\\n=== Statistiche Complessive Similarità Audio-Description (CLAP) ===\")\n",
    "num_pairs = len(similarities_np)\n",
    "mean_sim = np.mean(similarities_np)\n",
    "median_sim = np.median(similarities_np)\n",
    "std_sim = np.std(similarities_np)\n",
    "min_sim = np.min(similarities_np)\n",
    "max_sim = np.max(similarities_np)\n",
    "\n",
    "print(f\"Numero di coppie elaborate: {num_pairs}\")\n",
    "print(f\"Media: {mean_sim:.4f}\")\n",
    "print(f\"Mediana: {median_sim:.4f}\")\n",
    "print(f\"Deviazione standard: {std_sim:.4f}\")\n",
    "print(f\"Minima: {min_sim:.4f}\")\n",
    "print(f\"Massima: {max_sim:.4f}\")\n",
    "\n",
    "# --- 9. Salvataggio Statistiche Complessive su CSV ---\n",
    "try:\n",
    "    stats_df = pd.DataFrame({\n",
    "        'Metric': ['Numero di Coppie', 'Media', 'Mediana', 'Deviazione Standard', 'Minima', 'Massima'],\n",
    "        'Value': [num_pairs, mean_sim, median_sim, std_sim, min_sim, max_sim]\n",
    "    })\n",
    "    stats_df.to_csv(PATHS[\"output_statistics_csv\"], index=False)\n",
    "    print(f\"\\n✅ Statistiche complessive salvate in '{PATHS['output_statistics_csv']}'\")\n",
    "except Exception as e:\n",
    "    print(f\"❌ Errore durante il salvataggio delle statistiche: {e}\")\n",
    "    traceback.print_exc(file=sys.stdout)\n",
    "\n",
    "# --- 10. Salvataggio Similarità Individuali (MODIFIED) ---\n",
    "if processed_pairs_info:\n",
    "    individual_similarities_data = []\n",
    "    for idx, pair_info in enumerate(processed_pairs_info):\n",
    "        individual_similarities_data.append({\n",
    "            'Filename Audio': pair_info['filename'],\n",
    "            'Similarita Coseno': similarities_np[idx] \n",
    "        })\n",
    "    \n",
    "    try:\n",
    "        individual_sim_df = pd.DataFrame(individual_similarities_data)\n",
    "        individual_sim_df.to_csv(PATHS[\"output_individual_similarities_csv\"], index=False)\n",
    "        print(f\"✅ Similarità individuali salvate in '{PATHS['output_individual_similarities_csv']}' (senza colonna 'Descrizione Testo')\")\n",
    "    except Exception as e:\n",
    "        print(f\"❌ Errore durante il salvataggio delle similarità individuali: {e}\")\n",
    "        traceback.print_exc(file=sys.stdout)\n",
    "else:\n",
    "    print(\"\\n⚠️ Nessuna coppia audio-testo elaborata.\")\n",
    "\n",
    "# --- 11. Visualizza Esempi Migliori e Peggiori ---\n",
    "def print_similarity_examples(indices, title, data_info, similarities_scores, num_examples=5):\n",
    "    print(f\"\\n=== {title} ===\")\n",
    "    for i, idx in enumerate(indices):\n",
    "        if i >= num_examples:\n",
    "            break\n",
    "        filename = data_info[idx]['filename']\n",
    "        description = data_info[idx]['description'] \n",
    "        sim_score = similarities_scores[idx]\n",
    "        print(f\"File: {filename}, Similarità: {sim_score:.4f}\")\n",
    "        print(f\"Description: '{description[:200]}...'\\n\")\n",
    "\n",
    "# Ordina gli indici per similarità\n",
    "sorted_indices = np.argsort(similarities_np)\n",
    "\n",
    "# Visualizza i 5 peggiori match\n",
    "print_similarity_examples(sorted_indices[:5], \"🔻 Peggiori match Audio-Description\", processed_pairs_info, similarities_np)\n",
    "\n",
    "# Visualizza i 5 migliori match\n",
    "print_similarity_examples(sorted_indices[-5:][::-1], \"🔺 Migliori match Audio-Description\", processed_pairs_info, similarities_np)"
   ]
  },
  {
   "cell_type": "code",
   "execution_count": 68,
   "id": "b64110e6-b311-4060-8508-c4fa6d56cc3c",
   "metadata": {},
   "outputs": [
    {
     "name": "stdout",
     "output_type": "stream",
     "text": [
      "Using device: cpu\n",
      "✅ CLAP model loaded successfully.\n",
      "\n",
      "Reading data from CSV file: C:\\Users\\edoar\\Downloads\\audio_analysis_full_folder_with_features (1).csv\n",
      "\n",
      "Anteprima del DataFrame:\n",
      "    Song Name    Genre           Features Info Description Type  \\\n",
      "0  000002.mp3  Hip-Hop  No features available.       Fragment 1   \n",
      "1                                                    Fragment 2   \n",
      "2                                                    Fragment 3   \n",
      "3                                                    Fragment 4   \n",
      "4                                                         Total   \n",
      "5  000005.mp3  Hip-Hop  No features available.       Fragment 1   \n",
      "6                                                    Fragment 2   \n",
      "7                                                    Fragment 3   \n",
      "8                                                    Fragment 4   \n",
      "9                                                         Total   \n",
      "\n",
      "                                         Description  \n",
      "0  A male rapper sings this hip-hop piece. There ...  \n",
      "1  The provided song segment is from a hip-hop tr...  \n",
      "2  The third and fourth fragments describe a hip-...  \n",
      "3  The audio segment is from a hip-hop track with...  \n",
      "4  The song is a hip-hop track with a distinct so...  \n",
      "5  A male vocalist sings this hip-hop song. The t...  \n",
      "6  The audio segment is from a hip-hop track with...  \n",
      "7  The third and fourth segments of the hip-hop t...  \n",
      "8  The audio segment is from a hip-hop track with...  \n",
      "9  The Hip-Hop track lacks any discernible instru...  \n",
      "\n",
      "Colonne disponibili:\n",
      "['Song Name', 'Genre', 'Features Info', 'Description Type', 'Description']\n",
      "\n",
      "Inizio la raccolta delle descrizioni dai frammenti...\n",
      "DEBUG: Trovata coppia valida: File='000002.mp3' (indice inizio blocco: 0)\n",
      "DEBUG: --> Descrizione combinata dai frammenti: 'A male rapper sings this hip-hop piece. There are no other instruments accompanying him. The tempo is medium with a steady drumming rhythm and electro...'\n",
      "DEBUG: Trovata coppia valida: File='000005.mp3' (indice inizio blocco: 5)\n",
      "DEBUG: --> Descrizione combinata dai frammenti: 'A male vocalist sings this hip-hop song. The tempo is medium with a steady drumming rhythm, keyboard accompaniment , groovy bass line and synthesiser ...'\n",
      "DEBUG: Trovata coppia valida: File='000010.mp3' (indice inizio blocco: 10)\n",
      "DEBUG: --> Descrizione combinata dai frammenti: 'The audio segment is from a pop song. A male vocalist sings this cool melody with a guitar accompaniment. The song has a medium tempo with a steady dr...'\n",
      "DEBUG: Trovata coppia valida: File='000140.mp3' (indice inizio blocco: 15)\n",
      "DEBUG: --> Descrizione combinata dai frammenti: 'A slow, soft folk piece featuring acoustic guitar and piano with a melancholic feel. No other instruments are discernible. The music has a tempo of ar...'\n",
      "DEBUG: Trovata coppia valida: File='000141.mp3' (indice inizio blocco: 20)\n",
      "DEBUG: --> Descrizione combinata dai frammenti: 'The audio segment is from a folk song without any specific instruments highlighted. It has a slow tempo with a steady rhythm played on the drums. The ...'\n",
      "DEBUG: Trovata coppia valida: File='000148.mp3' (indice inizio blocco: 25)\n",
      "DEBUG: --> Descrizione combinata dai frammenti: 'The audio segment is an experimental piece with no specific instruments highlighted. It has a tempo of around 107.0 bpm and maintains a consistent 4/4...'\n",
      "DEBUG: Trovata coppia valida: File='000182.mp3' (indice inizio blocco: 30)\n",
      "DEBUG: --> Descrizione combinata dai frammenti: 'A rock piece with a guitar playing a chord progression, a bass doing the same, and an electronic drum beat providing a generic rock beat. The atmosphe...'\n",
      "DEBUG: Trovata coppia valida: File='000190.mp3' (indice inizio blocco: 35)\n",
      "DEBUG: --> Descrizione combinata dai frammenti: 'A male vocalist sings this melodic line. The song is slow tempo with a steady drumming rhythm, groovy bass lines, piano accompaniment and guitar strum...'\n",
      "DEBUG: Trovata coppia valida: File='000193.mp3' (indice inizio blocco: 40)\n",
      "DEBUG: --> Descrizione combinata dai frammenti: 'The audio segment under analysis is from a folk song. A harpsichord can be distinctly heard playing the melody. There's no accompaniment from other in...'\n",
      "DEBUG: Trovata coppia valida: File='000194.mp3' (indice inizio blocco: 45)\n",
      "DEBUG: --> Descrizione combinata dai frammenti: 'A male vocalist sings this poignant melody. The song is slow with a steady drumming rhythm, keyboard accompaniment , groovy bass line and guitar accom...'\n",
      "DEBUG: Trovata coppia valida: File='000197.mp3' (indice inizio blocco: 50)\n",
      "DEBUG: --> Descrizione combinata dai frammenti: 'The audio segment features an instrumental piece from the folk genre. It includes a harpsichord melody with a melancholic feel that seems to convey sa...'\n",
      "DEBUG: Trovata coppia valida: File='000200.mp3' (indice inizio blocco: 55)\n",
      "DEBUG: --> Descrizione combinata dai frammenti: 'The audio segment features a male voice singing in English with the words 'I'd like to shout it maybe I'm running.' There are no other instruments pre...'\n",
      "DEBUG: Trovata coppia valida: File='000203.mp3' (indice inizio blocco: 60)\n",
      "DEBUG: --> Descrizione combinata dai frammenti: 'A solo ukulele playing a slow melody with arpeggiated accompaniment in a calm and soothing atmosphere suggesting a relaxing beach setting during a sun...'\n",
      "DEBUG: Trovata coppia valida: File='000204.mp3' (indice inizio blocco: 65)\n",
      "DEBUG: --> Descrizione combinata dai frammenti: 'A male vocalist sings this pop folk song. The tempo is medium with a steady drumming rhythm, groovy bass line, keyboard accompaniment , guitar strummi...'\n",
      "DEBUG: Trovata coppia valida: File='000207.mp3' (indice inizio blocco: 70)\n",
      "DEBUG: --> Descrizione combinata dai frammenti: 'The audio segment features a slow-paced, instrumental piece with a classical feel, likely from a soundtrack. The instrument heard is a piano with a so...'\n",
      "DEBUG: Trovata coppia valida: File='000210.mp3' (indice inizio blocco: 75)\n",
      "DEBUG: --> Descrizione combinata dai frammenti: 'A male vocalist sings this emotional folk song. The tempo is medium with a guitar accompaniment, steady drumming rhythm, groovy bass line, and violin ...'\n",
      "DEBUG: Trovata coppia valida: File='000211.mp3' (indice inizio blocco: 80)\n",
      "DEBUG: --> Descrizione combinata dai frammenti: 'A male vocalist sings this emotional melody. The song is slow tempo with a guitar accompaniment, steady drumming rhythm, groovy bass line and a piano ...'\n",
      "DEBUG: Trovata coppia valida: File='000212.mp3' (indice inizio blocco: 85)\n",
      "DEBUG: --> Descrizione combinata dai frammenti: 'The audio segment features a male voice singing in a key of G major with a time signature of 4/4 and a tempo of 100.0 bpm. There are no other instrume...'\n",
      "DEBUG: Trovata coppia valida: File='000213.mp3' (indice inizio blocco: 90)\n",
      "DEBUG: --> Descrizione combinata dai frammenti: 'The audio segment is from a pop song. A clean electric guitar with a bright tone plays the melody over a simple bassline and a mellow piano. There's n...'\n",
      "DEBUG: Trovata coppia valida: File='000255.mp3' (indice inizio blocco: 95)\n",
      "DEBUG: --> Descrizione combinata dai frammenti: 'A rock piece with drums, guitar, bass, electric guitar, and synthesizer sounds is present from the beginning to the 1-minute mark. It lacks any discer...'\n",
      "DEBUG: Trovata coppia valida: File='000256.mp3' (indice inizio blocco: 100)\n",
      "DEBUG: --> Descrizione combinata dai frammenti: 'A male vocalist sings this aggressive rock piece. The tempo is fast with vigorous electric guitar feedback, hard hitting drums, amplified keyboard har...'\n",
      "DEBUG: Trovata coppia valida: File='000368.mp3' (indice inizio blocco: 105)\n",
      "DEBUG: --> Descrizione combinata dai frammenti: 'A rock piece with a slow tempo featuring a loud electric guitar playing a monotone riff, accompanied by a bass guitar and a keyboard. The atmosphere i...'\n",
      "DEBUG: Trovata coppia valida: File='000424.mp3' (indice inizio blocco: 110)\n",
      "DEBUG: --> Descrizione combinata dai frammenti: 'The audio segment contains a synthesizer and drums. It has a slow tempo with a steady beat, creating a dark and dreamy atmosphere. The timbre is deep,...'\n",
      "DEBUG: Trovata coppia valida: File='000459.mp3' (indice inizio blocco: 115)\n",
      "DEBUG: --> Descrizione combinata dai frammenti: 'A rock piece with drums, guitar, bass, electric guitar, and synthesizer sounds is present from the beginning of the audio until the 1-minute mark. The...'\n",
      "DEBUG: Trovata coppia valida: File='000534.mp3' (indice inizio blocco: 120)\n",
      "DEBUG: --> Descrizione combinata dai frammenti: 'A solo acoustic guitar piece with a fingerpicking style and a gentle tempo creates a calming atmosphere. The music has a soft, mellow timbre that evok...'\n",
      "DEBUG: Trovata coppia valida: File='000540.mp3' (indice inizio blocco: 125)\n",
      "DEBUG: --> Descrizione combinata dai frammenti: 'The audio segment features a male voice singing the main melody in a key of Bb major with a time signature of 4/4 and a tempo of 86.0 bpm. There are n...'\n",
      "DEBUG: Trovata coppia valida: File='000546.mp3' (indice inizio blocco: 130)\n",
      "DEBUG: --> Descrizione combinata dai frammenti: 'The audio segment features a male voice singing in English with a sad mood. There are no other instruments present. The vocal melody follows a descend...'\n",
      "DEBUG: Trovata coppia valida: File='000574.mp3' (indice inizio blocco: 135)\n",
      "DEBUG: --> Descrizione combinata dai frammenti: 'A male vocalist sings this rock song. The tempo is medium with a loud electric guitar playing rhythm, steady drumming, groovy bass lines and keyboard ...'\n",
      "DEBUG: Trovata coppia valida: File='000602.mp3' (indice inizio blocco: 140)\n",
      "DEBUG: --> Descrizione combinata dai frammenti: 'A solo harp melody can be heard playing a slow, soothing piece with a quiet and meditative mood. The harp's gentle strumming produces a soft, warm, an...'\n",
      "DEBUG: Trovata coppia valida: File='000615.mp3' (indice inizio blocco: 145)\n",
      "DEBUG: --> Descrizione combinata dai frammenti: 'The audio segment features an instrumental with a dark and dreamy sound. It includes synthesizers, bass, drums, and electric guitar. The music has a s...'\n",
      "DEBUG: Trovata coppia valida: File='000620.mp3' (indice inizio blocco: 150)\n",
      "DEBUG: --> Descrizione combinata dai frammenti: 'A slow instrumental piece with a classical feel featuring drums, piano, violin, cello, and guitar. The music has a relaxing mood that could fit into a...'\n",
      "DEBUG: Trovata coppia valida: File='000621.mp3' (indice inizio blocco: 155)\n",
      "DEBUG: --> Descrizione combinata dai frammenti: 'A male vocalist sings this melodic line. The song is slow tempo with a steady drumming rhythm, groovy bass lines and acoustic guitar accompaniment. Th...'\n",
      "DEBUG: Trovata coppia valida: File='000625.mp3' (indice inizio blocco: 160)\n",
      "DEBUG: --> Descrizione combinata dai frammenti: 'A simple folk melody is played on a guitar with a harmonica accompanying it. There's no percussion or other instruments in this clip. The overall feel...'\n",
      "DEBUG: Trovata coppia valida: File='000666.mp3' (indice inizio blocco: 165)\n",
      "DEBUG: --> Descrizione combinata dai frammenti: 'The audio segment is from a rock piece with an international influence. A guitar leads the melody accompanied by drums that maintain a steady tempo. T...'\n",
      "DEBUG: Trovata coppia valida: File='000667.mp3' (indice inizio blocco: 170)\n",
      "DEBUG: --> Descrizione combinata dai frammenti: 'A rock piece with drums, guitar, bass, electric guitar, and synthesizer sounds from an international band. The tempo is fast-paced, and the rhythm is ...'\n",
      "DEBUG: Trovata coppia valida: File='000676.mp3' (indice inizio blocco: 175)\n",
      "DEBUG: --> Descrizione combinata dai frammenti: 'A male vocalist sings this rap. The tempo is medium with a steady drumming rhythm, keyboard accompaniment , groovy bass line and synthesiser arrangeme...'\n",
      "DEBUG: Trovata coppia valida: File='000690.mp3' (indice inizio blocco: 180)\n",
      "DEBUG: --> Descrizione combinata dai frammenti: 'A rock piece featuring drums, guitar, bass, and electric guitar is heard from the beginning of the audio until the 1-minute mark. It lacks any discern...'\n",
      "DEBUG: Trovata coppia valida: File='000694.mp3' (indice inizio blocco: 185)\n",
      "DEBUG: --> Descrizione combinata dai frammenti: 'The audio segment is from a hip-hop song characterized by a male voice rapping over a beat. There's no discernible presence of other instruments in th...'\n",
      "DEBUG: Trovata coppia valida: File='000695.mp3' (indice inizio blocco: 190)\n",
      "DEBUG: --> Descrizione combinata dai frammenti: 'The audio fragment contains a Hip-Hop song with no specific instruments highlighted. It has a tempo of around 99.829 bpm and follows a 4/4 time signat...'\n",
      "DEBUG: Trovata coppia valida: File='000704.mp3' (indice inizio blocco: 195)\n",
      "DEBUG: --> Descrizione combinata dai frammenti: 'The audio segment is from a pop song with an international influence. It includes a keyboard playing the melody, a bass guitar in the background, and ...'\n",
      "DEBUG: Trovata coppia valida: File='000705.mp3' (indice inizio blocco: 200)\n",
      "DEBUG: --> Descrizione combinata dai frammenti: 'A melodic French rock piece with drums, bass, electric guitar, and acoustic guitar is heard in the first quarter of the audio. It has a tempo of aroun...'\n",
      "DEBUG: Trovata coppia valida: File='000706.mp3' (indice inizio blocco: 205)\n",
      "DEBUG: --> Descrizione combinata dai frammenti: 'The audio segment features a male voice singing in a foreign language with a sad mood. It includes a keyboard playing chords, a bass guitar playing a ...'\n",
      "DEBUG: Trovata coppia valida: File='000707.mp3' (indice inizio blocco: 210)\n",
      "DEBUG: --> Descrizione combinata dai frammenti: 'A male vocalist sings this spirited Indian pop-rock piece. The tempo is medium with a guitar accompaniment, strong bass line, keyboard harmony, and el...'\n",
      "DEBUG: Trovata coppia valida: File='000708.mp3' (indice inizio blocco: 215)\n",
      "DEBUG: --> Descrizione combinata dai frammenti: 'The provided song segment is from a pop song with an international genre. It includes a synthesizer, bass, and drums. The tempo is fast-paced with a s...'\n",
      "DEBUG: Trovata coppia valida: File='000709.mp3' (indice inizio blocco: 220)\n",
      "DEBUG: --> Descrizione combinata dai frammenti: 'A male vocalist sings this spirited Latin pop-rock piece. The song has a lively rhythm with acoustic guitar accompaniment, groovy bass line, keyboard ...'\n",
      "DEBUG: Trovata coppia valida: File='000714.mp3' (indice inizio blocco: 225)\n",
      "DEBUG: --> Descrizione combinata dai frammenti: 'The audio segment is from a folk song characterized by the presence of acoustic guitar and synthesizer sounds. It has a slow tempo with a steady beat,...'\n",
      "DEBUG: Trovata coppia valida: File='000715.mp3' (indice inizio blocco: 230)\n",
      "DEBUG: --> Descrizione combinata dai frammenti: 'The audio segment features a synth key melody with a spacey feeling that seems to transport the listener to another world. There's no guitar presence,...'\n",
      "DEBUG: Trovata coppia valida: File='000716.mp3' (indice inizio blocco: 235)\n",
      "DEBUG: --> Descrizione combinata dai frammenti: 'The audio segment features a slow-paced, instrumental folk piece with a consistent rhythm in common time signature. A violin plays a monotone note, cr...'\n",
      "DEBUG: Trovata coppia valida: File='000718.mp3' (indice inizio blocco: 240)\n",
      "DEBUG: --> Descrizione combinata dai frammenti: 'The audio segment is from a folk song characterized by a consistent beat on the kick drum and a synth pad providing a soothing backdrop. There's also ...'\n",
      "DEBUG: Trovata coppia valida: File='000777.mp3' (indice inizio blocco: 245)\n",
      "DEBUG: --> Descrizione combinata dai frammenti: 'The audio segment features a rock song with a prominent guitar playing. There's no discernible bass or percussion; it lacks any discernible chords or ...'\n",
      "DEBUG: Trovata coppia valida: File='000814.mp3' (indice inizio blocco: 250)\n",
      "DEBUG: --> Descrizione combinata dai frammenti: 'The audio segment features a female voice singing in English with a neutral mood. There are no other instruments present in this clip. The tempo or rh...'\n",
      "DEBUG: Trovata coppia valida: File='000821.mp3' (indice inizio blocco: 255)\n",
      "DEBUG: --> Descrizione combinata dai frammenti: 'The audio segment is from a pop song. A female voice can be heard saying 'sir hey sir hey' in a neutral mood. There are no other instruments present i...'\n",
      "DEBUG: Trovata coppia valida: File='000822.mp3' (indice inizio blocco: 260)\n",
      "DEBUG: --> Descrizione combinata dai frammenti: 'A female vocalist sings this pop song. The tempo is medium with keyboard accompaniment, steady drumming rhythm, groovy bass line and electronic arrang...'\n",
      "DEBUG: Trovata coppia valida: File='000825.mp3' (indice inizio blocco: 265)\n",
      "DEBUG: --> Descrizione combinata dai frammenti: 'The audio segment is from a rock song characterized by the presence of drums, bass, electric guitar, and another stringed instrument. The tempo can be...'\n",
      "DEBUG: Trovata coppia valida: File='000853.mp3' (indice inizio blocco: 270)\n",
      "DEBUG: --> Descrizione combinata dai frammenti: 'The audio segment features a fast-paced melody played on a violin with a bright tone. It's in F major key with a 4/4 time signature. The melody has a ...'\n",
      "DEBUG: Trovata coppia valida: File='000890.mp3' (indice inizio blocco: 275)\n",
      "DEBUG: --> Descrizione combinata dai frammenti: 'The audio segment under analysis is from a folk song. The dominant instrument heard is the acoustic guitar which sets a calm and soothing atmosphere. ...'\n",
      "DEBUG: Trovata coppia valida: File='000892.mp3' (indice inizio blocco: 280)\n",
      "DEBUG: --> Descrizione combinata dai frammenti: 'A slow, instrumental folk piece featuring acoustic guitar and drums with a melancholic feel. The audio segment features a melodic guitar playing with ...'\n",
      "DEBUG: Trovata coppia valida: File='000897.mp3' (indice inizio blocco: 285)\n",
      "DEBUG: --> Descrizione combinata dai frammenti: 'The provided audio segment is from a song with an experimental genre. It lacks any discernible instruments or mood. The time signature is 4/4 and the ...'\n",
      "DEBUG: Trovata coppia valida: File='000993.mp3' (indice inizio blocco: 290)\n",
      "DEBUG: --> Descrizione combinata dai frammenti: 'A rock piece with a guitar playing the main melody and a bass doing chromatic and moving lines behind. A loud and slightly fast-paced acoustic drum be...'\n",
      "DEBUG: Trovata coppia valida: File='000995.mp3' (indice inizio blocco: 295)\n",
      "DEBUG: --> Descrizione combinata dai frammenti: 'The audio segment contains an experimental piece with a dark mood. It includes synthesizers, drums, bass, and electric guitar. There's no vocal conten...'\n",
      "DEBUG: Trovata coppia valida: File='000997.mp3' (indice inizio blocco: 300)\n",
      "DEBUG: --> Descrizione combinata dai frammenti: 'The audio segment contains a dark experimental instrumental piece with a loud, abrasive sound. It likely belongs to the electronic or noise genre. The...'\n",
      "DEBUG: Trovata coppia valida: File='000998.mp3' (indice inizio blocco: 305)\n",
      "DEBUG: --> Descrizione combinata dai frammenti: 'The audio segment contains a fast and loud experimental piece with synthesizers and drums. It has a dark and energetic mood that could fit into a vide...'\n",
      "\n",
      "✅ Trovati 62 file audio e 62 descrizioni combinate dopo il filtro.\n",
      "\n",
      "--- Prime 5 coppie finali restituite da read_song_data_from_csv ---\n",
      "File [0]: '000002.mp3'\n",
      "Descrizione [0]: 'A male rapper sings this hip-hop piece. There are no other instruments accompanying him. The tempo i...'\n",
      "File [1]: '000005.mp3'\n",
      "Descrizione [1]: 'A male vocalist sings this hip-hop song. The tempo is medium with a steady drumming rhythm, keyboard...'\n",
      "File [2]: '000010.mp3'\n",
      "Descrizione [2]: 'The audio segment is from a pop song. A male vocalist sings this cool melody with a guitar accompani...'\n",
      "File [3]: '000140.mp3'\n",
      "Descrizione [3]: 'A slow, soft folk piece featuring acoustic guitar and piano with a melancholic feel. No other instru...'\n",
      "File [4]: '000141.mp3'\n",
      "Descrizione [4]: 'The audio segment is from a folk song without any specific instruments highlighted. It has a slow te...'\n",
      "Totale coppie processate: 62\n",
      "--------------------------------------------------\n",
      "\n",
      "Elenco completo dei file audio estratti dal CSV (dopo la combinazione dei fragment):\n",
      "1. '000002.mp3'\n",
      "2. '000005.mp3'\n",
      "3. '000010.mp3'\n",
      "4. '000140.mp3'\n",
      "5. '000141.mp3'\n",
      "6. '000148.mp3'\n",
      "7. '000182.mp3'\n",
      "8. '000190.mp3'\n",
      "9. '000193.mp3'\n",
      "10. '000194.mp3'\n",
      "...\n",
      "\n",
      "✅ Extracted 62 audio filenames and 62 cleaned total descriptions from CSV.\n",
      "\n",
      "Extracting embeddings and computing similarities:\n"
     ]
    },
    {
     "name": "stderr",
     "output_type": "stream",
     "text": [
      "Processing Pairs:   0%|                                                                         | 0/62 [00:00<?, ?it/s]"
     ]
    },
    {
     "name": "stdout",
     "output_type": "stream",
     "text": [
      "\n",
      "Processing file: '000002.mp3'\n",
      "Processing audio: 'C:\\Users\\edoar\\Desktop\\le musiche\\000\\000002.mp3'\n",
      "Processing text: 'Male rapper sings this hiphop piece there are no o...'\n"
     ]
    },
    {
     "name": "stderr",
     "output_type": "stream",
     "text": [
      "Processing Pairs:   2%|█                                                                | 1/62 [00:01<01:48,  1.78s/it]"
     ]
    },
    {
     "name": "stdout",
     "output_type": "stream",
     "text": [
      "✅ Successfully processed '000002.mp3'\n",
      "\n",
      "Processing file: '000005.mp3'\n",
      "Processing audio: 'C:\\Users\\edoar\\Desktop\\le musiche\\000\\000005.mp3'\n",
      "Processing text: 'Male vocalist sings this hiphop song the tempo is ...'\n"
     ]
    },
    {
     "name": "stderr",
     "output_type": "stream",
     "text": [
      "Processing Pairs:   3%|██                                                               | 2/62 [00:02<01:26,  1.44s/it]"
     ]
    },
    {
     "name": "stdout",
     "output_type": "stream",
     "text": [
      "✅ Successfully processed '000005.mp3'\n",
      "\n",
      "Processing file: '000010.mp3'\n",
      "Processing audio: 'C:\\Users\\edoar\\Desktop\\le musiche\\000\\000010.mp3'\n",
      "Processing text: 'The audio segment is from pop song male vocalist s...'\n"
     ]
    },
    {
     "name": "stderr",
     "output_type": "stream",
     "text": [
      "Processing Pairs:   5%|███▏                                                             | 3/62 [00:04<01:17,  1.32s/it]"
     ]
    },
    {
     "name": "stdout",
     "output_type": "stream",
     "text": [
      "✅ Successfully processed '000010.mp3'\n",
      "\n",
      "Processing file: '000140.mp3'\n",
      "Processing audio: 'C:\\Users\\edoar\\Desktop\\le musiche\\000\\000140.mp3'\n",
      "Processing text: 'Slow soft folk piece featuring acoustic guitar and...'\n"
     ]
    },
    {
     "name": "stderr",
     "output_type": "stream",
     "text": [
      "Processing Pairs:   6%|████▏                                                            | 4/62 [00:05<01:12,  1.25s/it]"
     ]
    },
    {
     "name": "stdout",
     "output_type": "stream",
     "text": [
      "✅ Successfully processed '000140.mp3'\n",
      "\n",
      "Processing file: '000141.mp3'\n",
      "Processing audio: 'C:\\Users\\edoar\\Desktop\\le musiche\\000\\000141.mp3'\n",
      "Processing text: 'The audio segment is from folk song without any sp...'\n"
     ]
    },
    {
     "name": "stderr",
     "output_type": "stream",
     "text": [
      "Processing Pairs:   8%|█████▏                                                           | 5/62 [00:06<01:08,  1.21s/it]"
     ]
    },
    {
     "name": "stdout",
     "output_type": "stream",
     "text": [
      "✅ Successfully processed '000141.mp3'\n",
      "\n",
      "Processing file: '000148.mp3'\n",
      "Processing audio: 'C:\\Users\\edoar\\Desktop\\le musiche\\000\\000148.mp3'\n",
      "Processing text: 'The audio segment is an experimental piece with no...'\n"
     ]
    },
    {
     "name": "stderr",
     "output_type": "stream",
     "text": [
      "Processing Pairs:  10%|██████▎                                                          | 6/62 [00:07<01:06,  1.19s/it]"
     ]
    },
    {
     "name": "stdout",
     "output_type": "stream",
     "text": [
      "✅ Successfully processed '000148.mp3'\n",
      "\n",
      "Processing file: '000182.mp3'\n",
      "Processing audio: 'C:\\Users\\edoar\\Desktop\\le musiche\\000\\000182.mp3'\n",
      "Processing text: 'Rock piece with guitar playing chord progression b...'\n"
     ]
    },
    {
     "name": "stderr",
     "output_type": "stream",
     "text": [
      "Processing Pairs:  11%|███████▎                                                         | 7/62 [00:08<01:05,  1.19s/it]"
     ]
    },
    {
     "name": "stdout",
     "output_type": "stream",
     "text": [
      "✅ Successfully processed '000182.mp3'\n",
      "\n",
      "Processing file: '000190.mp3'\n",
      "Processing audio: 'C:\\Users\\edoar\\Desktop\\le musiche\\000\\000190.mp3'\n",
      "Processing text: 'Male vocalist sings this melodic line the song is ...'\n"
     ]
    },
    {
     "name": "stderr",
     "output_type": "stream",
     "text": [
      "Processing Pairs:  13%|████████▍                                                        | 8/62 [00:10<01:08,  1.26s/it]"
     ]
    },
    {
     "name": "stdout",
     "output_type": "stream",
     "text": [
      "✅ Successfully processed '000190.mp3'\n",
      "\n",
      "Processing file: '000193.mp3'\n",
      "Processing audio: 'C:\\Users\\edoar\\Desktop\\le musiche\\000\\000193.mp3'\n",
      "Processing text: 'The audio segment under analysis is from folk song...'\n"
     ]
    },
    {
     "name": "stderr",
     "output_type": "stream",
     "text": [
      "Processing Pairs:  15%|█████████▍                                                       | 9/62 [00:11<01:05,  1.24s/it]"
     ]
    },
    {
     "name": "stdout",
     "output_type": "stream",
     "text": [
      "✅ Successfully processed '000193.mp3'\n",
      "\n",
      "Processing file: '000194.mp3'\n",
      "Processing audio: 'C:\\Users\\edoar\\Desktop\\le musiche\\000\\000194.mp3'\n",
      "Processing text: 'Male vocalist sings this poignant melody the song ...'\n"
     ]
    },
    {
     "name": "stderr",
     "output_type": "stream",
     "text": [
      "Processing Pairs:  16%|██████████▎                                                     | 10/62 [00:12<01:04,  1.23s/it]"
     ]
    },
    {
     "name": "stdout",
     "output_type": "stream",
     "text": [
      "✅ Successfully processed '000194.mp3'\n",
      "\n",
      "Processing file: '000197.mp3'\n",
      "Processing audio: 'C:\\Users\\edoar\\Desktop\\le musiche\\000\\000197.mp3'\n",
      "Processing text: 'The audio segment features an instrumental piece f...'\n"
     ]
    },
    {
     "name": "stderr",
     "output_type": "stream",
     "text": [
      "Processing Pairs:  18%|███████████▎                                                    | 11/62 [00:13<01:04,  1.27s/it]"
     ]
    },
    {
     "name": "stdout",
     "output_type": "stream",
     "text": [
      "✅ Successfully processed '000197.mp3'\n",
      "\n",
      "Processing file: '000200.mp3'\n",
      "Processing audio: 'C:\\Users\\edoar\\Desktop\\le musiche\\000\\000200.mp3'\n",
      "Processing text: 'The audio segment features male voice singing engl...'\n"
     ]
    },
    {
     "name": "stderr",
     "output_type": "stream",
     "text": [
      "Processing Pairs:  19%|████████████▍                                                   | 12/62 [00:15<01:04,  1.30s/it]"
     ]
    },
    {
     "name": "stdout",
     "output_type": "stream",
     "text": [
      "✅ Successfully processed '000200.mp3'\n",
      "\n",
      "Processing file: '000203.mp3'\n",
      "Processing audio: 'C:\\Users\\edoar\\Desktop\\le musiche\\000\\000203.mp3'\n",
      "Processing text: 'Solo ukulele playing slow melody with arpeggiated ...'\n"
     ]
    },
    {
     "name": "stderr",
     "output_type": "stream",
     "text": [
      "Processing Pairs:  21%|█████████████▍                                                  | 13/62 [00:16<01:03,  1.29s/it]"
     ]
    },
    {
     "name": "stdout",
     "output_type": "stream",
     "text": [
      "✅ Successfully processed '000203.mp3'\n",
      "\n",
      "Processing file: '000204.mp3'\n",
      "Processing audio: 'C:\\Users\\edoar\\Desktop\\le musiche\\000\\000204.mp3'\n",
      "Processing text: 'Male vocalist sings this pop folk song the tempo i...'\n"
     ]
    },
    {
     "name": "stderr",
     "output_type": "stream",
     "text": [
      "Processing Pairs:  23%|██████████████▍                                                 | 14/62 [00:18<01:09,  1.44s/it]"
     ]
    },
    {
     "name": "stdout",
     "output_type": "stream",
     "text": [
      "✅ Successfully processed '000204.mp3'\n",
      "\n",
      "Processing file: '000207.mp3'\n",
      "Processing audio: 'C:\\Users\\edoar\\Desktop\\le musiche\\000\\000207.mp3'\n",
      "Processing text: 'The audio segment features slowpaced instrumental ...'\n"
     ]
    },
    {
     "name": "stderr",
     "output_type": "stream",
     "text": [
      "Processing Pairs:  24%|███████████████▍                                                | 15/62 [00:20<01:13,  1.56s/it]"
     ]
    },
    {
     "name": "stdout",
     "output_type": "stream",
     "text": [
      "✅ Successfully processed '000207.mp3'\n",
      "\n",
      "Processing file: '000210.mp3'\n",
      "Processing audio: 'C:\\Users\\edoar\\Desktop\\le musiche\\000\\000210.mp3'\n",
      "Processing text: 'Male vocalist sings this emotional folk song the t...'\n"
     ]
    },
    {
     "name": "stderr",
     "output_type": "stream",
     "text": [
      "Processing Pairs:  26%|████████████████▌                                               | 16/62 [00:21<01:11,  1.55s/it]"
     ]
    },
    {
     "name": "stdout",
     "output_type": "stream",
     "text": [
      "✅ Successfully processed '000210.mp3'\n",
      "\n",
      "Processing file: '000211.mp3'\n",
      "Processing audio: 'C:\\Users\\edoar\\Desktop\\le musiche\\000\\000211.mp3'\n",
      "Processing text: 'Male vocalist sings this emotional melody the song...'\n"
     ]
    },
    {
     "name": "stderr",
     "output_type": "stream",
     "text": [
      "Processing Pairs:  27%|█████████████████▌                                              | 17/62 [00:23<01:10,  1.56s/it]"
     ]
    },
    {
     "name": "stdout",
     "output_type": "stream",
     "text": [
      "✅ Successfully processed '000211.mp3'\n",
      "\n",
      "Processing file: '000212.mp3'\n",
      "Processing audio: 'C:\\Users\\edoar\\Desktop\\le musiche\\000\\000212.mp3'\n",
      "Processing text: 'The audio segment features male voice singing key ...'\n"
     ]
    },
    {
     "name": "stderr",
     "output_type": "stream",
     "text": [
      "Processing Pairs:  29%|██████████████████▌                                             | 18/62 [00:24<01:09,  1.58s/it]"
     ]
    },
    {
     "name": "stdout",
     "output_type": "stream",
     "text": [
      "✅ Successfully processed '000212.mp3'\n",
      "\n",
      "Processing file: '000213.mp3'\n",
      "Processing audio: 'C:\\Users\\edoar\\Desktop\\le musiche\\000\\000213.mp3'\n",
      "Processing text: 'The audio segment is from pop song clean electric ...'\n"
     ]
    },
    {
     "name": "stderr",
     "output_type": "stream",
     "text": [
      "Processing Pairs:  31%|███████████████████▌                                            | 19/62 [00:26<01:07,  1.58s/it]"
     ]
    },
    {
     "name": "stdout",
     "output_type": "stream",
     "text": [
      "✅ Successfully processed '000213.mp3'\n",
      "\n",
      "Processing file: '000255.mp3'\n",
      "Processing audio: 'C:\\Users\\edoar\\Desktop\\le musiche\\000\\000255.mp3'\n",
      "Processing text: 'Rock piece with drums guitar bass electric guitar ...'\n"
     ]
    },
    {
     "name": "stderr",
     "output_type": "stream",
     "text": [
      "Processing Pairs:  32%|████████████████████▋                                           | 20/62 [00:27<01:00,  1.44s/it]"
     ]
    },
    {
     "name": "stdout",
     "output_type": "stream",
     "text": [
      "✅ Successfully processed '000255.mp3'\n",
      "\n",
      "Processing file: '000256.mp3'\n",
      "Processing audio: 'C:\\Users\\edoar\\Desktop\\le musiche\\000\\000256.mp3'\n",
      "Processing text: 'Male vocalist sings this aggressive rock piece the...'\n"
     ]
    },
    {
     "name": "stderr",
     "output_type": "stream",
     "text": [
      "Processing Pairs:  34%|█████████████████████▋                                          | 21/62 [00:29<00:58,  1.43s/it]"
     ]
    },
    {
     "name": "stdout",
     "output_type": "stream",
     "text": [
      "✅ Successfully processed '000256.mp3'\n",
      "\n",
      "Processing file: '000368.mp3'\n",
      "Processing audio: 'C:\\Users\\edoar\\Desktop\\le musiche\\000\\000368.mp3'\n",
      "Processing text: 'Rock piece with slow tempo featuring loud electric...'\n"
     ]
    },
    {
     "name": "stderr",
     "output_type": "stream",
     "text": [
      "Processing Pairs:  35%|██████████████████████▋                                         | 22/62 [00:30<00:59,  1.49s/it]"
     ]
    },
    {
     "name": "stdout",
     "output_type": "stream",
     "text": [
      "✅ Successfully processed '000368.mp3'\n",
      "\n",
      "Processing file: '000424.mp3'\n",
      "Processing audio: 'C:\\Users\\edoar\\Desktop\\le musiche\\000\\000424.mp3'\n",
      "Processing text: 'The audio segment contains synthesizer and drums i...'\n"
     ]
    },
    {
     "name": "stderr",
     "output_type": "stream",
     "text": [
      "Processing Pairs:  37%|███████████████████████▋                                        | 23/62 [00:32<01:01,  1.59s/it]"
     ]
    },
    {
     "name": "stdout",
     "output_type": "stream",
     "text": [
      "✅ Successfully processed '000424.mp3'\n",
      "\n",
      "Processing file: '000459.mp3'\n",
      "Processing audio: 'C:\\Users\\edoar\\Desktop\\le musiche\\000\\000459.mp3'\n",
      "Processing text: 'Rock piece with drums guitar bass electric guitar ...'\n"
     ]
    },
    {
     "name": "stderr",
     "output_type": "stream",
     "text": [
      "Processing Pairs:  39%|████████████████████████▊                                       | 24/62 [00:34<01:00,  1.59s/it]"
     ]
    },
    {
     "name": "stdout",
     "output_type": "stream",
     "text": [
      "✅ Successfully processed '000459.mp3'\n",
      "\n",
      "Processing file: '000534.mp3'\n",
      "Processing audio: 'C:\\Users\\edoar\\Desktop\\le musiche\\000\\000534.mp3'\n",
      "Processing text: 'Solo acoustic guitar piece with fingerpicking styl...'\n"
     ]
    },
    {
     "name": "stderr",
     "output_type": "stream",
     "text": [
      "Processing Pairs:  40%|█████████████████████████▊                                      | 25/62 [00:35<01:01,  1.67s/it]"
     ]
    },
    {
     "name": "stdout",
     "output_type": "stream",
     "text": [
      "✅ Successfully processed '000534.mp3'\n",
      "\n",
      "Processing file: '000540.mp3'\n",
      "Processing audio: 'C:\\Users\\edoar\\Desktop\\le musiche\\000\\000540.mp3'\n",
      "Processing text: 'The audio segment features male voice singing the ...'\n"
     ]
    },
    {
     "name": "stderr",
     "output_type": "stream",
     "text": [
      "Processing Pairs:  42%|██████████████████████████▊                                     | 26/62 [00:37<00:59,  1.65s/it]"
     ]
    },
    {
     "name": "stdout",
     "output_type": "stream",
     "text": [
      "✅ Successfully processed '000540.mp3'\n",
      "\n",
      "Processing file: '000546.mp3'\n",
      "Processing audio: 'C:\\Users\\edoar\\Desktop\\le musiche\\000\\000546.mp3'\n",
      "Processing text: 'The audio segment features male voice singing engl...'\n"
     ]
    },
    {
     "name": "stderr",
     "output_type": "stream",
     "text": [
      "Processing Pairs:  44%|███████████████████████████▊                                    | 27/62 [00:38<00:53,  1.52s/it]"
     ]
    },
    {
     "name": "stdout",
     "output_type": "stream",
     "text": [
      "✅ Successfully processed '000546.mp3'\n",
      "\n",
      "Processing file: '000574.mp3'\n",
      "Processing audio: 'C:\\Users\\edoar\\Desktop\\le musiche\\000\\000574.mp3'\n",
      "Processing text: 'Male vocalist sings this rock song the tempo is me...'\n"
     ]
    },
    {
     "name": "stderr",
     "output_type": "stream",
     "text": [
      "Processing Pairs:  45%|████████████████████████████▉                                   | 28/62 [00:39<00:48,  1.42s/it]"
     ]
    },
    {
     "name": "stdout",
     "output_type": "stream",
     "text": [
      "✅ Successfully processed '000574.mp3'\n",
      "\n",
      "Processing file: '000602.mp3'\n",
      "Processing audio: 'C:\\Users\\edoar\\Desktop\\le musiche\\000\\000602.mp3'\n",
      "Processing text: 'Solo harp melody can be heard playing slow soothin...'\n"
     ]
    },
    {
     "name": "stderr",
     "output_type": "stream",
     "text": [
      "Processing Pairs:  47%|█████████████████████████████▉                                  | 29/62 [00:41<00:51,  1.55s/it]"
     ]
    },
    {
     "name": "stdout",
     "output_type": "stream",
     "text": [
      "✅ Successfully processed '000602.mp3'\n",
      "\n",
      "Processing file: '000615.mp3'\n",
      "Processing audio: 'C:\\Users\\edoar\\Desktop\\le musiche\\000\\000615.mp3'\n",
      "Processing text: 'The audio segment features an instrumental with da...'\n"
     ]
    },
    {
     "name": "stderr",
     "output_type": "stream",
     "text": [
      "Processing Pairs:  48%|██████████████████████████████▉                                 | 30/62 [00:43<00:50,  1.59s/it]"
     ]
    },
    {
     "name": "stdout",
     "output_type": "stream",
     "text": [
      "✅ Successfully processed '000615.mp3'\n",
      "\n",
      "Processing file: '000620.mp3'\n",
      "Processing audio: 'C:\\Users\\edoar\\Desktop\\le musiche\\000\\000620.mp3'\n",
      "Processing text: 'Slow instrumental piece with classical feel featur...'\n"
     ]
    },
    {
     "name": "stderr",
     "output_type": "stream",
     "text": [
      "Processing Pairs:  50%|████████████████████████████████                                | 31/62 [00:45<00:51,  1.67s/it]"
     ]
    },
    {
     "name": "stdout",
     "output_type": "stream",
     "text": [
      "✅ Successfully processed '000620.mp3'\n",
      "\n",
      "Processing file: '000621.mp3'\n",
      "Processing audio: 'C:\\Users\\edoar\\Desktop\\le musiche\\000\\000621.mp3'\n",
      "Processing text: 'Male vocalist sings this melodic line the song is ...'\n"
     ]
    },
    {
     "name": "stderr",
     "output_type": "stream",
     "text": [
      "Processing Pairs:  52%|█████████████████████████████████                               | 32/62 [00:46<00:49,  1.65s/it]"
     ]
    },
    {
     "name": "stdout",
     "output_type": "stream",
     "text": [
      "✅ Successfully processed '000621.mp3'\n",
      "\n",
      "Processing file: '000625.mp3'\n",
      "Processing audio: 'C:\\Users\\edoar\\Desktop\\le musiche\\000\\000625.mp3'\n",
      "Processing text: 'Simple folk melody is played on guitar with harmon...'\n"
     ]
    },
    {
     "name": "stderr",
     "output_type": "stream",
     "text": [
      "Processing Pairs:  53%|██████████████████████████████████                              | 33/62 [00:48<00:47,  1.63s/it]"
     ]
    },
    {
     "name": "stdout",
     "output_type": "stream",
     "text": [
      "✅ Successfully processed '000625.mp3'\n",
      "\n",
      "Processing file: '000666.mp3'\n",
      "Processing audio: 'C:\\Users\\edoar\\Desktop\\le musiche\\000\\000666.mp3'\n",
      "Processing text: 'The audio segment is from rock piece with an inter...'\n"
     ]
    },
    {
     "name": "stderr",
     "output_type": "stream",
     "text": [
      "Processing Pairs:  55%|███████████████████████████████████                             | 34/62 [00:50<00:45,  1.61s/it]"
     ]
    },
    {
     "name": "stdout",
     "output_type": "stream",
     "text": [
      "✅ Successfully processed '000666.mp3'\n",
      "\n",
      "Processing file: '000667.mp3'\n",
      "Processing audio: 'C:\\Users\\edoar\\Desktop\\le musiche\\000\\000667.mp3'\n",
      "Processing text: 'Rock piece with drums guitar bass electric guitar ...'\n"
     ]
    },
    {
     "name": "stderr",
     "output_type": "stream",
     "text": [
      "Processing Pairs:  56%|████████████████████████████████████▏                           | 35/62 [00:51<00:42,  1.59s/it]"
     ]
    },
    {
     "name": "stdout",
     "output_type": "stream",
     "text": [
      "✅ Successfully processed '000667.mp3'\n",
      "\n",
      "Processing file: '000676.mp3'\n",
      "Processing audio: 'C:\\Users\\edoar\\Desktop\\le musiche\\000\\000676.mp3'\n",
      "Processing text: 'Male vocalist sings this rap the tempo is medium w...'\n"
     ]
    },
    {
     "name": "stderr",
     "output_type": "stream",
     "text": [
      "Processing Pairs:  58%|█████████████████████████████████████▏                          | 36/62 [00:53<00:40,  1.55s/it]"
     ]
    },
    {
     "name": "stdout",
     "output_type": "stream",
     "text": [
      "✅ Successfully processed '000676.mp3'\n",
      "\n",
      "Processing file: '000690.mp3'\n",
      "Processing audio: 'C:\\Users\\edoar\\Desktop\\le musiche\\000\\000690.mp3'\n",
      "Processing text: 'Rock piece featuring drums guitar bass and electri...'\n"
     ]
    },
    {
     "name": "stderr",
     "output_type": "stream",
     "text": [
      "Processing Pairs:  60%|██████████████████████████████████████▏                         | 37/62 [00:54<00:40,  1.63s/it]"
     ]
    },
    {
     "name": "stdout",
     "output_type": "stream",
     "text": [
      "✅ Successfully processed '000690.mp3'\n",
      "\n",
      "Processing file: '000694.mp3'\n",
      "Processing audio: 'C:\\Users\\edoar\\Desktop\\le musiche\\000\\000694.mp3'\n",
      "Processing text: 'The audio segment is from hiphop song characterize...'\n"
     ]
    },
    {
     "name": "stderr",
     "output_type": "stream",
     "text": [
      "Processing Pairs:  61%|███████████████████████████████████████▏                        | 38/62 [00:56<00:38,  1.61s/it]"
     ]
    },
    {
     "name": "stdout",
     "output_type": "stream",
     "text": [
      "✅ Successfully processed '000694.mp3'\n",
      "\n",
      "Processing file: '000695.mp3'\n",
      "Processing audio: 'C:\\Users\\edoar\\Desktop\\le musiche\\000\\000695.mp3'\n",
      "Processing text: 'The audio fragment contains hiphop song with no sp...'\n"
     ]
    },
    {
     "name": "stderr",
     "output_type": "stream",
     "text": [
      "Processing Pairs:  63%|████████████████████████████████████████▎                       | 39/62 [00:57<00:36,  1.58s/it]"
     ]
    },
    {
     "name": "stdout",
     "output_type": "stream",
     "text": [
      "✅ Successfully processed '000695.mp3'\n",
      "\n",
      "Processing file: '000704.mp3'\n",
      "Processing audio: 'C:\\Users\\edoar\\Desktop\\le musiche\\000\\000704.mp3'\n",
      "Processing text: 'The audio segment is from pop song with an interna...'\n"
     ]
    },
    {
     "name": "stderr",
     "output_type": "stream",
     "text": [
      "Processing Pairs:  65%|█████████████████████████████████████████▎                      | 40/62 [00:59<00:36,  1.64s/it]"
     ]
    },
    {
     "name": "stdout",
     "output_type": "stream",
     "text": [
      "✅ Successfully processed '000704.mp3'\n",
      "\n",
      "Processing file: '000705.mp3'\n",
      "Processing audio: 'C:\\Users\\edoar\\Desktop\\le musiche\\000\\000705.mp3'\n",
      "Processing text: 'Melodic french rock piece with drums bass electric...'\n"
     ]
    },
    {
     "name": "stderr",
     "output_type": "stream",
     "text": [
      "Processing Pairs:  66%|██████████████████████████████████████████▎                     | 41/62 [01:01<00:35,  1.69s/it]"
     ]
    },
    {
     "name": "stdout",
     "output_type": "stream",
     "text": [
      "✅ Successfully processed '000705.mp3'\n",
      "\n",
      "Processing file: '000706.mp3'\n",
      "Processing audio: 'C:\\Users\\edoar\\Desktop\\le musiche\\000\\000706.mp3'\n",
      "Processing text: 'The audio segment features male voice singing fore...'\n"
     ]
    },
    {
     "name": "stderr",
     "output_type": "stream",
     "text": [
      "Processing Pairs:  68%|███████████████████████████████████████████▎                    | 42/62 [01:03<00:34,  1.71s/it]"
     ]
    },
    {
     "name": "stdout",
     "output_type": "stream",
     "text": [
      "✅ Successfully processed '000706.mp3'\n",
      "\n",
      "Processing file: '000707.mp3'\n",
      "Processing audio: 'C:\\Users\\edoar\\Desktop\\le musiche\\000\\000707.mp3'\n",
      "Processing text: 'Male vocalist sings this spirited indian poprock p...'\n"
     ]
    },
    {
     "name": "stderr",
     "output_type": "stream",
     "text": [
      "Processing Pairs:  69%|████████████████████████████████████████████▍                   | 43/62 [01:05<00:32,  1.71s/it]"
     ]
    },
    {
     "name": "stdout",
     "output_type": "stream",
     "text": [
      "✅ Successfully processed '000707.mp3'\n",
      "\n",
      "Processing file: '000708.mp3'\n",
      "Processing audio: 'C:\\Users\\edoar\\Desktop\\le musiche\\000\\000708.mp3'\n",
      "Processing text: 'The provided song segment is from pop song with an...'\n"
     ]
    },
    {
     "name": "stderr",
     "output_type": "stream",
     "text": [
      "Processing Pairs:  71%|█████████████████████████████████████████████▍                  | 44/62 [01:06<00:31,  1.74s/it]"
     ]
    },
    {
     "name": "stdout",
     "output_type": "stream",
     "text": [
      "✅ Successfully processed '000708.mp3'\n",
      "\n",
      "Processing file: '000709.mp3'\n",
      "Processing audio: 'C:\\Users\\edoar\\Desktop\\le musiche\\000\\000709.mp3'\n",
      "Processing text: 'Male vocalist sings this spirited latin poprock pi...'\n"
     ]
    },
    {
     "name": "stderr",
     "output_type": "stream",
     "text": [
      "Processing Pairs:  73%|██████████████████████████████████████████████▍                 | 45/62 [01:08<00:29,  1.72s/it]"
     ]
    },
    {
     "name": "stdout",
     "output_type": "stream",
     "text": [
      "✅ Successfully processed '000709.mp3'\n",
      "\n",
      "Processing file: '000714.mp3'\n",
      "Processing audio: 'C:\\Users\\edoar\\Desktop\\le musiche\\000\\000714.mp3'\n",
      "Processing text: 'The audio segment is from folk song characterized ...'\n"
     ]
    },
    {
     "name": "stderr",
     "output_type": "stream",
     "text": [
      "Processing Pairs:  74%|███████████████████████████████████████████████▍                | 46/62 [01:09<00:26,  1.65s/it]"
     ]
    },
    {
     "name": "stdout",
     "output_type": "stream",
     "text": [
      "✅ Successfully processed '000714.mp3'\n",
      "\n",
      "Processing file: '000715.mp3'\n",
      "Processing audio: 'C:\\Users\\edoar\\Desktop\\le musiche\\000\\000715.mp3'\n",
      "Processing text: 'The audio segment features synth key melody with s...'\n"
     ]
    },
    {
     "name": "stderr",
     "output_type": "stream",
     "text": [
      "Processing Pairs:  76%|████████████████████████████████████████████████▌               | 47/62 [01:11<00:23,  1.55s/it]"
     ]
    },
    {
     "name": "stdout",
     "output_type": "stream",
     "text": [
      "✅ Successfully processed '000715.mp3'\n",
      "\n",
      "Processing file: '000716.mp3'\n",
      "Processing audio: 'C:\\Users\\edoar\\Desktop\\le musiche\\000\\000716.mp3'\n",
      "Processing text: 'The audio segment features slowpaced instrumental ...'\n"
     ]
    },
    {
     "name": "stderr",
     "output_type": "stream",
     "text": [
      "Processing Pairs:  77%|█████████████████████████████████████████████████▌              | 48/62 [01:12<00:20,  1.45s/it]"
     ]
    },
    {
     "name": "stdout",
     "output_type": "stream",
     "text": [
      "✅ Successfully processed '000716.mp3'\n",
      "\n",
      "Processing file: '000718.mp3'\n",
      "Processing audio: 'C:\\Users\\edoar\\Desktop\\le musiche\\000\\000718.mp3'\n",
      "Processing text: 'The audio segment is from folk song characterized ...'\n"
     ]
    },
    {
     "name": "stderr",
     "output_type": "stream",
     "text": [
      "Processing Pairs:  79%|██████████████████████████████████████████████████▌             | 49/62 [01:14<00:19,  1.48s/it]"
     ]
    },
    {
     "name": "stdout",
     "output_type": "stream",
     "text": [
      "✅ Successfully processed '000718.mp3'\n",
      "\n",
      "Processing file: '000777.mp3'\n",
      "Processing audio: 'C:\\Users\\edoar\\Desktop\\le musiche\\000\\000777.mp3'\n",
      "Processing text: 'The audio segment features rock song with prominen...'\n"
     ]
    },
    {
     "name": "stderr",
     "output_type": "stream",
     "text": [
      "Processing Pairs:  81%|███████████████████████████████████████████████████▌            | 50/62 [01:15<00:18,  1.53s/it]"
     ]
    },
    {
     "name": "stdout",
     "output_type": "stream",
     "text": [
      "✅ Successfully processed '000777.mp3'\n",
      "\n",
      "Processing file: '000814.mp3'\n",
      "Processing audio: 'C:\\Users\\edoar\\Desktop\\le musiche\\000\\000814.mp3'\n",
      "Processing text: 'The audio segment features female voice singing en...'\n"
     ]
    },
    {
     "name": "stderr",
     "output_type": "stream",
     "text": [
      "Processing Pairs:  82%|████████████████████████████████████████████████████▋           | 51/62 [01:17<00:17,  1.58s/it]"
     ]
    },
    {
     "name": "stdout",
     "output_type": "stream",
     "text": [
      "✅ Successfully processed '000814.mp3'\n",
      "\n",
      "Processing file: '000821.mp3'\n",
      "Processing audio: 'C:\\Users\\edoar\\Desktop\\le musiche\\000\\000821.mp3'\n",
      "Processing text: 'The audio segment is from pop song female voice ca...'\n"
     ]
    },
    {
     "name": "stderr",
     "output_type": "stream",
     "text": [
      "Processing Pairs:  84%|█████████████████████████████████████████████████████▋          | 52/62 [01:18<00:15,  1.58s/it]"
     ]
    },
    {
     "name": "stdout",
     "output_type": "stream",
     "text": [
      "✅ Successfully processed '000821.mp3'\n",
      "\n",
      "Processing file: '000822.mp3'\n",
      "Processing audio: 'C:\\Users\\edoar\\Desktop\\le musiche\\000\\000822.mp3'\n",
      "Processing text: 'Female vocalist sings this pop song the tempo is m...'\n"
     ]
    },
    {
     "name": "stderr",
     "output_type": "stream",
     "text": [
      "Processing Pairs:  85%|██████████████████████████████████████████████████████▋         | 53/62 [01:20<00:14,  1.59s/it]"
     ]
    },
    {
     "name": "stdout",
     "output_type": "stream",
     "text": [
      "✅ Successfully processed '000822.mp3'\n",
      "\n",
      "Processing file: '000825.mp3'\n",
      "Processing audio: 'C:\\Users\\edoar\\Desktop\\le musiche\\000\\000825.mp3'\n",
      "Processing text: 'The audio segment is from rock song characterized ...'\n"
     ]
    },
    {
     "name": "stderr",
     "output_type": "stream",
     "text": [
      "Processing Pairs:  87%|███████████████████████████████████████████████████████▋        | 54/62 [01:22<00:12,  1.54s/it]"
     ]
    },
    {
     "name": "stdout",
     "output_type": "stream",
     "text": [
      "✅ Successfully processed '000825.mp3'\n",
      "\n",
      "Processing file: '000853.mp3'\n",
      "Processing audio: 'C:\\Users\\edoar\\Desktop\\le musiche\\000\\000853.mp3'\n",
      "Processing text: 'The audio segment features fastpaced melody played...'\n"
     ]
    },
    {
     "name": "stderr",
     "output_type": "stream",
     "text": [
      "Processing Pairs:  89%|████████████████████████████████████████████████████████▊       | 55/62 [01:23<00:11,  1.61s/it]"
     ]
    },
    {
     "name": "stdout",
     "output_type": "stream",
     "text": [
      "✅ Successfully processed '000853.mp3'\n",
      "\n",
      "Processing file: '000890.mp3'\n",
      "Processing audio: 'C:\\Users\\edoar\\Desktop\\le musiche\\000\\000890.mp3'\n",
      "Processing text: 'The audio segment under analysis is from folk song...'\n"
     ]
    },
    {
     "name": "stderr",
     "output_type": "stream",
     "text": [
      "Processing Pairs:  90%|█████████████████████████████████████████████████████████▊      | 56/62 [01:25<00:09,  1.66s/it]"
     ]
    },
    {
     "name": "stdout",
     "output_type": "stream",
     "text": [
      "✅ Successfully processed '000890.mp3'\n",
      "\n",
      "Processing file: '000892.mp3'\n",
      "Processing audio: 'C:\\Users\\edoar\\Desktop\\le musiche\\000\\000892.mp3'\n",
      "Processing text: 'Slow instrumental folk piece featuring acoustic gu...'\n"
     ]
    },
    {
     "name": "stderr",
     "output_type": "stream",
     "text": [
      "Processing Pairs:  92%|██████████████████████████████████████████████████████████▊     | 57/62 [01:27<00:08,  1.69s/it]"
     ]
    },
    {
     "name": "stdout",
     "output_type": "stream",
     "text": [
      "✅ Successfully processed '000892.mp3'\n",
      "\n",
      "Processing file: '000897.mp3'\n",
      "Processing audio: 'C:\\Users\\edoar\\Desktop\\le musiche\\000\\000897.mp3'\n",
      "Processing text: 'The provided audio segment is from song with an ex...'\n"
     ]
    },
    {
     "name": "stderr",
     "output_type": "stream",
     "text": [
      "Processing Pairs:  94%|███████████████████████████████████████████████████████████▊    | 58/62 [01:29<00:06,  1.72s/it]"
     ]
    },
    {
     "name": "stdout",
     "output_type": "stream",
     "text": [
      "✅ Successfully processed '000897.mp3'\n",
      "\n",
      "Processing file: '000993.mp3'\n",
      "Processing audio: 'C:\\Users\\edoar\\Desktop\\le musiche\\000\\000993.mp3'\n",
      "Processing text: 'Rock piece with guitar playing the main melody and...'\n"
     ]
    },
    {
     "name": "stderr",
     "output_type": "stream",
     "text": [
      "Processing Pairs:  95%|████████████████████████████████████████████████████████████▉   | 59/62 [01:30<00:05,  1.71s/it]"
     ]
    },
    {
     "name": "stdout",
     "output_type": "stream",
     "text": [
      "✅ Successfully processed '000993.mp3'\n",
      "\n",
      "Processing file: '000995.mp3'\n",
      "Processing audio: 'C:\\Users\\edoar\\Desktop\\le musiche\\000\\000995.mp3'\n",
      "Processing text: 'The audio segment contains an experimental piece w...'\n"
     ]
    },
    {
     "name": "stderr",
     "output_type": "stream",
     "text": [
      "Processing Pairs:  97%|█████████████████████████████████████████████████████████████▉  | 60/62 [01:32<00:03,  1.71s/it]"
     ]
    },
    {
     "name": "stdout",
     "output_type": "stream",
     "text": [
      "✅ Successfully processed '000995.mp3'\n",
      "\n",
      "Processing file: '000997.mp3'\n",
      "Processing audio: 'C:\\Users\\edoar\\Desktop\\le musiche\\000\\000997.mp3'\n",
      "Processing text: 'The audio segment contains dark experimental instr...'\n"
     ]
    },
    {
     "name": "stderr",
     "output_type": "stream",
     "text": [
      "Processing Pairs:  98%|██████████████████████████████████████████████████████████████▉ | 61/62 [01:34<00:01,  1.65s/it]"
     ]
    },
    {
     "name": "stdout",
     "output_type": "stream",
     "text": [
      "✅ Successfully processed '000997.mp3'\n",
      "\n",
      "Processing file: '000998.mp3'\n",
      "Processing audio: 'C:\\Users\\edoar\\Desktop\\le musiche\\000\\000998.mp3'\n",
      "Processing text: 'The audio segment contains fast and loud experimen...'\n"
     ]
    },
    {
     "name": "stderr",
     "output_type": "stream",
     "text": [
      "Processing Pairs: 100%|████████████████████████████████████████████████████████████████| 62/62 [01:35<00:00,  1.54s/it]"
     ]
    },
    {
     "name": "stdout",
     "output_type": "stream",
     "text": [
      "✅ Successfully processed '000998.mp3'\n",
      "\n",
      "✅ Successfully extracted embeddings for 62 pairs.\n",
      "✅ Calculated 62 audio-text similarities.\n"
     ]
    },
    {
     "name": "stderr",
     "output_type": "stream",
     "text": [
      "\n"
     ]
    },
    {
     "data": {
      "image/png": "[encoded data removed]",
      "text/plain": [
       "<Figure size 1000x600 with 1 Axes>"
      ]
     },
     "metadata": {},
     "output_type": "display_data"
    },
    {
     "name": "stdout",
     "output_type": "stream",
     "text": [
      "\n",
      "=== Statistiche Complessive Similarità Audio-Description (CLAP) ===\n",
      "Numero di coppie elaborate: 62\n",
      "Media: 0.3114\n",
      "Mediana: 0.3036\n",
      "Deviazione standard: 0.0780\n",
      "Minima: 0.0935\n",
      "Massima: 0.5014\n",
      "\n",
      "✅ Statistiche complessive salvate in 'C:\\Users\\edoar\\CV_CMEAN_bufi_murolo\\Progetto\\Modulo Qwen Audio\\clap_similarity_statistics.csv'\n",
      "✅ Similarità individuali salvate in 'C:\\Users\\edoar\\CV_CMEAN_bufi_murolo\\Progetto\\Modulo Qwen Audio\\clap_individual_similarities.csv' (senza colonna 'Descrizione Testo')\n",
      "\n",
      "=== 🔻 Peggiori match Audio-Description ===\n",
      "File: 000182.mp3, Similarità: 0.0935\n",
      "Description: 'A rock piece with a guitar playing a chord progression, a bass doing the same, and an electronic drum beat providing a generic rock beat. The atmosphere seems energetic and generic, suitable for a sho...'\n",
      "\n",
      "File: 000777.mp3, Similarità: 0.1323\n",
      "Description: 'The audio segment features a rock song with a prominent guitar playing. There's no discernible bass or percussion; it lacks any discernible chords or melodies from other instruments. The tempo is slow...'\n",
      "\n",
      "File: 000814.mp3, Similarità: 0.1843\n",
      "Description: 'The audio segment features a female voice singing in English with a neutral mood. There are no other instruments present in this clip. The tempo or rhythm of the song cannot be determined from the giv...'\n",
      "\n",
      "File: 000993.mp3, Similarità: 0.1867\n",
      "Description: 'A rock piece with a guitar playing the main melody and a bass doing chromatic and moving lines behind. A loud and slightly fast-paced acoustic drum beat provides rhythm. The atmosphere is energetic an...'\n",
      "\n",
      "File: 000255.mp3, Similarità: 0.2060\n",
      "Description: 'A rock piece with drums, guitar, bass, electric guitar, and synthesizer sounds is present from the beginning to the 1-minute mark. It lacks any discernible lyrics or vocals. The tempo maintains a stea...'\n",
      "\n",
      "\n",
      "=== 🔺 Migliori match Audio-Description ===\n",
      "File: 000602.mp3, Similarità: 0.5014\n",
      "Description: 'A solo harp melody can be heard playing a slow, soothing piece with a quiet and meditative mood. The harp's gentle strumming produces a soft, warm, and mellow sound that encapsulates a sense of calmne...'\n",
      "\n",
      "File: 000625.mp3, Similarità: 0.4795\n",
      "Description: 'A simple folk melody is played on a guitar with a harmonica accompanying it. There's no percussion or other instruments in this clip. The overall feel of the piece is happy and fun, suitable for a cou...'\n",
      "\n",
      "File: 000822.mp3, Similarità: 0.4725\n",
      "Description: 'A female vocalist sings this pop song. The tempo is medium with keyboard accompaniment, steady drumming rhythm, groovy bass line and electronic arrangements. The song has a dance groove and is futuris...'\n",
      "\n",
      "File: 000694.mp3, Similarità: 0.4662\n",
      "Description: 'The audio segment is from a hip-hop song characterized by a male voice rapping over a beat. There's no discernible presence of other instruments in this particular fragment. The tempo or rhythm of the...'\n",
      "\n",
      "File: 000534.mp3, Similarità: 0.4472\n",
      "Description: 'A solo acoustic guitar piece with a fingerpicking style and a gentle tempo creates a calming atmosphere. The music has a soft, mellow timbre that evokes feelings of tranquility and peace. It's suitabl...'\n",
      "\n"
     ]
    }
   ],
   "source": [
    "import os\n",
    "import pandas as pd\n",
    "import torch\n",
    "import numpy as np\n",
    "import sys\n",
    "import matplotlib.pyplot as plt\n",
    "from tqdm import tqdm\n",
    "from msclap import CLAP\n",
    "import traceback\n",
    "import string\n",
    "import nltk\n",
    "from nltk.corpus import stopwords\n",
    "from nltk.tokenize import word_tokenize\n",
    "\n",
    "# --- Scarica le risorse NLTK ---\n",
    "try:\n",
    "    nltk.data.find('corpora/stopwords')\n",
    "except:\n",
    "    nltk.download('stopwords')\n",
    "try:\n",
    "    nltk.data.find('tokenizers/punkt')\n",
    "except:\n",
    "    nltk.download('punkt')\n",
    "try:\n",
    "    nltk.data.find('tokenizers/punkt_tab')\n",
    "except:\n",
    "    nltk.download('punkt_tab')\n",
    "\n",
    "# --- 1. Initial Configuration ---\n",
    "device = \"cuda\" if torch.cuda.is_available() else \"cpu\"\n",
    "print(f\"Using device: {device}\")\n",
    "\n",
    "# Paths\n",
    "PATHS = {\n",
    "    \"csv_file\": r\"C:\\Users\\edoar\\Downloads\\audio_analysis_full_folder_with_features (1).csv\",\n",
    "    \"audio_files_folder\": r\"C:\\Users\\edoar\\Desktop\\le musiche\\000\",\n",
    "    \"clap_weights\": r\"C://Users//edoar//Downloads//CLAP_weights_2023.pth\",\n",
    "    \"output_statistics_csv\": r\"C:\\Users\\edoar\\CV_CMEAN_bufi_murolo\\Progetto\\Modulo Qwen Audio\\clap_similarity_statistics.csv\",\n",
    "    \"output_individual_similarities_csv\": r\"C:\\Users\\edoar\\CV_CMEAN_bufi_murolo\\Progetto\\Modulo Qwen Audio\\clap_individual_similarities.csv\"\n",
    "}\n",
    "\n",
    "# --- 2. Load CLAP Model ---\n",
    "try:\n",
    "    clap_model = CLAP(\n",
    "        version='2023',\n",
    "        model_fp=PATHS[\"clap_weights\"],\n",
    "        use_cuda=True if device == \"cuda\" else False\n",
    "    )\n",
    "    print(\"✅ CLAP model loaded successfully.\")\n",
    "except Exception as e:\n",
    "    print(f\"❌ Error loading CLAP model: {e}\")\n",
    "    traceback.print_exc(file=sys.stdout)\n",
    "    sys.exit(1)\n",
    "\n",
    "def read_song_data_from_csv(csv_path):\n",
    "    \"\"\"\n",
    "    Legge il file CSV, identifica i nomi dei file audio e costruisce una singola descrizione\n",
    "    concatenando i testi dei \"Fragment 1\", \"Fragment 2\", \"Fragment 3\" e \"Fragment 4\"\n",
    "    associati a ciascun brano.\n",
    "    \"\"\"\n",
    "    final_audio_filenames = []\n",
    "    final_descriptions = []\n",
    "    \n",
    "    try:\n",
    "        # Leggi l'intero file CSV, mantenendo i valori NA come stringhe vuote\n",
    "        df = pd.read_csv(csv_path, keep_default_na=False) \n",
    "        \n",
    "        print(\"\\nAnteprima del DataFrame:\")\n",
    "        print(df.head(10))\n",
    "\n",
    "        print(\"\\nColonne disponibili:\")\n",
    "        print(df.columns.tolist())\n",
    "        \n",
    "        # Cerca la colonna con i nomi dei file audio\n",
    "        possible_audio_columns = ['Song Name','Nome Canzone','Genre','Features Info','Description Type'] \n",
    "        audio_col = None\n",
    "        for col in possible_audio_columns:\n",
    "            if col in df.columns:\n",
    "                audio_col = col\n",
    "                break\n",
    "                \n",
    "        if audio_col is None:\n",
    "            print(\"❌ Nessuna colonna con i nomi dei file audio trovata tra le possibili opzioni.\")\n",
    "            return [], []\n",
    "\n",
    "        print(\"\\nInizio la raccolta delle descrizioni dai frammenti...\")\n",
    "        # Iteriamo su tutti gli indici del DataFrame\n",
    "        i = 0\n",
    "        while i < len(df):\n",
    "            current_filename_raw = str(df.loc[i, audio_col]).strip().replace('\"', '')\n",
    "            \n",
    "            # Controlliamo se questa riga è l'inizio di un nuovo brano (non un frammento)\n",
    "            if current_filename_raw and \\\n",
    "               current_filename_raw.lower() != 'nan' and \\\n",
    "               not current_filename_raw.lower().startswith('fragment') and \\\n",
    "               not current_filename_raw.lower().startswith('total'): # Aggiunto controllo anche su 'total' se per caso fosse nel nome del file\n",
    "                \n",
    "                song_name = current_filename_raw\n",
    "                combined_description_parts = []\n",
    "                \n",
    "                # Definiamo gli offset per i 4 frammenti\n",
    "                fragment_offsets = {\n",
    "                    0: \"Fragment 1\",\n",
    "                    1: \"Fragment 2\",\n",
    "                    2: \"Fragment 3\",\n",
    "                    3: \"Fragment 4\"\n",
    "                }\n",
    "\n",
    "                # Raccogliamo le descrizioni dei frammenti\n",
    "                for offset in range(4): # Controlliamo le 4 righe successive (idx, idx+1, idx+2, idx+3)\n",
    "                    fragment_row_idx = i + offset\n",
    "                    \n",
    "                    if fragment_row_idx >= len(df):\n",
    "                        # print(f\"DEBUG: Fine del DataFrame, impossibile trovare frammento {offset+1} per '{song_name}'.\")\n",
    "                        break # Fine del DataFrame, interrompiamo la ricerca dei frammenti per questo brano\n",
    "                    \n",
    "                    # Estrai il tipo di descrizione e il contenuto della descrizione dalla riga corrente\n",
    "                    desc_type = str(df.loc[fragment_row_idx, 'Description Type']).strip()\n",
    "                    desc_content = str(df.loc[fragment_row_idx, 'Description']).strip()\n",
    "\n",
    "                    # Verifica che il 'Description Type' corrisponda al frammento atteso\n",
    "                    if desc_type.lower() == fragment_offsets.get(offset, \"\").lower():\n",
    "                        if desc_content: # Aggiungi solo se il contenuto non è vuoto\n",
    "                            combined_description_parts.append(desc_content)\n",
    "                        # else:\n",
    "                        #     print(f\"DEBUG: Frammento {offset+1} per '{song_name}' trovato ma con descrizione vuota.\")\n",
    "                    # else:\n",
    "                        # print(f\"DEBUG: Salto riga {fragment_row_idx} per '{song_name}': 'Description Type' ('{desc_type}') non corrisponde a '{fragment_offsets.get(offset, '')}'.\")\n",
    "\n",
    "                # Concatena le descrizioni dei frammenti\n",
    "                combined_description = \" \".join(combined_description_parts).strip()\n",
    "                \n",
    "                # Se abbiamo una descrizione combinata valida, aggiungila alle liste finali\n",
    "                if combined_description:\n",
    "                    final_audio_filenames.append(song_name)\n",
    "                    final_descriptions.append(combined_description)\n",
    "                    # --- DEBUG PRINT ---\n",
    "                    print(f\"DEBUG: Trovata coppia valida: File='{song_name}' (indice inizio blocco: {i})\")\n",
    "                    print(f\"DEBUG: --> Descrizione combinata dai frammenti: '{combined_description[:150]}...'\") # Limita per leggibilità\n",
    "                    # --- FINE DEBUG PRINT ---\n",
    "                # else:\n",
    "                #     print(f\"DEBUG: Salto '{song_name}': Nessuna descrizione valida combinata dai frammenti.\")\n",
    "                \n",
    "                # Avanza l'indice di 5 righe (o al blocco successivo), includendo il 'Total' che non ci serve più.\n",
    "                # In questo modo, l'inizio del prossimo ciclo 'while' si troverà sull'inizio del prossimo brano.\n",
    "                i += 5 \n",
    "            else:\n",
    "                # Se non è l'inizio di un brano, avanza semplicemente alla prossima riga\n",
    "                i += 1\n",
    "\n",
    "        print(f\"\\n✅ Trovati {len(final_audio_filenames)} file audio e {len(final_descriptions)} descrizioni combinate dopo il filtro.\")\n",
    "        \n",
    "        # --- DEBUG PRINT FINALE ---\n",
    "        print(\"\\n--- Prime 5 coppie finali restituite da read_song_data_from_csv ---\")\n",
    "        for j in range(min(5, len(final_audio_filenames))):\n",
    "            print(f\"File [{j}]: '{final_audio_filenames[j]}'\")\n",
    "            print(f\"Descrizione [{j}]: '{final_descriptions[j][:100]}...'\") # Stampa i primi 100 caratteri\n",
    "        print(f\"Totale coppie processate: {len(final_audio_filenames)}\")\n",
    "        print(\"--------------------------------------------------\")\n",
    "        # --- FINE DEBUG PRINT FINALE ---\n",
    "\n",
    "    except Exception as e:\n",
    "        print(f\"❌ Errore nella lettura o nel filtro del CSV: {e}\")\n",
    "        traceback.print_exc(file=sys.stdout)\n",
    "        return [], []\n",
    "    \n",
    "    return final_audio_filenames, final_descriptions\n",
    "\n",
    "# --- Funzione di pulizia del testo ---\n",
    "def clean_description_text(text):\n",
    "    \"\"\"\n",
    "    Rimuove parole e frasi indesiderate dalla descrizione, normalizza e rimuove stop words.\n",
    "    \"\"\"\n",
    "    if not isinstance(text, str):\n",
    "        return \"\"\n",
    "\n",
    "    # 1. Converti in minuscolo\n",
    "    text = text.lower()\n",
    "\n",
    "    # 2. Rimuovi parole/frasi specifiche che sono \"rumore\"\n",
    "    phrases_to_remove = [\n",
    "        # Lasciato vuoto come nell'ultima versione fornita dall'utente, se vuoi aggiungere\n",
    "        # parole/frasi specifiche da rimuovere, aggiungile qui.\n",
    "    ]\n",
    "    phrases_to_remove.sort(key=len, reverse=True)\n",
    "\n",
    "    for phrase in phrases_to_remove:\n",
    "        text = text.replace(phrase, \" \")\n",
    "\n",
    "    # 3. Rimuovi punteggiatura\n",
    "    text = text.translate(str.maketrans('', '', string.punctuation))\n",
    "\n",
    "    # 4. Rimuovi numeri\n",
    "    text = ''.join([i for i in text if not i.isdigit()])\n",
    "\n",
    "    # 5. Tokenizza e rimuovi stop words\n",
    "    words = word_tokenize(text, language='italian')\n",
    "    stop_words_italian = set(stopwords.words('italian'))\n",
    "    filtered_words = [word for word in words if word.strip() and word not in stop_words_italian]\n",
    "    \n",
    "    # 6. Ricostruisci la stringa\n",
    "    text = \" \".join(filtered_words)\n",
    "    \n",
    "    # 7. Rimuovi spazi extra\n",
    "    text = \" \".join(text.split()).strip()\n",
    "    \n",
    "    # 8. Capitalizza la prima lettera\n",
    "    if text:\n",
    "        text = text[0].upper() + text[1:]\n",
    "\n",
    "    return text\n",
    "\n",
    "# --- 4. Load Data from CSV ---\n",
    "print(f\"\\nReading data from CSV file: {PATHS['csv_file']}\")\n",
    "audio_filenames, total_descriptions = read_song_data_from_csv(PATHS[\"csv_file\"])\n",
    "\n",
    "if not audio_filenames:\n",
    "    print(\"❌ Error: No valid audio filenames and total descriptions extracted from CSV after filtering.\")\n",
    "    sys.exit(1)\n",
    "\n",
    "# Stampa l'elenco dei file estratti dal CSV\n",
    "print(\"\\nElenco completo dei file audio estratti dal CSV (dopo la combinazione dei fragment):\")\n",
    "for i, filename in enumerate(audio_filenames):\n",
    "    if i < 10: # Stampa solo i primi 10 per non sovraccaricare l'output\n",
    "        print(f\"{i+1}. '{filename}'\")\n",
    "    elif i == 10:\n",
    "        print(\"...\")\n",
    "\n",
    "# Applica la pulizia alle descrizioni\n",
    "descriptions_cleaned = [clean_description_text(desc) for desc in total_descriptions]\n",
    "\n",
    "print(f\"\\n✅ Extracted {len(audio_filenames)} audio filenames and {len(descriptions_cleaned)} cleaned total descriptions from CSV.\")\n",
    "\n",
    "# --- 5. Extract Audio and Text Embeddings for each pair ---\n",
    "audio_embeddings_list = []\n",
    "text_embeddings_list = []\n",
    "processed_pairs_info = [] # This will store filename and original description for output\n",
    "\n",
    "print(\"\\nExtracting embeddings and computing similarities:\")\n",
    "for i in tqdm(range(len(audio_filenames)), desc=\"Processing Pairs\"):\n",
    "    filename = audio_filenames[i]\n",
    "    description_for_embedding = descriptions_cleaned[i]\n",
    "    description_original = total_descriptions[i] # Keep original for potential debugging/display\n",
    "    \n",
    "    print(f\"\\nProcessing file: '{filename}'\")\n",
    "    \n",
    "    MAX_TEXT_CHAR_LENGTH = 512\n",
    "    \n",
    "    if isinstance(description_for_embedding, str) and len(description_for_embedding) > MAX_TEXT_CHAR_LENGTH:\n",
    "        truncated_description = description_for_embedding[:MAX_TEXT_CHAR_LENGTH]\n",
    "        if not truncated_description.endswith('...'):\n",
    "            truncated_description += \"...\"\n",
    "    else:\n",
    "        truncated_description = description_for_embedding\n",
    "\n",
    "    # Controlla se il filename è vuoto o non valido\n",
    "    if not filename or str(filename).strip().lower() == 'nan':\n",
    "        print(f\"❌ Skipped: Invalid filename '{filename}'\")\n",
    "        continue\n",
    "\n",
    "    full_audio_path = os.path.join(PATHS[\"audio_files_folder\"], filename)\n",
    "\n",
    "    # Verifica se il file esiste\n",
    "    if not os.path.isfile(full_audio_path):\n",
    "        print(f\"❌ File not found: '{full_audio_path}'\")\n",
    "        # Prova con diverse estensioni\n",
    "        base_name, ext = os.path.splitext(filename)\n",
    "        extensions_to_try = ['.mp3', '.wav', '.flac', '.ogg']\n",
    "        found = False\n",
    "        \n",
    "        for ext in extensions_to_try:\n",
    "            attempt_path = os.path.join(PATHS[\"audio_files_folder\"], base_name + ext)\n",
    "            if os.path.isfile(attempt_path):\n",
    "                full_audio_path = attempt_path\n",
    "                found = True\n",
    "                print(f\"✅ Found alternative: '{full_audio_path}'\")\n",
    "                break\n",
    "                \n",
    "        if not found:\n",
    "            print(f\"❌ Could not find any audio file for '{filename}'\")\n",
    "            continue\n",
    "    \n",
    "    if not truncated_description.strip():\n",
    "        print(f\"⚠️ Skipped '{filename}': Description became empty after cleaning.\")\n",
    "        continue\n",
    "\n",
    "    try:\n",
    "        # Get audio embedding\n",
    "        print(f\"Processing audio: '{full_audio_path}'\")\n",
    "        audio_emb = clap_model.get_audio_embeddings([full_audio_path], resample=True)\n",
    "        \n",
    "        # Get text embedding\n",
    "        print(f\"Processing text: '{truncated_description[:50]}...'\")\n",
    "        text_emb = clap_model.get_text_embeddings([truncated_description])\n",
    "\n",
    "        audio_embeddings_list.append(audio_emb)\n",
    "        text_embeddings_list.append(text_emb)\n",
    "        processed_pairs_info.append({\n",
    "            'filename': os.path.basename(full_audio_path), \n",
    "            'description': description_original # Store original description here\n",
    "        })\n",
    "        print(f\"✅ Successfully processed '{filename}'\")\n",
    "\n",
    "    except Exception as e:\n",
    "        print(f\"❌ ERROR processing '{filename}': {str(e)}\")\n",
    "        traceback.print_exc(file=sys.stdout)\n",
    "        continue\n",
    "\n",
    "if not audio_embeddings_list:\n",
    "    print(\"\\n❌ Error: No audio-text pairs were successfully processed.\")\n",
    "    sys.exit(1)\n",
    "\n",
    "# Concatenate embeddings\n",
    "audio_embeddings_tensor = torch.vstack([e.squeeze(0) for e in audio_embeddings_list])\n",
    "text_embeddings_tensor = torch.vstack([e.squeeze(0) for e in text_embeddings_list])\n",
    "\n",
    "print(f\"\\n✅ Successfully extracted embeddings for {len(audio_embeddings_tensor)} pairs.\")\n",
    "\n",
    "# --- 6. Calculate Cosine Similarities ---\n",
    "audio_embeddings_norm = torch.nn.functional.normalize(audio_embeddings_tensor, p=2, dim=-1)\n",
    "text_embeddings_norm = torch.nn.functional.normalize(text_embeddings_tensor, p=2, dim=-1)\n",
    "\n",
    "similarities = (audio_embeddings_norm * text_embeddings_norm).sum(dim=-1)\n",
    "similarities_np = similarities.cpu().detach().numpy()\n",
    "\n",
    "print(f\"✅ Calculated {len(similarities_np)} audio-text similarities.\")\n",
    "\n",
    "# --- 7. Visualizzazione Distribuzione Similarità ---\n",
    "plt.figure(figsize=(10, 6))\n",
    "plt.hist(similarities_np, bins=30, color='skyblue', edgecolor='black')\n",
    "plt.title(\"Distribuzione Similarità Audio-Description (CLAP)\")\n",
    "plt.xlabel(\"Similarità Coseno\")\n",
    "plt.ylabel(\"Frequenza\")\n",
    "plt.grid(True)\n",
    "plt.tight_layout()\n",
    "plt.show()\n",
    "\n",
    "# --- 8. Statistiche Complessive ---\n",
    "print(\"\\n=== Statistiche Complessive Similarità Audio-Description (CLAP) ===\")\n",
    "num_pairs = len(similarities_np)\n",
    "mean_sim = np.mean(similarities_np)\n",
    "median_sim = np.median(similarities_np)\n",
    "std_sim = np.std(similarities_np)\n",
    "min_sim = np.min(similarities_np)\n",
    "max_sim = np.max(similarities_np)\n",
    "\n",
    "print(f\"Numero di coppie elaborate: {num_pairs}\")\n",
    "print(f\"Media: {mean_sim:.4f}\")\n",
    "print(f\"Mediana: {median_sim:.4f}\")\n",
    "print(f\"Deviazione standard: {std_sim:.4f}\")\n",
    "print(f\"Minima: {min_sim:.4f}\")\n",
    "print(f\"Massima: {max_sim:.4f}\")\n",
    "\n",
    "# --- 9. Salvataggio Statistiche Complessive su CSV ---\n",
    "try:\n",
    "    stats_df = pd.DataFrame({\n",
    "        'Metric': ['Numero di Coppie', 'Media', 'Mediana', 'Deviazione Standard', 'Minima', 'Massima'],\n",
    "        'Value': [num_pairs, mean_sim, median_sim, std_sim, min_sim, max_sim]\n",
    "    })\n",
    "    stats_df.to_csv(PATHS[\"output_statistics_csv\"], index=False)\n",
    "    print(f\"\\n✅ Statistiche complessive salvate in '{PATHS['output_statistics_csv']}'\")\n",
    "except Exception as e:\n",
    "    print(f\"❌ Errore durante il salvataggio delle statistiche: {e}\")\n",
    "    traceback.print_exc(file=sys.stdout)\n",
    "\n",
    "# --- 10. Salvataggio Similarità Individuali (MODIFIED) ---\n",
    "if processed_pairs_info:\n",
    "    individual_similarities_data = []\n",
    "    for idx, pair_info in enumerate(processed_pairs_info):\n",
    "        individual_similarities_data.append({\n",
    "            'Filename Audio': pair_info['filename'],\n",
    "            'Similarita Coseno': similarities_np[idx] \n",
    "        })\n",
    "    \n",
    "    try:\n",
    "        individual_sim_df = pd.DataFrame(individual_similarities_data)\n",
    "        individual_sim_df.to_csv(PATHS[\"output_individual_similarities_csv\"], index=False)\n",
    "        print(f\"✅ Similarità individuali salvate in '{PATHS['output_individual_similarities_csv']}' (senza colonna 'Descrizione Testo')\")\n",
    "    except Exception as e:\n",
    "        print(f\"❌ Errore durante il salvataggio delle similarità individuali: {e}\")\n",
    "        traceback.print_exc(file=sys.stdout)\n",
    "else:\n",
    "    print(\"\\n⚠️ Nessuna coppia audio-testo elaborata.\")\n",
    "\n",
    "# --- 11. Visualizza Esempi Migliori e Peggiori ---\n",
    "def print_similarity_examples(indices, title, data_info, similarities_scores, num_examples=5):\n",
    "    print(f\"\\n=== {title} ===\")\n",
    "    for i, idx in enumerate(indices):\n",
    "        if i >= num_examples:\n",
    "            break\n",
    "        filename = data_info[idx]['filename']\n",
    "        description = data_info[idx]['description'] \n",
    "        sim_score = similarities_scores[idx]\n",
    "        print(f\"File: {filename}, Similarità: {sim_score:.4f}\")\n",
    "        print(f\"Description: '{description[:200]}...'\\n\")\n",
    "\n",
    "# Ordina gli indici per similarità\n",
    "sorted_indices = np.argsort(similarities_np)\n",
    "\n",
    "# Visualizza i 5 peggiori match\n",
    "print_similarity_examples(sorted_indices[:5], \"🔻 Peggiori match Audio-Description\", processed_pairs_info, similarities_np)\n",
    "\n",
    "# Visualizza i 5 migliori match\n",
    "print_similarity_examples(sorted_indices[-5:][::-1], \"🔺 Migliori match Audio-Description\", processed_pairs_info, similarities_np)\n",
    "\n"
   ]
  },
  {
   "cell_type": "code",
   "execution_count": null,
   "id": "2ea71c4e-7575-41d4-bcc5-d8b70246da84",
   "metadata": {},
   "outputs": [],
   "source": []
  }
 ],
 "metadata": {
  "kernelspec": {
   "display_name": "Python [conda env:clap_env]",
   "language": "python",
   "name": "conda-env-clap_env-py"
  },
  "language_info": {
   "codemirror_mode": {
    "name": "ipython",
    "version": 3
   },
   "file_extension": ".py",
   "mimetype": "text/x-python",
   "name": "python",
   "nbconvert_exporter": "python",
   "pygments_lexer": "ipython3",
   "version": "3.10.18"
  }
 },
 "nbformat": 4,
 "nbformat_minor": 5
}
